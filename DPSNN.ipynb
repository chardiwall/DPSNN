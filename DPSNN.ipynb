{
  "cells": [
    {
      "cell_type": "markdown",
      "metadata": {
        "id": "view-in-github",
        "colab_type": "text"
      },
      "source": [
        "<a href=\"https://colab.research.google.com/github/chardiwall/DPSNN/blob/main/DPSNN.ipynb\" target=\"_parent\"><img src=\"https://colab.research.google.com/assets/colab-badge.svg\" alt=\"Open In Colab\"/></a>"
      ]
    },
    {
      "cell_type": "markdown",
      "metadata": {
        "id": "9TwYDVep0-oO"
      },
      "source": [
        "# Project Discription\n",
        "**Title:** DPSNN (A Differentially Private Spiking Neural Network with Temporal Enhanced Polling).\n",
        "\n",
        "**Objectives:** Implementation of the [paper](https://arxiv.org/pdf/2205.12718.pdf).\n",
        "\n",
        "**Discription:** The project is set in the context of the growing field of social robotics, which involves the deployment of robots in human-centric environments. These environments can range from healthcare facilities and educational institutions to customer service and domestic settings. The unique aspect of this project lies in its focus on privacy-preserving mechanisms, an increasingly critical concern in today's data-driven world.\n",
        "\n",
        "\n",
        "[GitHub Link](https://github.com/chardiwall/DPSNN)\n",
        "\n",
        "---\n",
        "## Frameworks\n",
        "SNN Framwork: [SNNTorch](https://snntorch.readthedocs.io/en/latest/)\n",
        "\n",
        "DP Framwork: [Opacus](https://github.com/pytorch/opacus)\n",
        "\n",
        "Neuromorphic Dataset Framewrok: [Tonic](https://github.com/neuromorphs/tonic)\n",
        "\n",
        "---\n",
        "## Datasets\n",
        "\n",
        "| Static      | Neuromorphic |\n",
        "--------------|----------------\n",
        "| [CIFAR10](https://www.cs.toronto.edu/~kriz/cifar.html)      |[N-MNIST](https://www.garrickorchard.com/datasets/n-mnist#h.p_ID_38) |\n",
        "| [MNIST](https://yann.lecun.com/exdb/mnist/)      | [CIFAR10-DVS](https://figshare.com/articles/dataset/CIFAR10-DVS_New/4724671/2) |\n",
        "| [Fashion-MNIST](https://github.com/zalandoresearch/fashion-mnist)      |   |\n",
        "\n",
        "---\n"
      ]
    },
    {
      "cell_type": "markdown",
      "metadata": {
        "id": "WFHM-9gk2Bug"
      },
      "source": [
        "# Loading Essential Libraries"
      ]
    },
    {
      "cell_type": "code",
      "execution_count": 1,
      "metadata": {
        "id": "HEGy77YL3Aug",
        "colab": {
          "base_uri": "https://localhost:8080/"
        },
        "outputId": "739fab18-05dc-4326-a543-6d8c31ce314c"
      },
      "outputs": [
        {
          "output_type": "stream",
          "name": "stdout",
          "text": [
            "\u001b[2K     \u001b[90m━━━━━━━━━━━━━━━━━━━━━━━━━━━━━━━━━━━━━━━━\u001b[0m \u001b[32m226.7/226.7 kB\u001b[0m \u001b[31m2.5 MB/s\u001b[0m eta \u001b[36m0:00:00\u001b[0m\n",
            "\u001b[2K     \u001b[90m━━━━━━━━━━━━━━━━━━━━━━━━━━━━━━━━━━━━━━━━\u001b[0m \u001b[32m23.7/23.7 MB\u001b[0m \u001b[31m6.6 MB/s\u001b[0m eta \u001b[36m0:00:00\u001b[0m\n",
            "\u001b[2K     \u001b[90m━━━━━━━━━━━━━━━━━━━━━━━━━━━━━━━━━━━━━━━━\u001b[0m \u001b[32m823.6/823.6 kB\u001b[0m \u001b[31m13.8 MB/s\u001b[0m eta \u001b[36m0:00:00\u001b[0m\n",
            "\u001b[2K     \u001b[90m━━━━━━━━━━━━━━━━━━━━━━━━━━━━━━━━━━━━━━━━\u001b[0m \u001b[32m14.1/14.1 MB\u001b[0m \u001b[31m10.7 MB/s\u001b[0m eta \u001b[36m0:00:00\u001b[0m\n",
            "\u001b[2K     \u001b[90m━━━━━━━━━━━━━━━━━━━━━━━━━━━━━━━━━━━━━━━━\u001b[0m \u001b[32m731.7/731.7 MB\u001b[0m \u001b[31m838.6 kB/s\u001b[0m eta \u001b[36m0:00:00\u001b[0m\n",
            "\u001b[2K     \u001b[90m━━━━━━━━━━━━━━━━━━━━━━━━━━━━━━━━━━━━━━━━\u001b[0m \u001b[32m410.6/410.6 MB\u001b[0m \u001b[31m2.9 MB/s\u001b[0m eta \u001b[36m0:00:00\u001b[0m\n",
            "\u001b[2K     \u001b[90m━━━━━━━━━━━━━━━━━━━━━━━━━━━━━━━━━━━━━━━━\u001b[0m \u001b[32m121.6/121.6 MB\u001b[0m \u001b[31m8.6 MB/s\u001b[0m eta \u001b[36m0:00:00\u001b[0m\n",
            "\u001b[2K     \u001b[90m━━━━━━━━━━━━━━━━━━━━━━━━━━━━━━━━━━━━━━━━\u001b[0m \u001b[32m56.5/56.5 MB\u001b[0m \u001b[31m13.2 MB/s\u001b[0m eta \u001b[36m0:00:00\u001b[0m\n",
            "\u001b[2K     \u001b[90m━━━━━━━━━━━━━━━━━━━━━━━━━━━━━━━━━━━━━━━━\u001b[0m \u001b[32m124.2/124.2 MB\u001b[0m \u001b[31m6.0 MB/s\u001b[0m eta \u001b[36m0:00:00\u001b[0m\n",
            "\u001b[2K     \u001b[90m━━━━━━━━━━━━━━━━━━━━━━━━━━━━━━━━━━━━━━━━\u001b[0m \u001b[32m196.0/196.0 MB\u001b[0m \u001b[31m2.3 MB/s\u001b[0m eta \u001b[36m0:00:00\u001b[0m\n",
            "\u001b[2K     \u001b[90m━━━━━━━━━━━━━━━━━━━━━━━━━━━━━━━━━━━━━━━━\u001b[0m \u001b[32m166.0/166.0 MB\u001b[0m \u001b[31m7.3 MB/s\u001b[0m eta \u001b[36m0:00:00\u001b[0m\n",
            "\u001b[2K     \u001b[90m━━━━━━━━━━━━━━━━━━━━━━━━━━━━━━━━━━━━━━━━\u001b[0m \u001b[32m99.1/99.1 kB\u001b[0m \u001b[31m11.9 MB/s\u001b[0m eta \u001b[36m0:00:00\u001b[0m\n",
            "\u001b[2K     \u001b[90m━━━━━━━━━━━━━━━━━━━━━━━━━━━━━━━━━━━━━━━━\u001b[0m \u001b[32m21.1/21.1 MB\u001b[0m \u001b[31m66.4 MB/s\u001b[0m eta \u001b[36m0:00:00\u001b[0m\n",
            "\u001b[2K     \u001b[90m━━━━━━━━━━━━━━━━━━━━━━━━━━━━━━━━━━━━━━━━\u001b[0m \u001b[32m125.2/125.2 kB\u001b[0m \u001b[31m3.2 MB/s\u001b[0m eta \u001b[36m0:00:00\u001b[0m\n",
            "\u001b[2K     \u001b[90m━━━━━━━━━━━━━━━━━━━━━━━━━━━━━━━━━━━━━━━━\u001b[0m \u001b[32m76.2/76.2 kB\u001b[0m \u001b[31m9.6 MB/s\u001b[0m eta \u001b[36m0:00:00\u001b[0m\n",
            "\u001b[2K     \u001b[90m━━━━━━━━━━━━━━━━━━━━━━━━━━━━━━━━━━━━━━━━\u001b[0m \u001b[32m110.7/110.7 kB\u001b[0m \u001b[31m3.1 MB/s\u001b[0m eta \u001b[36m0:00:00\u001b[0m\n",
            "\u001b[2K     \u001b[90m━━━━━━━━━━━━━━━━━━━━━━━━━━━━━━━━━━━━━━━━\u001b[0m \u001b[32m107.5/107.5 kB\u001b[0m \u001b[31m10.2 MB/s\u001b[0m eta \u001b[36m0:00:00\u001b[0m\n",
            "\u001b[2K     \u001b[90m━━━━━━━━━━━━━━━━━━━━━━━━━━━━━━━━━━━━━━━━\u001b[0m \u001b[32m50.4/50.4 kB\u001b[0m \u001b[31m4.7 MB/s\u001b[0m eta \u001b[36m0:00:00\u001b[0m\n",
            "\u001b[?25h"
          ]
        }
      ],
      "source": [
        "!pip install -q opacus\n",
        "!pip install -q snntorch\n",
        "!pip install -q tonic\n",
        "!pip install -q einops"
      ]
    },
    {
      "cell_type": "code",
      "execution_count": 2,
      "metadata": {
        "id": "V3pG9qP43SUH"
      },
      "outputs": [],
      "source": [
        "import os\n",
        "import sys\n",
        "from copy import copy\n",
        "\n",
        "import numpy as np\n",
        "import seaborn as sns\n",
        "import matplotlib.pyplot as plt\n",
        "\n",
        "import torch\n",
        "from torch import nn\n",
        "from torch.utils.data import Dataset, DataLoader\n",
        "\n",
        "from torchsummary import summary\n",
        "from torchvision import datasets, transforms\n",
        "\n",
        "import tonic\n",
        "\n",
        "import snntorch as snn\n",
        "from snntorch import functional as SF\n",
        "from snntorch import spikeplot as splt\n",
        "from snntorch import utils, surrogate\n",
        "\n",
        "from opacus import PrivacyEngine\n"
      ]
    },
    {
      "cell_type": "markdown",
      "metadata": {
        "id": "eRVHqqevWViG"
      },
      "source": [
        "## Loading Datasets"
      ]
    },
    {
      "cell_type": "markdown",
      "source": [
        "<details>\n",
        "<summary>Unzipping and Loading Data</summary>\n",
        "\n",
        "    base_dir_path = '/content/drive/MyDrive/Colab Notebooks/DPSNN/N-MNIST/'\n",
        "    train_zip_name = 'Copy of Train'\n",
        "    test_zip_name = 'Copy of Test'\n",
        "    for zip_file in [train_zip_name, test_zip_name]:\n",
        "    zip_path = os.path.join(base_dir_path, zip_file+'.zip')\n",
        "    with ZipFile(zip_path, 'r') as zip_ref:\n",
        "        extraction_path = os.path.join(base_dir_path, zip_file)\n",
        "        if not (os.path.exists(extraction_path)):\n",
        "        os.mkdir(extraction_path)\n",
        "        zip_ref.extractall(base_dir_path)\n",
        "\n",
        "    # CIFAR10-DVS\n",
        "    base_dir_path = '/content/drive/MyDrive/Colab Notebooks/DPSNN/CIFAR10-DVS'\n",
        "    file_name = 'CIFAR10-DVS.zip'\n",
        "    with ZipFile(os.path.join(base_dir_path, file_name), 'r') as zip_ref:\n",
        "        zip_ref.extractall(base_dir_path)\n",
        "\n",
        "</details>\n"
      ],
      "metadata": {
        "id": "-Z_ZlrzN5okE"
      }
    },
    {
      "cell_type": "code",
      "execution_count": 3,
      "metadata": {
        "id": "BoQr-tHJtQt0"
      },
      "outputs": [],
      "source": [
        "def fetch_data(name='mnist', batch_size=64, shuffle=True):\n",
        "    \"\"\"\n",
        "    Loads and returns data loaders for a given dataset.\n",
        "\n",
        "    Args:\n",
        "        name (str): Name of the dataset to be loaded. Supported datasets are 'mnist', 'fashion-mnist', 'cifar-10', 'nmnist', and 'cifar-10-dvs'.\n",
        "        batch_size (int, optional): Number of samples per batch to load.\n",
        "        shuffle (bool, optional): Whether to shuffle the dataset at every epoch.\n",
        "\n",
        "    Returns:\n",
        "        Tuple[DataLoader, DataLoader]: A tuple containing training and test data loaders.\n",
        "    \"\"\"\n",
        "\n",
        "    name = name.lower()\n",
        "\n",
        "    # Handling static datasets: MNIST, Fashion-MNIST, and CIFAR-10\n",
        "    if name in ['mnist', 'fashion-mnist', 'cifar-10']:\n",
        "\n",
        "        # Define a common transformation pipeline for the static datasets\n",
        "        transform = transforms.Compose([\n",
        "            transforms.Resize(size=(28, 28)),  # Resize images to 28x28 pixels\n",
        "            transforms.Grayscale(),  # Convert images to grayscale\n",
        "            transforms.ToTensor(),  # Convert images to PyTorch tensors\n",
        "            transforms.Normalize((0,), (1,))  # Normalize tensors\n",
        "        ])\n",
        "\n",
        "        # Load MNIST dataset\n",
        "        if name == 'mnist':\n",
        "            train = datasets.MNIST(root='.', train=True, transform=transform, download=True)\n",
        "            test = datasets.MNIST(root='.', train=False, transform=transform, download=True)\n",
        "\n",
        "        # Load Fashion MNIST dataset\n",
        "        elif name == 'fashion-mnist':\n",
        "            train = datasets.FashionMNIST(root='.', train=True, transform=transform, download=True)\n",
        "            test = datasets.FashionMNIST(root='.', train=False, transform=transform, download=True)\n",
        "\n",
        "        # Load CIFAR-10 dataset\n",
        "        elif name == 'cifar-10':\n",
        "            train = datasets.CIFAR10('.', train=True, transform=transform, download=True)\n",
        "            test = datasets.CIFAR10('.', train=False, transform=transform, download=True)\n",
        "\n",
        "        # Create data loaders for training and testing sets\n",
        "        train_loader = DataLoader(train, batch_size=batch_size, shuffle=shuffle, drop_last=True)\n",
        "        test_loader = DataLoader(test, batch_size=batch_size, shuffle=shuffle, drop_last=True)\n",
        "\n",
        "    # Handling neuromorphic datasets: NMNIST and CIFAR-10-DVS\n",
        "    elif name in ['nmnist', 'cifar-10-dvs']:\n",
        "        # Determine sensor size based on the dataset\n",
        "        sensor_size = tonic.datasets.NMNIST.sensor_size if name == 'nmnist' else tonic.datasets.CIFAR10DVS.sensor_size\n",
        "\n",
        "        # Define a transformation pipeline for neuromorphic datasets\n",
        "        transform = tonic.transforms.Compose([\n",
        "            tonic.transforms.Denoise(filter_time=10000),  # Apply denoising with a 10ms filter\n",
        "            tonic.transforms.ToFrame(sensor_size=sensor_size, time_window=1000)  # Convert events to frames\n",
        "        ])\n",
        "\n",
        "        # Load NMNIST dataset\n",
        "        if name == 'nmnist':\n",
        "            train = tonic.datasets.NMNIST('.', train=True, transform=transform)\n",
        "            test = tonic.datasets.NMNIST('.', train=False, transform=transform)\n",
        "\n",
        "        # Load CIFAR-10-DVS dataset\n",
        "        else:\n",
        "            train = tonic.datasets.CIFAR10DVS('.', train=True, transform=transform)\n",
        "            test = tonic.datasets.CIFAR10DVS('.', train=False, transform=transform)\n",
        "\n",
        "        # Create data loaders for training and testing sets\n",
        "        # Note: `collat_fn` should be `collate_fn`\n",
        "        train_loader = DataLoader(train, batch_size=batch_size, collate_fn=tonic.collation.PadTensors(batch_first=False), shuffle = shuffle)\n",
        "        test_loader = DataLoader(test, batch_size=batch_size, collate_fn=tonic.collation.PadTensors(batch_first = False))\n",
        "    else:\n",
        "        raise Exception(f'Error! {name} dataset not found...')\n",
        "\n",
        "    return train_loader, test_loader\n"
      ]
    },
    {
      "cell_type": "markdown",
      "metadata": {
        "id": "ThWOqbh5ZfDN"
      },
      "source": [
        "# Building SNN Architectures"
      ]
    },
    {
      "cell_type": "markdown",
      "metadata": {
        "id": "TcX4NvIsxArl"
      },
      "source": [
        "\n",
        "<details>\n",
        "<summary> Show Code Block </summary>\n",
        "```\n",
        "class SNN(nn.Module):\n",
        "  def __init__(self):\n",
        "    super().__init__()\n",
        "\n",
        "    # First convolutional block\n",
        "    self.cb_01 = nn.Sequential(\n",
        "        nn.Conv2d(in_channels = 1, out_channels = 12, kernel_size = 5),\n",
        "        nn.GroupNorm(num_groups = 6, num_channels= 12),\n",
        "        snn.Leaky(beta = 0.5, spike_grad = surrogate.fast_sigmoid(slope = 25), init_hidden = True),\n",
        "    )\n",
        "\n",
        "    # Second convolutional block\n",
        "    self.cb_02 = nn.Sequential(\n",
        "        nn.Conv2d(in_channels = 12, out_channels = 64, kernel_size = 5),\n",
        "        nn.GroupNorm(num_groups = 8, num_channels = 64),\n",
        "        snn.Leaky(beta = 0.5, spike_grad = surrogate.fast_sigmoid(slope = 25), init_hidden = True),\n",
        "    )\n",
        "\n",
        "    # Average pooling layer\n",
        "    self.pooling = nn.AvgPool2d(3)\n",
        "\n",
        "    # Third convolutional block\n",
        "    self.cb_03 = nn.Sequential(\n",
        "        nn.Conv2d(in_channels = 64, out_channels = 128, kernel_size = 5),\n",
        "        nn.GroupNorm(num_groups = 8, num_channels = 128),\n",
        "        snn.Leaky(beta = 0.5, spike_grad = surrogate.fast_sigmoid(slope = 25), init_hidden = True),\n",
        "    )\n",
        "\n",
        "    # Fully Connected Layer\n",
        "    self.FC = nn.Sequential(\n",
        "        nn.Flatten(),\n",
        "        nn.Linear(in_features = 128 * 2 * 2, out_features= 10),\n",
        "        snn.Leaky(beta = 0.5, spike_grad = surrogate.fast_sigmoid(slope = 25), init_hidden = True, output=True)\n",
        "    )\n",
        "    \n",
        "  def forward(self, x):\n",
        "    # Forward pass through the network\n",
        "    x = self.cb_01(x)\n",
        "    x = self.cb_02(x)\n",
        "    x = self.pooling(x)\n",
        "    x = self.cb_03(x)\n",
        "    x = self.FC(x)\n",
        "\n",
        "    return x\n",
        "```\n",
        "</details>"
      ]
    },
    {
      "cell_type": "code",
      "execution_count": 4,
      "metadata": {
        "id": "Y6PiDfncsNWa"
      },
      "outputs": [],
      "source": [
        "# using gpu if available\n",
        "device = torch.device('cuda') if torch.cuda.is_available() else 'cpu'"
      ]
    },
    {
      "cell_type": "code",
      "execution_count": 26,
      "metadata": {
        "id": "M0bnQscP90CW"
      },
      "outputs": [],
      "source": [
        "def fetch_model(model_name = 'mnist', show_summary = True, batch_size = -1):\n",
        "    \"\"\"\n",
        "    Creates and returns a neural network model based on the specified model name.\n",
        "\n",
        "    Args:\n",
        "        model_name (str, optional): Name of the model to fetch. Supported models are 'mnist', 'fashion-mnist', 'nmnist', 'cifar-10', and 'cifar-10-dvs'.\n",
        "        show_summary (bool, optional): If True, prints a summary of the model, detailing layers, output shapes, and parameter counts.\n",
        "        batch_size (int, optional): Specifies the batch size for the model summary. This does not affect model architecture.\n",
        "\n",
        "    Returns:\n",
        "        torch.nn.Module: The constructed neural network model.\n",
        "    \"\"\"\n",
        "    model_name = model_name.lower()\n",
        "\n",
        "    # Check if the model name is for MNIST, Fashion-MNIST, or NMNIST datasets\n",
        "    if model_name in ['mnist', 'fashion-mnist', 'nmnist']:\n",
        "        in_channels, in_feature = (2, 1600) if model_name == 'nmnist' else (1, 1024)\n",
        "        net = nn.Sequential(\n",
        "            # First convolution block\n",
        "            nn.Conv2d(in_channels = in_channels, out_channels = 32, kernel_size = 7),\n",
        "            # nn.GroupNorm(num_groups = 8, num_channels= 32),\n",
        "            snn.Leaky(beta = 0.5, spike_grad = surrogate.fast_sigmoid(slope = 25), init_hidden = True),\n",
        "\n",
        "            # Pooling\n",
        "            nn.AvgPool2d(2),\n",
        "\n",
        "            #Second convolution block\n",
        "            nn.Conv2d(in_channels = 32, out_channels = 64, kernel_size = 4),\n",
        "            # nn.GroupNorm(num_groups = 8, num_channels = 64),\n",
        "            snn.Leaky(beta = 0.5, spike_grad = surrogate.fast_sigmoid(slope = 25), init_hidden = True),\n",
        "\n",
        "            # Pooling\n",
        "            nn.AvgPool2d(2),\n",
        "\n",
        "            # Fully connected or output block\n",
        "            nn.Flatten(),\n",
        "            nn.Linear(in_features = in_feature, out_features= 10),\n",
        "            snn.Leaky(beta = 0.5, spike_grad = surrogate.fast_sigmoid(slope = 25), init_hidden = True, output=True)\n",
        "        )\n",
        "\n",
        "    # Check if the model name is for CIFAR-10 dataset\n",
        "    elif model_name == 'cifar-10':\n",
        "        net = nn.Sequential(\n",
        "            # First convolution block\n",
        "            nn.Conv2d(in_channels = 1, out_channels = 64, kernel_size = 3, stride = 1),\n",
        "            nn.GroupNorm(num_groups = 8, num_channels= 64),\n",
        "            snn.Leaky(beta = 0.5, spike_grad = surrogate.fast_sigmoid(slope = 25), init_hidden = True),\n",
        "\n",
        "            # Second convolution block\n",
        "            nn.Conv2d(in_channels = 64, out_channels = 64, kernel_size = 3, stride = 1),\n",
        "            nn.GroupNorm(num_groups = 8, num_channels= 64),\n",
        "            snn.Leaky(beta = 0.5, spike_grad = surrogate.fast_sigmoid(slope = 25), init_hidden = True),\n",
        "\n",
        "            # Pooling\n",
        "            nn.AvgPool2d(5),\n",
        "\n",
        "            # Third convolution block\n",
        "            nn.Conv2d(in_channels = 64, out_channels = 128, kernel_size = 3, stride = 1),\n",
        "            nn.GroupNorm(num_groups = 8, num_channels= 128),\n",
        "            snn.Leaky(beta = 0.5, spike_grad = surrogate.fast_sigmoid(slope = 25), init_hidden = True),\n",
        "\n",
        "            # Forth convolution block\n",
        "            nn.Conv2d(in_channels = 128, out_channels = 128, kernel_size = 3, stride = 1),\n",
        "            nn.GroupNorm(num_groups = 8, num_channels= 128),\n",
        "            snn.Leaky(beta = 0.5, spike_grad = surrogate.fast_sigmoid(slope = 25), init_hidden = True),\n",
        "\n",
        "            # Pooling\n",
        "            nn.AvgPool2d(5),\n",
        "\n",
        "            # Fifth convolution block\n",
        "            nn.Conv2d(in_channels = 128, out_channels = 128, kernel_size = 3, stride = 1),\n",
        "            nn.GroupNorm(num_groups = 8, num_channels= 128),\n",
        "            snn.Leaky(beta = 0.5, spike_grad = surrogate.fast_sigmoid(slope = 25), init_hidden = True),\n",
        "\n",
        "            # Sixth convolution block\n",
        "            nn.Conv2d(in_channels = 128, out_channels = 128, kernel_size = 3, stride = 1),\n",
        "            nn.GroupNorm(num_groups = 8, num_channels= 128),\n",
        "            snn.Leaky(beta = 0.5, spike_grad = surrogate.fast_sigmoid(slope = 25), init_hidden = True),\n",
        "\n",
        "            # Pooling\n",
        "            nn.AvgPool2d(5),\n",
        "\n",
        "            # Seventh convolution block\n",
        "            nn.Conv2d(in_channels = 128, out_channels = 256, kernel_size = 3, stride = 1),\n",
        "            nn.GroupNorm(num_groups = 8, num_channels= 256),\n",
        "            snn.Leaky(beta = 0.5, spike_grad = surrogate.fast_sigmoid(slope = 25), init_hidden = True),\n",
        "\n",
        "            # eighth convolution block\n",
        "            nn.Conv2d(in_channels = 256, out_channels = 256, kernel_size = 3, stride = 1),\n",
        "            nn.GroupNorm(num_groups = 8, num_channels= 256),\n",
        "            snn.Leaky(beta = 0.5, spike_grad = surrogate.fast_sigmoid(slope = 25), init_hidden = True),\n",
        "\n",
        "            # Pooling\n",
        "            nn.AvgPool2d(4),\n",
        "\n",
        "            # Fully connected or output block\n",
        "            nn.Flatten(),\n",
        "            nn.Linear(in_features = 256 * 4 * 4, out_features= 10),\n",
        "            snn.Leaky(beta = 0.5, spike_grad = surrogate.fast_sigmoid(slope = 25), init_hidden = True, output=True)\n",
        "            )\n",
        "\n",
        "    # Check if the model name is for CIFAR-10-DVS dataset\n",
        "    elif model_name == 'cifar-10-dvs':\n",
        "        net = nn.Sequential(\n",
        "            # First convolution block\n",
        "            nn.Conv2d(in_channels = 1, out_channels = 64, kernel_size = 3, stride = 1),\n",
        "            nn.GroupNorm(num_groups = 8, num_channels= 64),\n",
        "            snn.Leaky(beta = 0.5, spike_grad = surrogate.fast_sigmoid(slope = 25), init_hidden = True),\n",
        "\n",
        "            # Second convolution block\n",
        "            nn.Conv2d(in_channels = 64, out_channels = 64, kernel_size = 3, stride = 1),\n",
        "            nn.GroupNorm(num_groups = 8, num_channels= 64),\n",
        "            snn.Leaky(beta = 0.5, spike_grad = surrogate.fast_sigmoid(slope = 25), init_hidden = True),\n",
        "\n",
        "            # Pooling\n",
        "            nn.AvgPool2d(4),\n",
        "\n",
        "            # Third convolution block\n",
        "            nn.Conv2d(in_channels = 64, out_channels = 128, kernel_size = 3, stride = 1),\n",
        "            nn.GroupNorm(num_groups = 8, num_channels= 128),\n",
        "            snn.Leaky(beta = 0.5, spike_grad = surrogate.fast_sigmoid(slope = 25), init_hidden = True),\n",
        "\n",
        "            # Pooling\n",
        "            nn.AvgPool2d(4),\n",
        "\n",
        "            # Forth convolution block\n",
        "            nn.Conv2d(in_channels = 128, out_channels = 256, kernel_size = 3, stride = 1),\n",
        "            nn.GroupNorm(num_groups = 8, num_channels= 256),\n",
        "            snn.Leaky(beta = 0.5, spike_grad = surrogate.fast_sigmoid(slope = 25), init_hidden = True),\n",
        "\n",
        "            # Fifth convolution block\n",
        "            nn.Conv2d(in_channels = 256, out_channels = 256, kernel_size = 3, stride = 1),\n",
        "            nn.GroupNorm(num_groups = 8, num_channels= 256),\n",
        "            snn.Leaky(beta = 0.5, spike_grad = surrogate.fast_sigmoid(slope = 25), init_hidden = True),\n",
        "\n",
        "            # Pooling\n",
        "            nn.AvgPool2d(4),\n",
        "\n",
        "            # Sixth convolution block\n",
        "            nn.Conv2d(in_channels = 256, out_channels = 512, kernel_size = 3, stride = 1),\n",
        "            nn.GroupNorm(num_groups = 8, num_channels= 512),\n",
        "            snn.Leaky(beta = 0.5, spike_grad = surrogate.fast_sigmoid(slope = 25), init_hidden = True),\n",
        "\n",
        "            # Pooling\n",
        "            nn.AvgPool2d(4),\n",
        "\n",
        "            # Seventh convolution block\n",
        "            nn.Conv2d(in_channels = 512, out_channels = 1024, kernel_size = 3, stride = 1),\n",
        "            nn.GroupNorm(num_groups = 8, num_channels= 1024),\n",
        "            snn.Leaky(beta = 0.5, spike_grad = surrogate.fast_sigmoid(slope = 25), init_hidden = True),\n",
        "\n",
        "            # Fifth convolution block\n",
        "            nn.Conv2d(in_channels = 1024, out_channels = 1024, kernel_size = 3, stride = 1),\n",
        "            nn.GroupNorm(num_groups = 8, num_channels= 1024),\n",
        "            snn.Leaky(beta = 0.5, spike_grad = surrogate.fast_sigmoid(slope = 25), init_hidden = True),\n",
        "\n",
        "            # Pooling\n",
        "            nn.AvgPool2d(4),\n",
        "\n",
        "            # Fully connected or output block\n",
        "            nn.Flatten(),\n",
        "            nn.Linear(in_features = 1024 * 4 * 4, out_features= 10),\n",
        "            snn.Leaky(beta = 0.5, spike_grad = surrogate.fast_sigmoid(slope = 25), init_hidden = True, output=True)\n",
        "        )\n",
        "\n",
        "    net = net.to(device)\n",
        "\n",
        "\n",
        "    # If requested, print a summary of the model showing layer details, output shapes, and parameter counts\n",
        "    if show_summary:\n",
        "        input_size = (2, 34, 34) if model_name in ['nmnist', 'cifar-10-dvs'] else (1, 28, 28)\n",
        "        summary(net, input_size = input_size, batch_size = batch_size, device = str(device))\n",
        "\n",
        "    return net"
      ]
    },
    {
      "cell_type": "markdown",
      "metadata": {
        "id": "JHVA8FTp37lq"
      },
      "source": [
        "# Training the Network"
      ]
    },
    {
      "cell_type": "code",
      "execution_count": 6,
      "metadata": {
        "id": "uZDKlnKfgpOY"
      },
      "outputs": [],
      "source": [
        "def plot_training_history(history):\n",
        "    '''\n",
        "    Plots the training and testing accuracy and loss as a function of epochs.\n",
        "    This function provides insight into the learning behavior of the model and helps in diagnosing issues like overfitting or underfitting.\n",
        "\n",
        "    Args:\n",
        "        history (dict): A dictionary containing 'Training Accuracy', 'Testing Accuracy', 'Training Loss', and 'Testing Loss' as keys with lists of their values per epoch.\n",
        "    '''\n",
        "\n",
        "    # Setting the style of seaborn for more beautiful plots\n",
        "    sns.set(style=\"whitegrid\")\n",
        "\n",
        "    # Setting up the matplotlib figure with a certain size\n",
        "    fig, axes = plt.subplots(1, 2, figsize=(12, 3))\n",
        "\n",
        "    # Plotting Training and Testing Accuracy\n",
        "    axes[0].plot(history['Training Accuracy'], label='Training Accuracy')\n",
        "    axes[0].plot(history['Testing Accuracy'], label='Testing Accuracy')\n",
        "    axes[0].set_title('Training and Testing Accuracy')\n",
        "    axes[0].set_xlabel('Epochs')\n",
        "    axes[0].set_ylabel('Accuracy')\n",
        "    axes[0].set_ylim(0, 1)  # Set the limit for y-axis from 0 to 1\n",
        "    axes[0].legend()\n",
        "\n",
        "    # Plotting Training and Testing Loss\n",
        "    axes[1].plot(history['Training Loss'], label='Training Loss')\n",
        "    axes[1].plot(history['Testing Loss'], label='Testing Loss')\n",
        "    axes[1].set_title('Training and Testing Loss')\n",
        "    axes[1].set_xlabel('Epochs')\n",
        "    axes[1].set_ylabel('Loss')\n",
        "\n",
        "    axes[1].legend()\n",
        "\n",
        "    # Displayinf the plots\n",
        "    plt.tight_layout()\n",
        "    plt.show()"
      ]
    },
    {
      "cell_type": "code",
      "execution_count": 7,
      "metadata": {
        "id": "_UNW4dmUDroq"
      },
      "outputs": [],
      "source": [
        "# Feed forward pass function for static dataset\n",
        "def fwrd_pass(net, num_steps, data):\n",
        "  mem_rec = []\n",
        "  spk_rec = []\n",
        "  utils.reset(net)  # resets hidden states for all LIF neurons in net\n",
        "  for step in range(num_steps):\n",
        "      spk_out, mem_out = net(data)\n",
        "      spk_rec.append(spk_out)\n",
        "      mem_rec.append(mem_out)\n",
        "\n",
        "  return torch.stack(spk_rec), torch.stack(mem_rec)\n",
        "\n",
        "# Feed forward pass function for neuromorphic dataset\n",
        "def neuro_fwrd_pass(net, data):\n",
        "  spk_rec = []\n",
        "  utils.reset(net)  # resets hidden states for all LIF neurons in net\n",
        "\n",
        "  for step in range(data.size(0)):  # data.size(0) = number of time steps\n",
        "      spk_out, mem_out = net(data[step])\n",
        "      spk_rec.append(spk_out)\n",
        "\n",
        "  return torch.stack(spk_rec)"
      ]
    },
    {
      "cell_type": "code",
      "execution_count": 9,
      "metadata": {
        "id": "0h2H5X5M_nOA"
      },
      "outputs": [],
      "source": [
        "def train_network(dataset_name, epochs = 2, lr=1e-3, betas=(0.9, 0.999), batch_size = 64, shuffle=True, dp=None):\n",
        "    \"\"\"\n",
        "    Trains a neural network on a specified dataset, with options for differential privacy.\n",
        "\n",
        "    Args:\n",
        "        dataset_name (str): Name of the dataset to use for training and evaluation.\n",
        "        epochs (int, optional): Number of training epochs. Defaults to 2.\n",
        "        lr (float, optional): Learning rate for the optimizer. Defaults to 1e-3.\n",
        "        betas (tuple, optional): Coefficients used for computing running averages of gradient and its square.\n",
        "        batch_size (int, optional): Batch size for data loading. Defaults to 64.\n",
        "        shuffle (bool, optional): Whether to shuffle the dataset. Defaults to True.\n",
        "        dp (optional): Settings for differential privacy. If provided, differential privacy mechanisms are applied.\n",
        "\n",
        "    Returns:\n",
        "        (torch.nn.Module, dict): Trained model and history of training/testing accuracy and loss.\n",
        "    \"\"\"\n",
        "\n",
        "    target_name = copy(dataset_name)\n",
        "\n",
        "    # Initialize a dictionary to store training and testing metrics\n",
        "    history = {\n",
        "        'Training Accuracy': [],\n",
        "        'Testing Accuracy': [],\n",
        "        'Training Loss': [],\n",
        "        'Testing Loss': []\n",
        "    }\n",
        "\n",
        "    # Loading required dataset\n",
        "    train_loader, test_loader = fetch_data(name=dataset_name, batch_size=batch_size, shuffle=shuffle)\n",
        "\n",
        "    # Initializing the model based on dataset\n",
        "    net = fetch_model(dataset_name, show_summary = True, batch_size = batch_size)\n",
        "\n",
        "    # Defining loss function and optimizer\n",
        "    loss = SF.ce_rate_loss()\n",
        "    optimizer = torch.optim.AdamW(net.parameters(), lr=lr, betas=betas)\n",
        "\n",
        "\n",
        "\n",
        "    # configuring the privacy engine if differential privacy is required\n",
        "    if dp:\n",
        "        privacy_engine = PrivacyEngine(accountant = 'rdp')\n",
        "        print( \"Are Model, Optimzer and Data_Loader compatible with opacus framework:\",\n",
        "            privacy_engine.is_compatible(module = net, optimizer = optimizer, data_loader = train_loader))\n",
        "\n",
        "        # Configure only the optimizer for differential privacy\n",
        "        _, optimizer, _ = privacy_engine.make_private_with_epsilon(\n",
        "            module=net,\n",
        "            optimizer=optimizer,\n",
        "            data_loader=train_loader,\n",
        "            epochs = epochs,\n",
        "            max_grad_norm = dp['c'], # 'c' is a hyperparameter for clipping gradients\n",
        "            target_delta = dp['delta'],\n",
        "            target_epsilon = dp['target_ep']\n",
        "        )\n",
        "        history['epsilon'] = []\n",
        "        target_name += '_with_dp'\n",
        "\n",
        "    # Training and evaluation loop\n",
        "    for epoch in range(epochs):\n",
        "        net.train()\n",
        "        train_acc, train_loss, train_acc_total = 0, 0, 0\n",
        "\n",
        "        for X, y in train_loader:\n",
        "            X, y = X.to(device), y.to(device)\n",
        "\n",
        "            if dataset_name in ['nmnist', 'cifar-10-dvs']:\n",
        "                spk_rec = neuro_fwrd_pass(net, X)\n",
        "            else:\n",
        "                spk_rec, _ = fwrd_pass(net, 10, X)\n",
        "\n",
        "            loss_val = loss(spk_rec, y)\n",
        "\n",
        "            optimizer.zero_grad()\n",
        "            loss_val.backward()\n",
        "            optimizer.step()\n",
        "\n",
        "            train_acc += SF.accuracy_rate(spk_rec, y) * spk_rec.size(1)\n",
        "            train_acc_total += spk_rec.size(1)\n",
        "            train_loss += loss_val.item()\n",
        "\n",
        "    net.eval()\n",
        "    test_acc, test_loss, test_acc_total = 0, 0, 0\n",
        "\n",
        "    with torch.inference_mode():\n",
        "        for X, y in test_loader:\n",
        "            X, y = X.to(device), y.to(device)\n",
        "\n",
        "            if dataset_name in ['nmnist', 'cifar-10-dvs']:\n",
        "                spk_rec = neuro_fwrd_pass(net, X)\n",
        "            else:\n",
        "                spk_rec, _ = fwrd_pass(net, 10, X)\n",
        "\n",
        "            loss_val = loss(spk_rec, y)\n",
        "\n",
        "            test_acc += SF.accuracy_rate(spk_rec, y) * spk_rec.size(1)\n",
        "            test_acc_total += spk_rec.size(1)\n",
        "            test_loss += loss_val.item()\n",
        "\n",
        "    history['Training Accuracy'].append(train_acc / train_acc_total)\n",
        "    history['Testing Accuracy'].append(test_acc / test_acc_total)\n",
        "    history['Training Loss'].append(train_loss / len(train_loader))\n",
        "    history['Testing Loss'].append(test_loss / len(test_loader))\n",
        "    print(f'Epoch {epoch}: Train Acc: {train_acc / train_acc_total:.2f}, Test Acc: {test_acc / test_acc_total:.2f}, Train Loss: {train_loss / len(train_loader):.2f}, Test Loss: {test_loss / len(test_loader):.2f}')\n",
        "    if dp:\n",
        "        epsilon = privacy_engine.get_epsilon(delta=dp['delta'])\n",
        "        history['epsilon'].append(epsilon)\n",
        "\n",
        "        print(f\"(ε = {epsilon:.2f}, δ = {dp['delta']})\")\n",
        "\n",
        "    np.save(target_name+'.npy', history)\n",
        "    torch.save(net, target_name+'.pt')\n",
        "\n",
        "    return net, history"
      ]
    },
    {
      "cell_type": "markdown",
      "source": [
        "## MNIST"
      ],
      "metadata": {
        "id": "WOrUDdFrnzL_"
      }
    },
    {
      "cell_type": "code",
      "source": [
        "dp = {\n",
        "    'c': 2,\n",
        "    'delta': 1e-5,\n",
        "    'target_ep': 3,\n",
        "}"
      ],
      "metadata": {
        "id": "fVsGhMClrliz"
      },
      "execution_count": null,
      "outputs": []
    },
    {
      "cell_type": "code",
      "execution_count": null,
      "metadata": {
        "colab": {
          "base_uri": "https://localhost:8080/",
          "height": 923
        },
        "id": "ylhH1DYgj-YI",
        "outputId": "383254e1-94b1-4065-dbe3-0f0728265078"
      },
      "outputs": [
        {
          "output_type": "stream",
          "name": "stdout",
          "text": [
            "Downloading http://yann.lecun.com/exdb/mnist/train-images-idx3-ubyte.gz\n",
            "Downloading http://yann.lecun.com/exdb/mnist/train-images-idx3-ubyte.gz to ./MNIST/raw/train-images-idx3-ubyte.gz\n"
          ]
        },
        {
          "output_type": "stream",
          "name": "stderr",
          "text": [
            "100%|██████████| 9912422/9912422 [00:00<00:00, 116910169.10it/s]\n"
          ]
        },
        {
          "output_type": "stream",
          "name": "stdout",
          "text": [
            "Extracting ./MNIST/raw/train-images-idx3-ubyte.gz to ./MNIST/raw\n",
            "\n",
            "Downloading http://yann.lecun.com/exdb/mnist/train-labels-idx1-ubyte.gz\n",
            "Downloading http://yann.lecun.com/exdb/mnist/train-labels-idx1-ubyte.gz to ./MNIST/raw/train-labels-idx1-ubyte.gz\n"
          ]
        },
        {
          "output_type": "stream",
          "name": "stderr",
          "text": [
            "100%|██████████| 28881/28881 [00:00<00:00, 26379724.26it/s]\n"
          ]
        },
        {
          "output_type": "stream",
          "name": "stdout",
          "text": [
            "Extracting ./MNIST/raw/train-labels-idx1-ubyte.gz to ./MNIST/raw\n",
            "\n",
            "Downloading http://yann.lecun.com/exdb/mnist/t10k-images-idx3-ubyte.gz\n",
            "Downloading http://yann.lecun.com/exdb/mnist/t10k-images-idx3-ubyte.gz to ./MNIST/raw/t10k-images-idx3-ubyte.gz\n"
          ]
        },
        {
          "output_type": "stream",
          "name": "stderr",
          "text": [
            "100%|██████████| 1648877/1648877 [00:00<00:00, 32050956.99it/s]\n"
          ]
        },
        {
          "output_type": "stream",
          "name": "stdout",
          "text": [
            "Extracting ./MNIST/raw/t10k-images-idx3-ubyte.gz to ./MNIST/raw\n",
            "\n",
            "Downloading http://yann.lecun.com/exdb/mnist/t10k-labels-idx1-ubyte.gz\n",
            "Downloading http://yann.lecun.com/exdb/mnist/t10k-labels-idx1-ubyte.gz to ./MNIST/raw/t10k-labels-idx1-ubyte.gz\n"
          ]
        },
        {
          "output_type": "stream",
          "name": "stderr",
          "text": [
            "100%|██████████| 4542/4542 [00:00<00:00, 19281911.71it/s]\n"
          ]
        },
        {
          "output_type": "stream",
          "name": "stdout",
          "text": [
            "Extracting ./MNIST/raw/t10k-labels-idx1-ubyte.gz to ./MNIST/raw\n",
            "\n",
            "Epoch 0: Train Acc: 0.15, Test Acc: 0.21, Train Loss: 2.29, Test Loss: 2.26\n",
            "Epoch 1: Train Acc: 0.38, Test Acc: 0.52, Train Loss: 2.21, Test Loss: 2.16\n",
            "Epoch 2: Train Acc: 0.70, Test Acc: 0.78, Train Loss: 2.09, Test Loss: 2.03\n",
            "Epoch 3: Train Acc: 0.77, Test Acc: 0.78, Train Loss: 1.99, Test Loss: 1.94\n",
            "Epoch 4: Train Acc: 0.77, Test Acc: 0.78, Train Loss: 1.91, Test Loss: 1.86\n",
            "Epoch 5: Train Acc: 0.78, Test Acc: 0.81, Train Loss: 1.83, Test Loss: 1.79\n",
            "Epoch 6: Train Acc: 0.83, Test Acc: 0.86, Train Loss: 1.78, Test Loss: 1.74\n",
            "Epoch 7: Train Acc: 0.87, Test Acc: 0.88, Train Loss: 1.73, Test Loss: 1.71\n",
            "Epoch 8: Train Acc: 0.88, Test Acc: 0.89, Train Loss: 1.70, Test Loss: 1.68\n",
            "Epoch 9: Train Acc: 0.89, Test Acc: 0.91, Train Loss: 1.68, Test Loss: 1.66\n",
            "Epoch 10: Train Acc: 0.90, Test Acc: 0.91, Train Loss: 1.66, Test Loss: 1.65\n",
            "Epoch 11: Train Acc: 0.91, Test Acc: 0.92, Train Loss: 1.65, Test Loss: 1.63\n",
            "Epoch 12: Train Acc: 0.91, Test Acc: 0.93, Train Loss: 1.64, Test Loss: 1.62\n",
            "Epoch 13: Train Acc: 0.92, Test Acc: 0.93, Train Loss: 1.63, Test Loss: 1.61\n",
            "Epoch 14: Train Acc: 0.92, Test Acc: 0.93, Train Loss: 1.62, Test Loss: 1.61\n",
            "Epoch 15: Train Acc: 0.93, Test Acc: 0.94, Train Loss: 1.61, Test Loss: 1.60\n",
            "Epoch 16: Train Acc: 0.93, Test Acc: 0.94, Train Loss: 1.60, Test Loss: 1.59\n",
            "Epoch 17: Train Acc: 0.93, Test Acc: 0.94, Train Loss: 1.60, Test Loss: 1.59\n",
            "Epoch 18: Train Acc: 0.94, Test Acc: 0.94, Train Loss: 1.59, Test Loss: 1.58\n",
            "Epoch 19: Train Acc: 0.94, Test Acc: 0.94, Train Loss: 1.58, Test Loss: 1.57\n"
          ]
        },
        {
          "output_type": "display_data",
          "data": {
            "text/plain": [
              "<Figure size 1200x300 with 2 Axes>"
            ],
            "image/png": "[encoded data removed]"
          },
          "metadata": {}
        }
      ],
      "source": [
        "mnist_net, mnist_net_history = train_network(dataset_name = 'mnist', lr = 0.005, epochs = 20, batch_size = 1024)\n",
        "\n",
        "plot_training_history(mnist_net_history)"
      ]
    },
    {
      "cell_type": "markdown",
      "source": [
        "## MNIST with DP"
      ],
      "metadata": {
        "id": "-czE13NfoGOr"
      }
    },
    {
      "cell_type": "code",
      "execution_count": null,
      "metadata": {
        "colab": {
          "base_uri": "https://localhost:8080/",
          "height": 920
        },
        "id": "XgkIDKcdVGDV",
        "outputId": "23d8c439-ed88-4869-eaab-b2d4beba2017"
      },
      "outputs": [
        {
          "output_type": "stream",
          "name": "stderr",
          "text": [
            "WARNING:opacus.data_loader:Ignoring drop_last as it is not compatible with DPDataLoader.\n"
          ]
        },
        {
          "output_type": "stream",
          "name": "stdout",
          "text": [
            "Epoch 0: Train Acc: 0.15, Test Acc: 0.29, Train Loss: 2.28, Test Loss: 2.20\n",
            "(ε = 3.18, δ = 1e-05)\n",
            "Epoch 1: Train Acc: 0.40, Test Acc: 0.49, Train Loss: 2.12, Test Loss: 2.01\n",
            "(ε = 3.69, δ = 1e-05)\n",
            "Epoch 2: Train Acc: 0.60, Test Acc: 0.66, Train Loss: 1.93, Test Loss: 1.84\n",
            "(ε = 4.09, δ = 1e-05)\n",
            "Epoch 3: Train Acc: 0.67, Test Acc: 0.72, Train Loss: 1.83, Test Loss: 1.79\n",
            "(ε = 4.44, δ = 1e-05)\n",
            "Epoch 4: Train Acc: 0.75, Test Acc: 0.82, Train Loss: 1.77, Test Loss: 1.70\n",
            "(ε = 4.75, δ = 1e-05)\n",
            "Epoch 5: Train Acc: 0.85, Test Acc: 0.91, Train Loss: 1.68, Test Loss: 1.62\n",
            "(ε = 5.04, δ = 1e-05)\n",
            "Epoch 6: Train Acc: 0.91, Test Acc: 0.92, Train Loss: 1.61, Test Loss: 1.59\n",
            "(ε = 5.31, δ = 1e-05)\n",
            "Epoch 7: Train Acc: 0.92, Test Acc: 0.93, Train Loss: 1.59, Test Loss: 1.58\n",
            "(ε = 5.57, δ = 1e-05)\n",
            "Epoch 8: Train Acc: 0.92, Test Acc: 0.93, Train Loss: 1.59, Test Loss: 1.58\n",
            "(ε = 5.82, δ = 1e-05)\n",
            "Epoch 9: Train Acc: 0.92, Test Acc: 0.93, Train Loss: 1.58, Test Loss: 1.57\n",
            "(ε = 6.05, δ = 1e-05)\n",
            "Epoch 10: Train Acc: 0.93, Test Acc: 0.93, Train Loss: 1.57, Test Loss: 1.57\n",
            "(ε = 6.28, δ = 1e-05)\n",
            "Epoch 11: Train Acc: 0.93, Test Acc: 0.93, Train Loss: 1.57, Test Loss: 1.56\n",
            "(ε = 6.50, δ = 1e-05)\n",
            "Epoch 12: Train Acc: 0.93, Test Acc: 0.94, Train Loss: 1.57, Test Loss: 1.56\n",
            "(ε = 6.71, δ = 1e-05)\n",
            "Epoch 13: Train Acc: 0.93, Test Acc: 0.94, Train Loss: 1.56, Test Loss: 1.56\n",
            "(ε = 6.92, δ = 1e-05)\n",
            "Epoch 14: Train Acc: 0.93, Test Acc: 0.94, Train Loss: 1.56, Test Loss: 1.56\n",
            "(ε = 7.12, δ = 1e-05)\n",
            "Epoch 15: Train Acc: 0.94, Test Acc: 0.94, Train Loss: 1.56, Test Loss: 1.55\n",
            "(ε = 7.32, δ = 1e-05)\n",
            "Epoch 16: Train Acc: 0.94, Test Acc: 0.94, Train Loss: 1.56, Test Loss: 1.55\n",
            "(ε = 7.51, δ = 1e-05)\n",
            "Epoch 17: Train Acc: 0.94, Test Acc: 0.94, Train Loss: 1.56, Test Loss: 1.55\n",
            "(ε = 7.70, δ = 1e-05)\n",
            "Epoch 18: Train Acc: 0.94, Test Acc: 0.95, Train Loss: 1.55, Test Loss: 1.55\n",
            "(ε = 7.89, δ = 1e-05)\n",
            "Epoch 19: Train Acc: 0.94, Test Acc: 0.95, Train Loss: 1.55, Test Loss: 1.55\n",
            "(ε = 8.07, δ = 1e-05)\n"
          ]
        },
        {
          "output_type": "display_data",
          "data": {
            "text/plain": [
              "<Figure size 1200x300 with 2 Axes>"
            ],
            "image/png": "[encoded data removed]"
          },
          "metadata": {}
        }
      ],
      "source": [
        "mnist_net_dp, mnist_net_dp_history = train_network(dataset_name = 'mnist', lr = 0.005, epochs = 20, batch_size = 1024, dp = dp)\n",
        "\n",
        "plot_training_history(mnist_net_dp_history)"
      ]
    },
    {
      "cell_type": "markdown",
      "source": [
        "## Fashion-MNIST"
      ],
      "metadata": {
        "id": "zbjZJJkPt2kX"
      }
    },
    {
      "cell_type": "code",
      "source": [
        "fmnist_net, fmnist_net_history = train_network(dataset_name = 'fashion-mnist', lr = 0.005, epochs = 20, batch_size = 1024)\n",
        "\n",
        "plot_training_history(fmnist_net_history)"
      ],
      "metadata": {
        "id": "h1NMJit7t8B5"
      },
      "execution_count": null,
      "outputs": []
    },
    {
      "cell_type": "markdown",
      "source": [
        "## Fashion-MNIST with DP"
      ],
      "metadata": {
        "id": "XBwJd461uPP7"
      }
    },
    {
      "cell_type": "code",
      "source": [
        "fmnist_net_dp, fmnist_net_dp_history = train_network(dataset_name = 'fashion-mnist', lr = 0.005, epochs = 20, batch_size = 1024, dp = dp)\n",
        "\n",
        "plot_training_history(fmnist_net_dp_history)"
      ],
      "metadata": {
        "id": "hviAL4rHuJaA"
      },
      "execution_count": null,
      "outputs": []
    },
    {
      "cell_type": "markdown",
      "source": [
        "## NMNIST"
      ],
      "metadata": {
        "id": "WlL7jRw1oLqf"
      }
    },
    {
      "cell_type": "code",
      "source": [
        "nmnist_net, nmnist_net_history = train_network(dataset_name = 'mnist', lr = 0.005, epochs = 20, batch_size = 512)\n",
        "\n",
        "plot_training_history(nmnist_net_history)"
      ],
      "metadata": {
        "colab": {
          "base_uri": "https://localhost:8080/"
        },
        "id": "eq3xWKL7M9mt",
        "outputId": "8996292d-2630-43e4-90a5-8f87303c6b52"
      },
      "execution_count": null,
      "outputs": [
        {
          "metadata": {
            "tags": null
          },
          "name": "stdout",
          "output_type": "stream",
          "text": [
            "----------------------------------------------------------------\n",
            "        Layer (type)               Output Shape         Param #\n",
            "================================================================\n",
            "            Conv2d-1           [16, 32, 28, 28]           3,168\n",
            "         GroupNorm-2           [16, 32, 28, 28]              64\n",
            "             Leaky-3           [16, 32, 28, 28]               0\n",
            "         AvgPool2d-4           [16, 32, 14, 14]               0\n",
            "            Conv2d-5           [16, 64, 11, 11]          32,832\n",
            "         GroupNorm-6           [16, 64, 11, 11]             128\n",
            "             Leaky-7           [16, 64, 11, 11]               0\n",
            "         AvgPool2d-8             [16, 64, 5, 5]               0\n",
            "           Flatten-9                 [16, 1600]               0\n",
            "           Linear-10                   [16, 10]          16,010\n",
            "            Leaky-11       [[-1, 10], [-1, 10]]               0\n",
            "================================================================\n",
            "Total params: 52,202\n",
            "Trainable params: 52,202\n",
            "Non-trainable params: 0\n",
            "----------------------------------------------------------------\n",
            "Input size (MB): 0.14\n",
            "Forward/backward pass size (MB): 13.18\n",
            "Params size (MB): 0.20\n",
            "Estimated Total Size (MB): 13.52\n",
            "----------------------------------------------------------------\n",
            "Are Model, Optimzer and Data_Loader compatible with opacus framework: True\n"
          ]
        },
        {
          "metadata": {
            "tags": null
          },
          "name": "stderr",
          "output_type": "stream",
          "text": [
            "/usr/local/lib/python3.10/dist-packages/opacus/privacy_engine.py:95: UserWarning: Secure RNG turned off. This is perfectly fine for experimentation as it allows for much faster training performance, but remember to turn it on and retrain one last time before production with ``secure_mode`` turned on.\n",
            "  warnings.warn(\n",
            "/usr/local/lib/python3.10/dist-packages/opacus/accountants/analysis/rdp.py:332: UserWarning: Optimal order is the largest alpha. Please consider expanding the range of alphas to get a tighter privacy bound.\n",
            "  warnings.warn(\n",
            "/usr/local/lib/python3.10/dist-packages/torch/nn/modules/module.py:1352: UserWarning: Using a non-full backward hook when the forward contains multiple autograd Nodes is deprecated and will be removed in future versions. This hook will be missing some grad_input. Please use register_full_backward_hook to get the documented behavior.\n",
            "  warnings.warn(\"Using a non-full backward hook when the forward contains multiple autograd Nodes \"\n"
          ]
        }
      ]
    },
    {
      "cell_type": "markdown",
      "source": [
        "## NMNIST with DP"
      ],
      "metadata": {
        "id": "g-_t9qIioTco"
      }
    },
    {
      "cell_type": "code",
      "source": [
        "nmnist_net_dp, nmnist_net_dp_history = train_network(dataset_name = 'nmnist', lr = 0.005, epochs = 20, batch_size = 512, dp = dp)\n",
        "\n",
        "plot_training_history(nmnist_net_dp_history)"
      ],
      "metadata": {
        "id": "ZQFUdJlvoXQe"
      },
      "execution_count": null,
      "outputs": []
    },
    {
      "cell_type": "markdown",
      "source": [
        "## CIFAR-10"
      ],
      "metadata": {
        "id": "5H36sKAusj6M"
      }
    },
    {
      "cell_type": "code",
      "source": [
        "dp = {\n",
        "    'c': 6,\n",
        "    'delta': 1e-5,\n",
        "    'target_ep': 8,\n",
        "}"
      ],
      "metadata": {
        "id": "wmh5WKLws0fW"
      },
      "execution_count": null,
      "outputs": []
    },
    {
      "cell_type": "code",
      "source": [
        "cifar10_net, cifar10_net_history = train_network(dataset_name = 'cifar-10', lr = 0.001, epochs = 80, batch_size = 1024)\n",
        "\n",
        "plot_training_history(cifar10_net_history)"
      ],
      "metadata": {
        "id": "1BuwVqnaso6g"
      },
      "execution_count": null,
      "outputs": []
    },
    {
      "cell_type": "markdown",
      "source": [
        "## CIFAR-10 with DP"
      ],
      "metadata": {
        "id": "EasYQfGttqII"
      }
    },
    {
      "cell_type": "code",
      "source": [
        "cifar10_net_dp, cifar10_net_dp_history = train_network(dataset_name = 'cifar-10', lr = 0.001, epochs = 80, batch_size = 1024, dp = dp)\n",
        "\n",
        "plot_training_history(cifar10_net_dp_history)"
      ],
      "metadata": {
        "id": "uFFjtaDIthjs"
      },
      "execution_count": null,
      "outputs": []
    },
    {
      "cell_type": "markdown",
      "source": [
        "## CIFAR-10-DVS"
      ],
      "metadata": {
        "id": "NjDiqWLqu0i8"
      }
    },
    {
      "cell_type": "code",
      "source": [
        "dp = {\n",
        "    'c': 6,\n",
        "    'delta': 1e-5,\n",
        "    'target_ep': 8,\n",
        "}"
      ],
      "metadata": {
        "id": "HmtCqn18u0jF"
      },
      "execution_count": null,
      "outputs": []
    },
    {
      "cell_type": "code",
      "source": [
        "cifar10dvs_net, cifar10dsv_net_history = train_network(dataset_name = 'cifar-10-dvs', lr = 0.001, epochs = 80, batch_size = 1024)\n",
        "\n",
        "plot_training_history(cifar10dsv_net_history)"
      ],
      "metadata": {
        "id": "O6-P37shu0jG"
      },
      "execution_count": null,
      "outputs": []
    },
    {
      "cell_type": "markdown",
      "source": [
        "## CIFAR-10-DVS with DP"
      ],
      "metadata": {
        "id": "2iIpI5Pcu0jG"
      }
    },
    {
      "cell_type": "code",
      "source": [
        "cifar10dvs_net_dp, cifar10dvs_net_dp_history = train_network(dataset_name = 'cifar-10-dvs', lr = 0.001, epochs = 80, batch_size = 1024, dp = dp)\n",
        "\n",
        "plot_training_history(cifar10dvs_net_dp_history)"
      ],
      "metadata": {
        "id": "TajtoN_tu0jG"
      },
      "execution_count": null,
      "outputs": []
    },
    {
      "cell_type": "markdown",
      "source": [
        "---"
      ],
      "metadata": {
        "id": "HBiLQDM3vprD"
      }
    },
    {
      "cell_type": "code",
      "source": [],
      "metadata": {
        "id": "u9F-dJYwvpeF"
      },
      "execution_count": null,
      "outputs": []
    },
    {
      "cell_type": "code",
      "source": [],
      "metadata": {
        "id": "6OPhjFrivpTY"
      },
      "execution_count": null,
      "outputs": []
    },
    {
      "cell_type": "code",
      "source": [],
      "metadata": {
        "id": "ur0OuMxcvpJM"
      },
      "execution_count": null,
      "outputs": []
    },
    {
      "cell_type": "code",
      "source": [],
      "metadata": {
        "id": "ggbDPMiWvo64"
      },
      "execution_count": null,
      "outputs": []
    },
    {
      "cell_type": "code",
      "source": [],
      "metadata": {
        "id": "jSHsA288vouP"
      },
      "execution_count": null,
      "outputs": []
    }
  ],
  "metadata": {
    "colab": {
      "provenance": [],
      "include_colab_link": true
    },
    "kernelspec": {
      "display_name": "Python 3",
      "name": "python3"
    },
    "language_info": {
      "name": "python"
    }
  },
  "nbformat": 4,
  "nbformat_minor": 0
}