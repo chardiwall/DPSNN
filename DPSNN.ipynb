{
  "nbformat": 4,
  "nbformat_minor": 0,
  "metadata": {
    "colab": {
      "provenance": [],
      "authorship_tag": "ABX9TyM1KUJfR9CpCiNFNvPH15wC",
      "include_colab_link": true
    },
    "kernelspec": {
      "name": "python3",
      "display_name": "Python 3"
    },
    "language_info": {
      "name": "python"
    }
  },
  "cells": [
    {
      "cell_type": "markdown",
      "metadata": {
        "id": "view-in-github",
        "colab_type": "text"
      },
      "source": [
        "<a href=\"https://colab.research.google.com/github/chardiwall/DPSNN/blob/main/DPSNN.ipynb\" target=\"_parent\"><img src=\"https://colab.research.google.com/assets/colab-badge.svg\" alt=\"Open In Colab\"/></a>"
      ]
    },
    {
      "cell_type": "markdown",
      "source": [
        "# Project Discription\n",
        "**Title:** DPSNN (A Differentially Private Spiking Neural Network with Temporal Enhanced Polling).\n",
        "\n",
        "**Objectives:** Implementation of the [paper](https://arxiv.org/pdf/2205.12718.pdf).\n",
        "\n",
        "**Discription:** The project is set in the context of the growing field of social robotics, which involves the deployment of robots in human-centric environments. These environments can range from healthcare facilities and educational institutions to customer service and domestic settings. The unique aspect of this project lies in its focus on privacy-preserving mechanisms, an increasingly critical concern in today's data-driven world.\n",
        "\n",
        "---\n",
        "\n",
        "SNN framwork: [BrainCog](https://github.com/BrainCog-X/Brain-Cog)\n",
        "\n",
        "DP framwork: [Opacus](https://github.com/pytorch/opacus)\n",
        "\n",
        "---\n",
        "Datasets\n",
        "- Neuromorphic DataSets:\n",
        "  - [N-MNIST](https://www.garrickorchard.com/datasets/n-mnist#h.p_ID_38)\n",
        "  - [CIFAR10-DVS](https://figshare.com/articles/dataset/CIFAR10-DVS_New/4724671/2)\n",
        "\n",
        "- Static Datasets:\n",
        "  - [MNIST](https://yann.lecun.com/exdb/mnist/)\n",
        "  - [CIFAR10](https://www.cs.toronto.edu/~kriz/cifar.html)\n"
      ],
      "metadata": {
        "id": "9TwYDVep0-oO"
      }
    },
    {
      "cell_type": "markdown",
      "source": [
        "# Loading Essential Libraries"
      ],
      "metadata": {
        "id": "WFHM-9gk2Bug"
      }
    },
    {
      "cell_type": "code",
      "source": [
        "!pip install -q braincog\n",
        "# additional dependencies for working with neuromorphic data.\n",
        "!pip install git+https://github.com/BrainCog-X/tonic_braincog.git\n",
        "\n",
        "!pip install -q opacus"
      ],
      "metadata": {
        "colab": {
          "base_uri": "https://localhost:8080/"
        },
        "id": "HEGy77YL3Aug",
        "outputId": "65c6d124-a66f-4a9d-de5f-dc7eee2b3461"
      },
      "execution_count": null,
      "outputs": [
        {
          "output_type": "stream",
          "name": "stdout",
          "text": [
            "\u001b[2K     \u001b[90m━━━━━━━━━━━━━━━━━━━━━━━━━━━━━━━━━━━━━━━━\u001b[0m \u001b[32m123.0/123.0 kB\u001b[0m \u001b[31m2.4 MB/s\u001b[0m eta \u001b[36m0:00:00\u001b[0m\n",
            "\u001b[2K     \u001b[90m━━━━━━━━━━━━━━━━━━━━━━━━━━━━━━━━━━━━━━━━\u001b[0m \u001b[32m2.2/2.2 MB\u001b[0m \u001b[31m12.2 MB/s\u001b[0m eta \u001b[36m0:00:00\u001b[0m\n",
            "\u001b[2K     \u001b[90m━━━━━━━━━━━━━━━━━━━━━━━━━━━━━━━━━━━━━━━━\u001b[0m \u001b[32m44.6/44.6 kB\u001b[0m \u001b[31m4.4 MB/s\u001b[0m eta \u001b[36m0:00:00\u001b[0m\n",
            "\u001b[?25h  Preparing metadata (setup.py) ... \u001b[?25l\u001b[?25hdone\n",
            "\u001b[2K     \u001b[90m━━━━━━━━━━━━━━━━━━━━━━━━━━━━━━━━━━━━━━━━\u001b[0m \u001b[32m110.7/110.7 kB\u001b[0m \u001b[31m7.9 MB/s\u001b[0m eta \u001b[36m0:00:00\u001b[0m\n",
            "\u001b[2K     \u001b[90m━━━━━━━━━━━━━━━━━━━━━━━━━━━━━━━━━━━━━━━━\u001b[0m \u001b[32m1.3/1.3 MB\u001b[0m \u001b[31m13.3 MB/s\u001b[0m eta \u001b[36m0:00:00\u001b[0m\n",
            "\u001b[2K     \u001b[90m━━━━━━━━━━━━━━━━━━━━━━━━━━━━━━━━━━━━━━━━\u001b[0m \u001b[32m1.8/1.8 MB\u001b[0m \u001b[31m16.5 MB/s\u001b[0m eta \u001b[36m0:00:00\u001b[0m\n",
            "\u001b[2K     \u001b[90m━━━━━━━━━━━━━━━━━━━━━━━━━━━━━━━━━━━━━━━━\u001b[0m \u001b[32m107.5/107.5 kB\u001b[0m \u001b[31m9.4 MB/s\u001b[0m eta \u001b[36m0:00:00\u001b[0m\n",
            "\u001b[2K     \u001b[90m━━━━━━━━━━━━━━━━━━━━━━━━━━━━━━━━━━━━━━━━\u001b[0m \u001b[32m50.4/50.4 kB\u001b[0m \u001b[31m5.4 MB/s\u001b[0m eta \u001b[36m0:00:00\u001b[0m\n",
            "\u001b[?25h  Building wheel for dv (setup.py) ... \u001b[?25l\u001b[?25hdone\n",
            "\u001b[2K     \u001b[90m━━━━━━━━━━━━━━━━━━━━━━━━━━━━━━━━━━━━━━━━\u001b[0m \u001b[32m226.7/226.7 kB\u001b[0m \u001b[31m4.7 MB/s\u001b[0m eta \u001b[36m0:00:00\u001b[0m\n",
            "\u001b[?25h"
          ]
        }
      ]
    },
    {
      "cell_type": "code",
      "source": [
        "# Mounting Google Drive as drive\n",
        "from google.colab import drive\n",
        "drive.mount('drive')"
      ],
      "metadata": {
        "colab": {
          "base_uri": "https://localhost:8080/"
        },
        "id": "VGWhf2je6V0i",
        "outputId": "12388849-2210-4df1-926b-4b9b5e6ab489"
      },
      "execution_count": 14,
      "outputs": [
        {
          "output_type": "stream",
          "name": "stdout",
          "text": [
            "Drive already mounted at drive; to attempt to forcibly remount, call drive.mount(\"drive\", force_remount=True).\n"
          ]
        }
      ]
    },
    {
      "cell_type": "code",
      "source": [
        "import os\n",
        "import sys\n",
        "import tqdm\n",
        "from glob import glob\n",
        "from zipfile import ZipFile\n",
        "\n",
        "import numpy as np\n",
        "import matplotlib.pyplot as plt\n",
        "\n",
        "import seaborn as sns\n",
        "\n",
        "import torch\n",
        "from torch import nn\n",
        "from torch.utils.data import dataset, dataloader\n",
        "\n",
        "from torchvision import datasets\n",
        "\n",
        "from braincog.base.node import BaseNode, LIFNode, IzhNode\n",
        "from braincog.base.strategy.surrogate import *\n",
        "from braincog.base.utils.visualization import spike_rate_vis, spike_rate_vis_1d"
      ],
      "metadata": {
        "id": "V3pG9qP43SUH"
      },
      "execution_count": 35,
      "outputs": []
    },
    {
      "cell_type": "markdown",
      "source": [
        "# Unzipping and Loading Data"
      ],
      "metadata": {
        "id": "I20KiteW3n1F"
      }
    },
    {
      "cell_type": "markdown",
      "source": [
        "## Neuromorphic Data"
      ],
      "metadata": {
        "id": "xV4NAFuU3sAr"
      }
    },
    {
      "cell_type": "code",
      "source": [
        "# N-MNIST\n",
        "\n",
        "# unzipping the data\n",
        "base_dir_path = '/content/drive/MyDrive/Colab Notebooks/DPSNN/N-MNIST/'\n",
        "train_zip_name = 'Copy of Train'\n",
        "test_zip_name = 'Copy of Test'\n",
        "\n",
        "for zip_file in [train_zip_name, test_zip_name]:\n",
        "  zip_path = os.path.join(base_dir_path, zip_file+'.zip')\n",
        "\n",
        "  with ZipFile(zip_path, 'r') as zip_ref:\n",
        "    # extraction_path = os.path.join(base_dir_path, zip_file)\n",
        "    # if not (os.path.exists(extraction_path)):\n",
        "    #   os.mkdir(extraction_path)\n",
        "    zip_ref.extractall(base_dir_path)\n"
      ],
      "metadata": {
        "id": "3qBkFa3i3y3d"
      },
      "execution_count": null,
      "outputs": []
    },
    {
      "cell_type": "code",
      "source": [
        "# N-MNIST LOADING"
      ],
      "metadata": {
        "id": "0upjzbEjZvcQ"
      },
      "execution_count": 36,
      "outputs": []
    },
    {
      "cell_type": "code",
      "source": [
        "# CIFAR10-DVS\n",
        "base_dir_path = '/content/drive/MyDrive/Colab Notebooks/DPSNN/CIFAR10-DVS'\n",
        "file_name = 'CIFAR10-DVS.zip'\n",
        "\n",
        "with ZipFile(os.path.join(base_dir_path, file_name), 'r') as zip_ref:\n",
        "  zip_ref.extractall(base_dir_path)"
      ],
      "metadata": {
        "id": "WEntHGB87KkU"
      },
      "execution_count": 16,
      "outputs": []
    },
    {
      "cell_type": "markdown",
      "source": [
        "## Static Data"
      ],
      "metadata": {
        "id": "eRVHqqevWViG"
      }
    },
    {
      "cell_type": "code",
      "source": [
        "# MNIST\n",
        "mnist_train = datasets.MNIST(root = '.', train=True, transform=None, download=True)\n",
        "mnist_test = datasets.MNIST(root = '.', train=False, transform=None, download=True)"
      ],
      "metadata": {
        "colab": {
          "base_uri": "https://localhost:8080/"
        },
        "id": "iXiXj01KXpfT",
        "outputId": "22efcda0-3961-42ae-9a7e-49a57468cc29"
      },
      "execution_count": 24,
      "outputs": [
        {
          "output_type": "stream",
          "name": "stdout",
          "text": [
            "Downloading http://yann.lecun.com/exdb/mnist/train-images-idx3-ubyte.gz\n",
            "Downloading http://yann.lecun.com/exdb/mnist/train-images-idx3-ubyte.gz to ./MNIST/raw/train-images-idx3-ubyte.gz\n"
          ]
        },
        {
          "output_type": "stream",
          "name": "stderr",
          "text": [
            "100%|██████████| 9912422/9912422 [00:00<00:00, 92440592.78it/s]\n"
          ]
        },
        {
          "output_type": "stream",
          "name": "stdout",
          "text": [
            "Extracting ./MNIST/raw/train-images-idx3-ubyte.gz to ./MNIST/raw\n",
            "\n",
            "Downloading http://yann.lecun.com/exdb/mnist/train-labels-idx1-ubyte.gz\n",
            "Downloading http://yann.lecun.com/exdb/mnist/train-labels-idx1-ubyte.gz to ./MNIST/raw/train-labels-idx1-ubyte.gz\n"
          ]
        },
        {
          "output_type": "stream",
          "name": "stderr",
          "text": [
            "100%|██████████| 28881/28881 [00:00<00:00, 69101936.01it/s]\n"
          ]
        },
        {
          "output_type": "stream",
          "name": "stdout",
          "text": [
            "Extracting ./MNIST/raw/train-labels-idx1-ubyte.gz to ./MNIST/raw\n",
            "\n",
            "Downloading http://yann.lecun.com/exdb/mnist/t10k-images-idx3-ubyte.gz\n",
            "Downloading http://yann.lecun.com/exdb/mnist/t10k-images-idx3-ubyte.gz to ./MNIST/raw/t10k-images-idx3-ubyte.gz\n"
          ]
        },
        {
          "output_type": "stream",
          "name": "stderr",
          "text": [
            "100%|██████████| 1648877/1648877 [00:00<00:00, 31816511.15it/s]\n"
          ]
        },
        {
          "output_type": "stream",
          "name": "stdout",
          "text": [
            "Extracting ./MNIST/raw/t10k-images-idx3-ubyte.gz to ./MNIST/raw\n",
            "\n",
            "Downloading http://yann.lecun.com/exdb/mnist/t10k-labels-idx1-ubyte.gz\n",
            "Downloading http://yann.lecun.com/exdb/mnist/t10k-labels-idx1-ubyte.gz to ./MNIST/raw/t10k-labels-idx1-ubyte.gz\n"
          ]
        },
        {
          "output_type": "stream",
          "name": "stderr",
          "text": [
            "100%|██████████| 4542/4542 [00:00<00:00, 13784753.09it/s]\n"
          ]
        },
        {
          "output_type": "stream",
          "name": "stdout",
          "text": [
            "Extracting ./MNIST/raw/t10k-labels-idx1-ubyte.gz to ./MNIST/raw\n",
            "\n"
          ]
        }
      ]
    },
    {
      "cell_type": "code",
      "source": [
        "# CIFAR10\n",
        "cifar10_train = datasets.CIFAR10('.', train = True, transform = None, download = True)\n",
        "cifar10_test = datasets.CIFAR10('.', train = False, transform = None, download = True)"
      ],
      "metadata": {
        "colab": {
          "base_uri": "https://localhost:8080/"
        },
        "id": "HwQRl7s5V87A",
        "outputId": "1b9a8df0-7242-41f8-8282-47946855923d"
      },
      "execution_count": 25,
      "outputs": [
        {
          "output_type": "stream",
          "name": "stdout",
          "text": [
            "Downloading https://www.cs.toronto.edu/~kriz/cifar-10-python.tar.gz to ./cifar-10-python.tar.gz\n"
          ]
        },
        {
          "output_type": "stream",
          "name": "stderr",
          "text": [
            "100%|██████████| 170498071/170498071 [00:03<00:00, 54271524.85it/s]\n"
          ]
        },
        {
          "output_type": "stream",
          "name": "stdout",
          "text": [
            "Extracting ./cifar-10-python.tar.gz to .\n",
            "Files already downloaded and verified\n"
          ]
        }
      ]
    },
    {
      "cell_type": "markdown",
      "source": [
        "# df"
      ],
      "metadata": {
        "id": "ThWOqbh5ZfDN"
      }
    },
    {
      "cell_type": "code",
      "source": [
        "import braincog.base.node"
      ],
      "metadata": {
        "id": "p-BFvt6Zb4xs"
      },
      "execution_count": 32,
      "outputs": []
    },
    {
      "cell_type": "code",
      "source": [
        "braincog.base.node?"
      ],
      "metadata": {
        "id": "dqKM797Gb-jQ"
      },
      "execution_count": 34,
      "outputs": []
    },
    {
      "cell_type": "code",
      "source": [],
      "metadata": {
        "id": "e5EN4H1VcAIH"
      },
      "execution_count": null,
      "outputs": []
    }
  ]
}