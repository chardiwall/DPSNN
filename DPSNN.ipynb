{
  "cells": [
    {
      "cell_type": "markdown",
      "metadata": {
        "id": "view-in-github",
        "colab_type": "text"
      },
      "source": [
        "<a href=\"https://colab.research.google.com/github/chardiwall/DPSNN/blob/main/DPSNN.ipynb\" target=\"_parent\"><img src=\"https://colab.research.google.com/assets/colab-badge.svg\" alt=\"Open In Colab\"/></a>"
      ]
    },
    {
      "cell_type": "markdown",
      "metadata": {
        "id": "9TwYDVep0-oO"
      },
      "source": [
        "# Project Discription\n",
        "**Title:** DPSNN (A Differentially Private Spiking Neural Network with Temporal Enhanced Polling).\n",
        "\n",
        "**Objectives:** Implementation of the [paper](https://arxiv.org/pdf/2205.12718.pdf).\n",
        "\n",
        "**Discription:** The project is set in the context of the growing field of social robotics, which involves the deployment of robots in human-centric environments. These environments can range from healthcare facilities and educational institutions to customer service and domestic settings. The unique aspect of this project lies in its focus on privacy-preserving mechanisms, an increasingly critical concern in today's data-driven world.\n",
        "\n",
        "\n",
        "[GitHub Link](https://github.com/chardiwall/DPSNN)\n",
        "\n",
        "---\n",
        "## Frameworks\n",
        "SNN Framwork: [SNNTorch](https://snntorch.readthedocs.io/en/latest/)\n",
        "\n",
        "DP Framwork: [Opacus](https://github.com/pytorch/opacus)\n",
        "\n",
        "Neuromorphic Dataset Framewrok: [Tonic](https://github.com/neuromorphs/tonic)\n",
        "\n",
        "---\n",
        "## Datasets\n",
        "\n",
        "| Static      | Neuromorphic |\n",
        "--------------|----------------\n",
        "| [CIFAR10](https://www.cs.toronto.edu/~kriz/cifar.html)      |[N-MNIST](https://www.garrickorchard.com/datasets/n-mnist#h.p_ID_38) |\n",
        "| [MNIST](https://yann.lecun.com/exdb/mnist/)      | [CIFAR10-DVS](https://figshare.com/articles/dataset/CIFAR10-DVS_New/4724671/2) |\n",
        "| [Fashion-MNIST](https://github.com/zalandoresearch/fashion-mnist)      |   |\n",
        "\n",
        "---\n"
      ]
    },
    {
      "cell_type": "markdown",
      "metadata": {
        "id": "WFHM-9gk2Bug"
      },
      "source": [
        "# Loading Essential Libraries"
      ]
    },
    {
      "cell_type": "code",
      "execution_count": null,
      "metadata": {
        "id": "HEGy77YL3Aug"
      },
      "outputs": [],
      "source": [
        "!pip install -q opacus\n",
        "!pip install -q snntorch==0.8.1\n",
        "!pip install -q tonic"
      ]
    },
    {
      "cell_type": "code",
      "execution_count": null,
      "metadata": {
        "id": "V3pG9qP43SUH"
      },
      "outputs": [],
      "source": [
        "import os\n",
        "import sys\n",
        "import pickle\n",
        "from copy import copy\n",
        "\n",
        "import numpy as np\n",
        "import seaborn as sns\n",
        "import matplotlib.pyplot as plt\n",
        "\n",
        "import torch\n",
        "from torch import nn\n",
        "from torch.utils.data import Dataset, DataLoader\n",
        "\n",
        "from torchsummary import summary\n",
        "from torchvision import datasets, transforms\n",
        "\n",
        "import tonic\n",
        "\n",
        "import snntorch as snn\n",
        "from snntorch import functional as SF\n",
        "from snntorch import spikeplot as splt\n",
        "from snntorch import utils, surrogate\n",
        "\n",
        "from opacus import PrivacyEngine"
      ]
    },
    {
      "cell_type": "markdown",
      "metadata": {
        "id": "eRVHqqevWViG"
      },
      "source": [
        "## Loading Datasets"
      ]
    },
    {
      "cell_type": "markdown",
      "metadata": {
        "id": "-Z_ZlrzN5okE"
      },
      "source": [
        "<details>\n",
        "<summary>Unzipping and Loading Data</summary>\n",
        "\n",
        "    base_dir_path = '/content/drive/MyDrive/Colab Notebooks/DPSNN/N-MNIST/'\n",
        "    train_zip_name = 'Copy of Train'\n",
        "    test_zip_name = 'Copy of Test'\n",
        "    for zip_file in [train_zip_name, test_zip_name]:\n",
        "    zip_path = os.path.join(base_dir_path, zip_file+'.zip')\n",
        "    with ZipFile(zip_path, 'r') as zip_ref:\n",
        "        extraction_path = os.path.join(base_dir_path, zip_file)\n",
        "        if not (os.path.exists(extraction_path)):\n",
        "        os.mkdir(extraction_path)\n",
        "        zip_ref.extractall(base_dir_path)\n",
        "\n",
        "    # CIFAR10-DVS\n",
        "    base_dir_path = '/content/drive/MyDrive/Colab Notebooks/DPSNN/CIFAR10-DVS'\n",
        "    file_name = 'CIFAR10-DVS.zip'\n",
        "    with ZipFile(os.path.join(base_dir_path, file_name), 'r') as zip_ref:\n",
        "        zip_ref.extractall(base_dir_path)\n",
        "\n",
        "</details>\n"
      ]
    },
    {
      "cell_type": "code",
      "execution_count": null,
      "metadata": {
        "id": "BoQr-tHJtQt0"
      },
      "outputs": [],
      "source": [
        "def fetch_data(name='mnist', batch_size=64, shuffle=True):\n",
        "    \"\"\"\n",
        "    Loads and returns data loaders for a given dataset.\n",
        "\n",
        "    Args:\n",
        "        name (str): Name of the dataset to be loaded. Supported datasets are 'mnist', 'fashion-mnist', 'cifar-10', 'nmnist', and 'cifar-10-dvs'.\n",
        "        batch_size (int, optional): Number of samples per batch to load.\n",
        "        shuffle (bool, optional): Whether to shuffle the dataset at every epoch.\n",
        "\n",
        "    Returns:\n",
        "        Tuple[DataLoader, DataLoader]: A tuple containing training and test data loaders.\n",
        "    \"\"\"\n",
        "\n",
        "    name = name.lower()\n",
        "\n",
        "    # Handling static datasets: MNIST, Fashion-MNIST, and CIFAR-10\n",
        "    if name in ['mnist', 'fashion-mnist', 'cifar-10']:\n",
        "\n",
        "        # Define a common transformation pipeline for the static datasets\n",
        "        transform = transforms.Compose([\n",
        "            transforms.Resize(size=(28, 28)),  # Resize images to 28x28 pixels\n",
        "            transforms.Grayscale(),  # Convert images to grayscale\n",
        "            transforms.ToTensor(),  # Convert images to PyTorch tensors\n",
        "            transforms.Normalize((0,), (1,))  # Normalize tensors\n",
        "        ])\n",
        "\n",
        "        # Load MNIST dataset\n",
        "        if name == 'mnist':\n",
        "            train = datasets.MNIST(root='.', train=True, transform=transform, download=True)\n",
        "            test = datasets.MNIST(root='.', train=False, transform=transform, download=True)\n",
        "\n",
        "        # Load Fashion MNIST dataset\n",
        "        elif name == 'fashion-mnist':\n",
        "            train = datasets.FashionMNIST(root='.', train=True, transform=transform, download=True)\n",
        "            test = datasets.FashionMNIST(root='.', train=False, transform=transform, download=True)\n",
        "\n",
        "        # Load CIFAR-10 dataset\n",
        "        elif name == 'cifar-10':\n",
        "            train = datasets.CIFAR10('.', train=True, transform=transform, download=True)\n",
        "            test = datasets.CIFAR10('.', train=False, transform=transform, download=True)\n",
        "\n",
        "        # Create data loaders for training and testing sets\n",
        "        train_loader = DataLoader(train, batch_size=batch_size, shuffle=shuffle, drop_last=True)\n",
        "        test_loader = DataLoader(test, batch_size=batch_size, shuffle=shuffle, drop_last=True)\n",
        "\n",
        "    # Handling neuromorphic datasets: NMNIST and CIFAR-10-DVS\n",
        "    elif name in ['nmnist', 'cifar-10-dvs']:\n",
        "        # Determine sensor size based on the dataset\n",
        "        sensor_size = tonic.datasets.NMNIST.sensor_size if name == 'nmnist' else tonic.datasets.CIFAR10DVS.sensor_size\n",
        "\n",
        "        # Define a transformation pipeline for neuromorphic datasets\n",
        "        transform = tonic.transforms.Compose([\n",
        "            tonic.transforms.Denoise(filter_time=10000),  # Apply denoising with a 10ms filter\n",
        "            tonic.transforms.ToFrame(sensor_size=sensor_size, time_window=1000)  # Convert events to frames\n",
        "        ])\n",
        "\n",
        "        # Load NMNIST dataset\n",
        "        if name == 'nmnist':\n",
        "            train = tonic.datasets.NMNIST('.', train=True, transform=transform)\n",
        "            test = tonic.datasets.NMNIST('.', train=False, transform=transform)\n",
        "\n",
        "        # Load CIFAR-10-DVS dataset\n",
        "        else:\n",
        "            train = tonic.datasets.CIFAR10DVS('.', train=True, transform=transform)\n",
        "            test = tonic.datasets.CIFAR10DVS('.', train=False, transform=transform)\n",
        "\n",
        "        # Create data loaders for training and testing sets\n",
        "        # Note: `collat_fn` should be `collate_fn`\n",
        "        train_loader = DataLoader(train, batch_size=batch_size, collate_fn=tonic.collation.PadTensors(batch_first=False), shuffle = shuffle)\n",
        "        test_loader = DataLoader(test, batch_size=batch_size, collate_fn=tonic.collation.PadTensors(batch_first = False))\n",
        "    else:\n",
        "        raise Exception(f'Error! {name} dataset not found...')\n",
        "\n",
        "    return train_loader, test_loader\n"
      ]
    },
    {
      "cell_type": "markdown",
      "metadata": {
        "id": "ThWOqbh5ZfDN"
      },
      "source": [
        "# Building SNN Architectures"
      ]
    },
    {
      "cell_type": "markdown",
      "metadata": {
        "id": "TcX4NvIsxArl"
      },
      "source": [
        "\n",
        "<details>\n",
        "<summary> Show Code Block </summary>\n",
        "```\n",
        "class SNN(nn.Module):\n",
        "  def __init__(self):\n",
        "    super().__init__()\n",
        "\n",
        "    # First convolutional block\n",
        "    self.cb_01 = nn.Sequential(\n",
        "        nn.Conv2d(in_channels = 1, out_channels = 12, kernel_size = 5),\n",
        "        nn.GroupNorm(num_groups = 6, num_channels= 12),\n",
        "        snn.Leaky(beta = 0.5, spike_grad = surrogate.fast_sigmoid(slope = 25), init_hidden = True),\n",
        "    )\n",
        "\n",
        "    # Second convolutional block\n",
        "    self.cb_02 = nn.Sequential(\n",
        "        nn.Conv2d(in_channels = 12, out_channels = 64, kernel_size = 5),\n",
        "        nn.GroupNorm(num_groups = 8, num_channels = 64),\n",
        "        snn.Leaky(beta = 0.5, spike_grad = surrogate.fast_sigmoid(slope = 25), init_hidden = True),\n",
        "    )\n",
        "\n",
        "    # Average pooling layer\n",
        "    self.pooling = nn.AvgPool2d(3)\n",
        "\n",
        "    # Third convolutional block\n",
        "    self.cb_03 = nn.Sequential(\n",
        "        nn.Conv2d(in_channels = 64, out_channels = 128, kernel_size = 5),\n",
        "        nn.GroupNorm(num_groups = 8, num_channels = 128),\n",
        "        snn.Leaky(beta = 0.5, spike_grad = surrogate.fast_sigmoid(slope = 25), init_hidden = True),\n",
        "    )\n",
        "\n",
        "    # Fully Connected Layer\n",
        "    self.FC = nn.Sequential(\n",
        "        nn.Flatten(),\n",
        "        nn.Linear(in_features = 128 * 2 * 2, out_features= 10),\n",
        "        snn.Leaky(beta = 0.5, spike_grad = surrogate.fast_sigmoid(slope = 25), init_hidden = True, output=True)\n",
        "    )\n",
        "    \n",
        "  def forward(self, x):\n",
        "    # Forward pass through the network\n",
        "    x = self.cb_01(x)\n",
        "    x = self.cb_02(x)\n",
        "    x = self.pooling(x)\n",
        "    x = self.cb_03(x)\n",
        "    x = self.FC(x)\n",
        "\n",
        "    return x\n",
        "```\n",
        "</details>"
      ]
    },
    {
      "cell_type": "code",
      "execution_count": null,
      "metadata": {
        "id": "Y6PiDfncsNWa"
      },
      "outputs": [],
      "source": [
        "# using gpu if available\n",
        "device = torch.device('cuda') if torch.cuda.is_available() else 'cpu'"
      ]
    },
    {
      "cell_type": "code",
      "execution_count": null,
      "metadata": {
        "id": "M0bnQscP90CW"
      },
      "outputs": [],
      "source": [
        "def fetch_model(model_name = 'mnist', show_summary = True, batch_size = -1):\n",
        "  \"\"\"\n",
        "  Creates and returns a neural network model based on the specified model name.\n",
        "\n",
        "  Args:\n",
        "    model_name (str, optional): Name of the model to fetch. Supported models are 'mnist', 'fashion-mnist', 'nmnist', 'cifar-10', and 'cifar-10-dvs'.\n",
        "    show_summary (bool, optional): If True, prints a summary of the model, detailing layers, output shapes, and parameter counts.\n",
        "    batch_size (int, optional): Specifies the batch size for the model summary. This does not affect model architecture.\n",
        "\n",
        "  Returns:\n",
        "    torch.nn.Module: The constructed neural network model.\n",
        "  \"\"\"\n",
        "  model_name = model_name.lower()\n",
        "\n",
        "  # Check if the model name is for MNIST, Fashion-MNIST, or NMNIST datasets\n",
        "  in_channels, in_feature = (2, 1600) if model_name == 'nmnist' else (1, 1024)\n",
        "  if model_name in ['mnist', 'fashion-mnist', 'nmnist']:\n",
        "    net = nn.Sequential(\n",
        "      # First convolution block\n",
        "      nn.Conv2d(in_channels = in_channels, out_channels = 32, kernel_size = 7),\n",
        "      nn.GroupNorm(num_groups = 8, num_channels= 32),\n",
        "      nn.AvgPool2d(2),\n",
        "      snn.Leaky(beta = 0.5, spike_grad = surrogate.fast_sigmoid(slope = 25), init_hidden = True),\n",
        "\n",
        "      #Second convolution block\n",
        "      nn.Conv2d(in_channels = 32, out_channels = 64, kernel_size = 4),\n",
        "      nn.GroupNorm(num_groups = 8, num_channels = 64),\n",
        "      nn.AvgPool2d(2),\n",
        "      snn.Leaky(beta = 0.5, spike_grad = surrogate.fast_sigmoid(slope = 25), init_hidden = True),\n",
        "\n",
        "      # Fully connected or output block\n",
        "      nn.Flatten(),\n",
        "      nn.Linear(in_features = in_feature, out_features= 10),\n",
        "      snn.Leaky(beta = 0.5, spike_grad = surrogate.fast_sigmoid(slope = 25), init_hidden = True, output=True)\n",
        "    )\n",
        "\n",
        "  # Check if the model name is for CIFAR-10 dataset\n",
        "  elif model_name == 'cifar-10':\n",
        "    net = nn.Sequential(\n",
        "      # First convolution block\n",
        "      nn.Conv2d(in_channels = 1, out_channels = 64, kernel_size = 3, stride = 1, padding = 2),\n",
        "      nn.GroupNorm(num_groups = 8, num_channels= 64),\n",
        "      snn.Leaky(beta = 0.5, spike_grad = surrogate.fast_sigmoid(slope = 25), init_hidden = True),\n",
        "\n",
        "      # Second convolution block\n",
        "    #   nn.Conv2d(in_channels = 64, out_channels = 64, kernel_size = 3, stride = 1, padding = 2),\n",
        "    #   nn.GroupNorm(num_groups = 8, num_channels= 64),\n",
        "    #   nn.AvgPool2d(5),\n",
        "    #   snn.Leaky(beta = 0.5, spike_grad = surrogate.fast_sigmoid(slope = 25), init_hidden = True),\n",
        "\n",
        "\n",
        "      # Third convolution block\n",
        "      nn.Conv2d(in_channels = 64, out_channels = 128, kernel_size = 3, stride = 1, padding = 2),\n",
        "      nn.GroupNorm(num_groups = 8, num_channels= 128),\n",
        "      snn.Leaky(beta = 0.5, spike_grad = surrogate.fast_sigmoid(slope = 25), init_hidden = True),\n",
        "\n",
        "      # Forth convolution block\n",
        "      nn.Conv2d(in_channels = 128, out_channels = 128, kernel_size = 3, stride = 1, padding = 2),\n",
        "      nn.GroupNorm(num_groups = 8, num_channels= 128),\n",
        "      nn.AvgPool2d(5),\n",
        "      snn.Leaky(beta = 0.5, spike_grad = surrogate.fast_sigmoid(slope = 25), init_hidden = True),\n",
        "\n",
        "      # Fifth convolution block\n",
        "    #   nn.Conv2d(in_channels = 128, out_channels = 128, kernel_size = 3, stride = 1, padding = 2),\n",
        "    #   nn.GroupNorm(num_groups = 8, num_channels= 128),\n",
        "    #   snn.Leaky(beta = 0.5, spike_grad = surrogate.fast_sigmoid(slope = 25), init_hidden = True),\n",
        "\n",
        "      # Sixth convolution block\n",
        "    #   nn.Conv2d(in_channels = 128, out_channels = 128, kernel_size = 3, stride = 1, padding = 2),\n",
        "    #   nn.GroupNorm(num_groups = 8, num_channels= 128),\n",
        "    #   nn.AvgPool2d(5),\n",
        "    #   snn.Leaky(beta = 0.5, spike_grad = surrogate.fast_sigmoid(slope = 25), init_hidden = True),\n",
        "\n",
        "      # Seventh convolution block\n",
        "      nn.Conv2d(in_channels = 128, out_channels = 256, kernel_size = 3, stride = 1, padding = 2),\n",
        "      nn.GroupNorm(num_groups = 8, num_channels= 256),\n",
        "      snn.Leaky(beta = 0.5, spike_grad = surrogate.fast_sigmoid(slope = 25), init_hidden = True),\n",
        "\n",
        "      # eighth convolution block\n",
        "      nn.Conv2d(in_channels = 256, out_channels = 256, kernel_size = 3, stride = 1, padding = 2),\n",
        "      nn.GroupNorm(num_groups = 8, num_channels= 256),\n",
        "      nn.AvgPool2d(4),\n",
        "      snn.Leaky(beta = 0.5, spike_grad = surrogate.fast_sigmoid(slope = 25), init_hidden = True),\n",
        "\n",
        "      # Fully connected or output block\n",
        "      nn.Flatten(),\n",
        "      nn.Linear(in_features = in_feature, out_features= 10),\n",
        "      snn.Leaky(beta = 0.5, spike_grad = surrogate.fast_sigmoid(slope = 25), init_hidden = True, output=True)\n",
        "    )\n",
        "\n",
        "  # Check if the model name is for CIFAR-10-DVS dataset\n",
        "  elif model_name == 'cifar-10-dvs':\n",
        "    net = nn.Sequential(\n",
        "      # First convolution block\n",
        "      nn.Conv2d(in_channels = 2, out_channels = 64, kernel_size = 3, stride = 1),\n",
        "      nn.GroupNorm(num_groups = 8, num_channels= 64),\n",
        "      snn.Leaky(beta = 0.5, spike_grad = surrogate.fast_sigmoid(slope = 25), init_hidden = True),\n",
        "\n",
        "      # Second convolution block\n",
        "      nn.Conv2d(in_channels = 64, out_channels = 64, kernel_size = 3, stride = 1),\n",
        "      nn.GroupNorm(num_groups = 8, num_channels= 64),\n",
        "      nn.AvgPool2d(4),\n",
        "      snn.Leaky(beta = 0.5, spike_grad = surrogate.fast_sigmoid(slope = 25), init_hidden = True),\n",
        "\n",
        "      # Third convolution block\n",
        "      nn.Conv2d(in_channels = 64, out_channels = 128, kernel_size = 3, stride = 1),\n",
        "      nn.GroupNorm(num_groups = 8, num_channels= 128),\n",
        "      nn.AvgPool2d(4),\n",
        "      snn.Leaky(beta = 0.5, spike_grad = surrogate.fast_sigmoid(slope = 25), init_hidden = True),\n",
        "\n",
        "      # Forth convolution block\n",
        "      nn.Conv2d(in_channels = 128, out_channels = 256, kernel_size = 3, stride = 1),\n",
        "      nn.GroupNorm(num_groups = 8, num_channels= 256),\n",
        "      snn.Leaky(beta = 0.5, spike_grad = surrogate.fast_sigmoid(slope = 25), init_hidden = True),\n",
        "\n",
        "      # Fifth convolution block\n",
        "      nn.Conv2d(in_channels = 256, out_channels = 256, kernel_size = 3, stride = 1),\n",
        "      nn.GroupNorm(num_groups = 8, num_channels= 256),\n",
        "      nn.AvgPool2d(4),\n",
        "      snn.Leaky(beta = 0.5, spike_grad = surrogate.fast_sigmoid(slope = 25), init_hidden = True),\n",
        "\n",
        "      # Sixth convolution block\n",
        "      nn.Conv2d(in_channels = 256, out_channels = 512, kernel_size = 3, stride = 1),\n",
        "      nn.GroupNorm(num_groups = 8, num_channels= 512),\n",
        "      nn.AvgPool2d(4),\n",
        "      snn.Leaky(beta = 0.5, spike_grad = surrogate.fast_sigmoid(slope = 25), init_hidden = True),\n",
        "\n",
        "      # Seventh convolution block\n",
        "      nn.Conv2d(in_channels = 512, out_channels = 1024, kernel_size = 3, stride = 1),\n",
        "      nn.GroupNorm(num_groups = 8, num_channels= 1024),\n",
        "      snn.Leaky(beta = 0.5, spike_grad = surrogate.fast_sigmoid(slope = 25), init_hidden = True),\n",
        "\n",
        "      # Fifth convolution block\n",
        "      nn.Conv2d(in_channels = 1024, out_channels = 1024, kernel_size = 3, stride = 1),\n",
        "      nn.GroupNorm(num_groups = 8, num_channels= 1024),\n",
        "      nn.AvgPool2d(4),\n",
        "      snn.Leaky(beta = 0.5, spike_grad = surrogate.fast_sigmoid(slope = 25), init_hidden = True),\n",
        "\n",
        "      # Fully connected or output block\n",
        "      nn.Flatten(),\n",
        "      nn.Linear(in_features = 1024 * 4 * 4, out_features= 10),\n",
        "      snn.Leaky(beta = 0.5, spike_grad = surrogate.fast_sigmoid(slope = 25), init_hidden = True, output=True)\n",
        "    )\n",
        "  else:\n",
        "    raise Exception('Model Not Found!')\n",
        "\n",
        "  # If requested, print a summary of the model showing layer details, output shapes, and parameter counts\n",
        "  if show_summary:\n",
        "      input_size = (2, 34, 34) if model_name in ['nmnist', 'cifar-10-dvs'] else (1, 28, 28)\n",
        "      summary(net, input_size = input_size, batch_size = batch_size, device = 'cpu')\n",
        "\n",
        "  return net.to(device)"
      ]
    },
    {
      "cell_type": "markdown",
      "metadata": {
        "id": "JHVA8FTp37lq"
      },
      "source": [
        "# Training the Network"
      ]
    },
    {
      "cell_type": "code",
      "execution_count": null,
      "metadata": {
        "id": "uZDKlnKfgpOY"
      },
      "outputs": [],
      "source": [
        "def plot_training_history(history):\n",
        "    '''\n",
        "    Plots the training and testing accuracy and loss as a function of epochs.\n",
        "    This function provides insight into the learning behavior of the model and helps in diagnosing issues like overfitting or underfitting.\n",
        "\n",
        "    Args:\n",
        "        history (dict): A dictionary containing 'Training Accuracy', 'Testing Accuracy', 'Training Loss', and 'Testing Loss' as keys with lists of their values per epoch.\n",
        "    '''\n",
        "\n",
        "    # Setting the style of seaborn for more beautiful plots\n",
        "    sns.set(style=\"whitegrid\")\n",
        "\n",
        "    # Setting up the matplotlib figure with a certain size\n",
        "    fig, axes = plt.subplots(1, 2, figsize=(12, 3))\n",
        "\n",
        "    # Plotting Training and Testing Accuracy\n",
        "    axes[0].plot(history['Training Accuracy'], label='Training Accuracy')\n",
        "    axes[0].plot(history['Testing Accuracy'], label='Testing Accuracy')\n",
        "    axes[0].set_title('Training and Testing Accuracy')\n",
        "    axes[0].set_xlabel('Epochs')\n",
        "    axes[0].set_ylabel('Accuracy')\n",
        "    axes[0].set_ylim(0, 1)  # Set the limit for y-axis from 0 to 1\n",
        "    axes[0].legend()\n",
        "\n",
        "    # Plotting Training and Testing Loss\n",
        "    axes[1].plot(history['Training Loss'], label='Training Loss')\n",
        "    axes[1].plot(history['Testing Loss'], label='Testing Loss')\n",
        "    axes[1].set_title('Training and Testing Loss')\n",
        "    axes[1].set_xlabel('Epochs')\n",
        "    axes[1].set_ylabel('Loss')\n",
        "\n",
        "    axes[1].legend()\n",
        "\n",
        "    # Displayinf the plots\n",
        "    plt.tight_layout()\n",
        "    plt.show()"
      ]
    },
    {
      "cell_type": "code",
      "execution_count": null,
      "metadata": {
        "id": "_UNW4dmUDroq"
      },
      "outputs": [],
      "source": [
        "# Feed forward pass function for static dataset\n",
        "def fwrd_pass(net, num_steps, data):\n",
        "  mem_rec = []\n",
        "  spk_rec = []\n",
        "  utils.reset(net)  # resets hidden states for all LIF neurons in net\n",
        "  for step in range(num_steps):\n",
        "    spk_out, mem_out = net(data)\n",
        "    spk_rec.append(spk_out)\n",
        "    mem_rec.append(mem_out)\n",
        "\n",
        "  return torch.stack(spk_rec), torch.stack(mem_rec)\n",
        "\n",
        "# Feed forward pass function for neuromorphic dataset\n",
        "def neuro_fwrd_pass(net, data):\n",
        "  spk_rec = []\n",
        "  utils.reset(net)  # resets hidden states for all LIF neurons in net\n",
        "\n",
        "  for step in range(data.size(0)):  # data.size(0) = number of time steps\n",
        "    spk_out, mem_out = net(data[step])\n",
        "    spk_rec.append(spk_out)\n",
        "\n",
        "  return torch.stack(spk_rec)"
      ]
    },
    {
      "cell_type": "code",
      "execution_count": null,
      "metadata": {
        "id": "0h2H5X5M_nOA"
      },
      "outputs": [],
      "source": [
        "def train_network(dataset_name, epochs = 2, lr=1e-3, betas=(0.9, 0.999), batch_size = 64, shuffle=True, dp=None):\n",
        "  \"\"\"\n",
        "  Trains a neural network on a specified dataset, with options for differential privacy.\n",
        "\n",
        "  Args:\n",
        "    dataset_name (str): Name of the dataset to use for training and evaluation.\n",
        "    epochs (int, optional): Number of training epochs. Defaults to 2.\n",
        "    lr (float, optional): Learning rate for the optimizer. Defaults to 1e-3.\n",
        "    betas (tuple, optional): Coefficients used for computing running averages of gradient and its square.\n",
        "    batch_size (int, optional): Batch size for data loading. Defaults to 64.\n",
        "    shuffle (bool, optional): Whether to shuffle the dataset. Defaults to True.\n",
        "    dp (optional): Settings for differential privacy. If provided, differential privacy mechanisms are applied.\n",
        "\n",
        "  Returns:\n",
        "    (torch.nn.Module, dict): Trained model and history of training/testing accuracy and loss.\n",
        "  \"\"\"\n",
        "\n",
        "  target_name = copy(dataset_name)\n",
        "\n",
        "  # Initialize a dictionary to store training and testing metrics\n",
        "  history = {\n",
        "    'Training Accuracy': [],\n",
        "    'Testing Accuracy': [],\n",
        "    'Training Loss': [],\n",
        "    'Testing Loss': []\n",
        "  }\n",
        "\n",
        "  # Loading required dataset\n",
        "  train_loader, test_loader = fetch_data(name=dataset_name, batch_size=batch_size, shuffle=shuffle)\n",
        "\n",
        "  # Initializing the model based on dataset\n",
        "  net = fetch_model(dataset_name, show_summary = True, batch_size = batch_size)\n",
        "\n",
        "  # Defining loss function and optimizer\n",
        "  loss = SF.ce_rate_loss()\n",
        "  optimizer = torch.optim.AdamW(net.parameters(), lr=lr, betas=betas)\n",
        "\n",
        "\n",
        "  # configuring the privacy engine if differential privacy is required\n",
        "  if dp:\n",
        "    privacy_engine = PrivacyEngine(accountant = 'rdp')\n",
        "    print( \"Are Model, Optimzer and Data_Loader compatible with opacus framework:\",\n",
        "      privacy_engine.is_compatible(module = net, optimizer = optimizer, data_loader = train_loader))\n",
        "\n",
        "    # Configure only the optimizer for differential privacy\n",
        "    _, optimizer, _ = privacy_engine.make_private_with_epsilon(\n",
        "      module=net,\n",
        "      optimizer=optimizer,\n",
        "      data_loader=train_loader,\n",
        "      epochs = epochs,\n",
        "      max_grad_norm = dp['c'], # 'c' is a hyperparameter for clipping gradients\n",
        "      target_delta = dp['delta'],\n",
        "      target_epsilon = dp['target_ep']\n",
        "    )\n",
        "    history['epsilon'] = []\n",
        "    target_name += '_with_dp'\n",
        "\n",
        "  # Training and evaluation loop\n",
        "  for epoch in range(epochs):\n",
        "    net.train()\n",
        "    train_acc, train_loss, train_acc_total = 0, 0, 0\n",
        "\n",
        "    for X, y in train_loader:\n",
        "      X, y = X.to(device), y.to(device)\n",
        "\n",
        "      if dataset_name in ['nmnist', 'cifar-10-dvs']:\n",
        "        spk_rec = neuro_fwrd_pass(net, X)\n",
        "      else:\n",
        "        spk_rec, _ = fwrd_pass(net, 10, X)\n",
        "\n",
        "      loss_val = loss(spk_rec, y)\n",
        "\n",
        "      optimizer.zero_grad()\n",
        "      loss_val.backward()\n",
        "      optimizer.step()\n",
        "\n",
        "      train_acc += SF.accuracy_rate(spk_rec, y) * spk_rec.size(1)\n",
        "      train_acc_total += spk_rec.size(1)\n",
        "      train_loss += loss_val.item()\n",
        "\n",
        "    net.eval()\n",
        "    test_acc, test_loss, test_acc_total = 0, 0, 0\n",
        "\n",
        "    with torch.inference_mode():\n",
        "      for X, y in test_loader:\n",
        "        X, y = X.to(device), y.to(device)\n",
        "\n",
        "        if dataset_name in ['nmnist', 'cifar-10-dvs']:\n",
        "          spk_rec = neuro_fwrd_pass(net, X)\n",
        "        else:\n",
        "          spk_rec, _ = fwrd_pass(net, 10, X)\n",
        "\n",
        "        loss_val = loss(spk_rec, y)\n",
        "\n",
        "        test_acc += SF.accuracy_rate(spk_rec, y) * spk_rec.size(1)\n",
        "        test_acc_total += spk_rec.size(1)\n",
        "        test_loss += loss_val.item()\n",
        "\n",
        "    history['Training Accuracy'].append(train_acc / train_acc_total)\n",
        "    history['Testing Accuracy'].append(test_acc / test_acc_total)\n",
        "    history['Training Loss'].append(train_loss / len(train_loader))\n",
        "    history['Testing Loss'].append(test_loss / len(test_loader))\n",
        "    print(f'Epoch {epoch}: Train Acc: {train_acc / train_acc_total:.3f}, Test Acc: {test_acc / test_acc_total:.3f}, Train Loss: {train_loss / len(train_loader):.3f}, Test Loss: {test_loss / len(test_loader):.3f}')\n",
        "\n",
        "    if dp:\n",
        "      epsilon = privacy_engine.get_epsilon(delta=dp['delta'])\n",
        "      history['epsilon'].append(epsilon)\n",
        "\n",
        "      print(f\"(ε = {epsilon:.2f}, δ = {dp['delta']})\")\n",
        "\n",
        "  np.save(target_name+'.npy', history)\n",
        "  # torch.save(net, target_name+'.pt')\n",
        "  with open(target_name + '.pkl', 'wb') as file:\n",
        "    pickle.dump(net.state_dict(), file)\n",
        "\n",
        "  return net, history"
      ]
    },
    {
      "cell_type": "markdown",
      "metadata": {
        "id": "WOrUDdFrnzL_"
      },
      "source": [
        "## MNIST"
      ]
    },
    {
      "cell_type": "code",
      "execution_count": null,
      "metadata": {
        "id": "fVsGhMClrliz"
      },
      "outputs": [],
      "source": [
        "dp = {\n",
        "    'c': 2,\n",
        "    'delta': 1e-5,\n",
        "    'target_ep': 3,\n",
        "}"
      ]
    },
    {
      "cell_type": "code",
      "execution_count": null,
      "metadata": {
        "colab": {
          "base_uri": "https://localhost:8080/",
          "height": 755
        },
        "id": "ylhH1DYgj-YI",
        "outputId": "c8940986-0f50-49b1-e13a-8828918a87f5"
      },
      "outputs": [
        {
          "output_type": "stream",
          "name": "stdout",
          "text": [
            "Epoch 0: Train Acc: 0.871, Test Acc: 0.962, Train Loss: 1.609, Test Loss: 1.506\n",
            "Epoch 1: Train Acc: 0.966, Test Acc: 0.973, Train Loss: 1.502, Test Loss: 1.493\n",
            "Epoch 2: Train Acc: 0.975, Test Acc: 0.978, Train Loss: 1.492, Test Loss: 1.487\n",
            "Epoch 3: Train Acc: 0.976, Test Acc: 0.980, Train Loss: 1.488, Test Loss: 1.485\n",
            "Epoch 4: Train Acc: 0.981, Test Acc: 0.982, Train Loss: 1.484, Test Loss: 1.483\n",
            "Epoch 5: Train Acc: 0.982, Test Acc: 0.982, Train Loss: 1.483, Test Loss: 1.483\n",
            "Epoch 6: Train Acc: 0.983, Test Acc: 0.982, Train Loss: 1.481, Test Loss: 1.482\n",
            "Epoch 7: Train Acc: 0.983, Test Acc: 0.984, Train Loss: 1.480, Test Loss: 1.481\n",
            "Epoch 8: Train Acc: 0.984, Test Acc: 0.987, Train Loss: 1.479, Test Loss: 1.478\n",
            "Epoch 9: Train Acc: 0.985, Test Acc: 0.986, Train Loss: 1.479, Test Loss: 1.478\n",
            "Epoch 10: Train Acc: 0.985, Test Acc: 0.986, Train Loss: 1.478, Test Loss: 1.477\n",
            "Epoch 11: Train Acc: 0.986, Test Acc: 0.987, Train Loss: 1.476, Test Loss: 1.476\n",
            "Epoch 12: Train Acc: 0.987, Test Acc: 0.986, Train Loss: 1.477, Test Loss: 1.477\n",
            "Epoch 13: Train Acc: 0.987, Test Acc: 0.988, Train Loss: 1.476, Test Loss: 1.475\n",
            "Epoch 14: Train Acc: 0.988, Test Acc: 0.989, Train Loss: 1.475, Test Loss: 1.475\n",
            "Epoch 15: Train Acc: 0.988, Test Acc: 0.984, Train Loss: 1.475, Test Loss: 1.477\n",
            "Epoch 16: Train Acc: 0.987, Test Acc: 0.987, Train Loss: 1.476, Test Loss: 1.476\n",
            "Epoch 17: Train Acc: 0.988, Test Acc: 0.987, Train Loss: 1.475, Test Loss: 1.476\n",
            "Epoch 18: Train Acc: 0.989, Test Acc: 0.989, Train Loss: 1.474, Test Loss: 1.475\n",
            "Epoch 19: Train Acc: 0.989, Test Acc: 0.987, Train Loss: 1.473, Test Loss: 1.476\n",
            "Epoch 20: Train Acc: 0.989, Test Acc: 0.991, Train Loss: 1.474, Test Loss: 1.474\n",
            "Epoch 21: Train Acc: 0.990, Test Acc: 0.988, Train Loss: 1.473, Test Loss: 1.474\n",
            "Epoch 22: Train Acc: 0.989, Test Acc: 0.986, Train Loss: 1.473, Test Loss: 1.475\n",
            "Epoch 23: Train Acc: 0.990, Test Acc: 0.988, Train Loss: 1.472, Test Loss: 1.473\n",
            "Epoch 24: Train Acc: 0.991, Test Acc: 0.989, Train Loss: 1.472, Test Loss: 1.474\n"
          ]
        },
        {
          "output_type": "display_data",
          "data": {
            "text/plain": [
              "<Figure size 1200x300 with 2 Axes>"
            ],
            "image/png": "[encoded data removed]"
          },
          "metadata": {}
        }
      ],
      "source": [
        "mnist_net, mnist_net_history = train_network(dataset_name = 'mnist', lr = 0.005, epochs = 25, batch_size = 1024, dp = None)\n",
        "\n",
        "plot_training_history(mnist_net_history)"
      ]
    },
    {
      "cell_type": "code",
      "source": [
        "from art.attacks.inference.membership_inference import MembershipInferenceBlackBox\n",
        "from art.estimators.classification.pytorch import PyTorchClassifier\n",
        "\n",
        "#(batch size , 2, 28, 28)\n",
        "\n",
        "train, test = fetch_data()\n",
        "x_train, y_train = next(iter(train))\n",
        "x_test, y_test = next(iter(test))\n",
        "\n",
        "net = PyTorchClassifier(model=mnist_net, loss=SF.ce_rate_loss(),\n",
        "                        optimizer=torch.optim.AdamW(mnist_net.parameters(), lr=0.01), input_shape=(1, 28, 28), nb_classes= 10)\n",
        "\n",
        "bb_attack = MembershipInferenceBlackBox(net)\n",
        "\n",
        "bb_attack.fit(x_train, y_train, x_test, y_test)\n",
        "\n",
        "# get inferred values\n",
        "inferred_train_bb = bb_attack.infer(x_train, y_train)\n",
        "inferred_test_bb = bb_attack.infer(x_test, y_test)\n",
        "# check accuracy\n",
        "train_acc = np.sum(inferred_train_bb) / len(inferred_train_bb)\n",
        "test_acc = 1 - (np.sum(inferred_test_bb) / len(inferred_test_bb))\n",
        "acc = (train_acc * len(inferred_train_bb) + test_acc * len(inferred_test_bb)) / (len(inferred_train_bb) + len(inferred_test_bb))\n",
        "print(f\"Members Accuracy: {train_acc:.4f}\")\n",
        "print(f\"Non Members Accuracy {test_acc:.4f}\")\n",
        "print(f\"Attack Accuracy {acc:.4f}\")"
      ],
      "metadata": {
        "colab": {
          "base_uri": "https://localhost:8080/",
          "height": 651
        },
        "id": "3xc-cmw9X7Gp",
        "outputId": "ec139e76-77be-4a67-ffac-373b821f3d7d"
      },
      "execution_count": null,
      "outputs": [
        {
          "output_type": "error",
          "ename": "AttributeError",
          "evalue": "'tuple' object has no attribute 'detach'",
          "traceback": [
            "\u001b[0;31m---------------------------------------------------------------------------\u001b[0m",
            "\u001b[0;31mAttributeError\u001b[0m                            Traceback (most recent call last)",
            "\u001b[0;32m<ipython-input-39-cf1d84bc0a8f>\u001b[0m in \u001b[0;36m<cell line: 15>\u001b[0;34m()\u001b[0m\n\u001b[1;32m     13\u001b[0m \u001b[0mbb_attack\u001b[0m \u001b[0;34m=\u001b[0m \u001b[0mMembershipInferenceBlackBox\u001b[0m\u001b[0;34m(\u001b[0m\u001b[0mnet\u001b[0m\u001b[0;34m)\u001b[0m\u001b[0;34m\u001b[0m\u001b[0;34m\u001b[0m\u001b[0m\n\u001b[1;32m     14\u001b[0m \u001b[0;34m\u001b[0m\u001b[0m\n\u001b[0;32m---> 15\u001b[0;31m \u001b[0mbb_attack\u001b[0m\u001b[0;34m.\u001b[0m\u001b[0mfit\u001b[0m\u001b[0;34m(\u001b[0m\u001b[0mx_train\u001b[0m\u001b[0;34m,\u001b[0m \u001b[0my_train\u001b[0m\u001b[0;34m,\u001b[0m \u001b[0mx_test\u001b[0m\u001b[0;34m,\u001b[0m \u001b[0my_test\u001b[0m\u001b[0;34m)\u001b[0m\u001b[0;34m\u001b[0m\u001b[0;34m\u001b[0m\u001b[0m\n\u001b[0m\u001b[1;32m     16\u001b[0m \u001b[0;34m\u001b[0m\u001b[0m\n\u001b[1;32m     17\u001b[0m \u001b[0;31m# get inferred values\u001b[0m\u001b[0;34m\u001b[0m\u001b[0;34m\u001b[0m\u001b[0m\n",
            "\u001b[0;32m/usr/local/lib/python3.10/dist-packages/art/attacks/inference/membership_inference/black_box.py\u001b[0m in \u001b[0;36mfit\u001b[0;34m(self, x, y, test_x, test_y, pred, test_pred, **kwargs)\u001b[0m\n\u001b[1;32m    190\u001b[0m             \u001b[0;31m# members\u001b[0m\u001b[0;34m\u001b[0m\u001b[0;34m\u001b[0m\u001b[0m\n\u001b[1;32m    191\u001b[0m             \u001b[0;32mif\u001b[0m \u001b[0mpred\u001b[0m \u001b[0;32mis\u001b[0m \u001b[0;32mNone\u001b[0m\u001b[0;34m:\u001b[0m\u001b[0;34m\u001b[0m\u001b[0;34m\u001b[0m\u001b[0m\n\u001b[0;32m--> 192\u001b[0;31m                 \u001b[0mfeatures\u001b[0m \u001b[0;34m=\u001b[0m \u001b[0mself\u001b[0m\u001b[0;34m.\u001b[0m\u001b[0mestimator\u001b[0m\u001b[0;34m.\u001b[0m\u001b[0mpredict\u001b[0m\u001b[0;34m(\u001b[0m\u001b[0mx\u001b[0m\u001b[0;34m)\u001b[0m\u001b[0;34m.\u001b[0m\u001b[0mastype\u001b[0m\u001b[0;34m(\u001b[0m\u001b[0mnp\u001b[0m\u001b[0;34m.\u001b[0m\u001b[0mfloat32\u001b[0m\u001b[0;34m)\u001b[0m\u001b[0;34m\u001b[0m\u001b[0;34m\u001b[0m\u001b[0m\n\u001b[0m\u001b[1;32m    193\u001b[0m             \u001b[0;32melse\u001b[0m\u001b[0;34m:\u001b[0m\u001b[0;34m\u001b[0m\u001b[0;34m\u001b[0m\u001b[0m\n\u001b[1;32m    194\u001b[0m                 \u001b[0mfeatures\u001b[0m \u001b[0;34m=\u001b[0m \u001b[0mpred\u001b[0m\u001b[0;34m.\u001b[0m\u001b[0mastype\u001b[0m\u001b[0;34m(\u001b[0m\u001b[0mnp\u001b[0m\u001b[0;34m.\u001b[0m\u001b[0mfloat32\u001b[0m\u001b[0;34m)\u001b[0m\u001b[0;34m\u001b[0m\u001b[0;34m\u001b[0m\u001b[0m\n",
            "\u001b[0;32m/usr/local/lib/python3.10/dist-packages/art/estimators/classification/classifier.py\u001b[0m in \u001b[0;36mreplacement_function\u001b[0;34m(self, *args, **kwargs)\u001b[0m\n\u001b[1;32m     71\u001b[0m                 \u001b[0;32mif\u001b[0m \u001b[0mlen\u001b[0m\u001b[0;34m(\u001b[0m\u001b[0margs\u001b[0m\u001b[0;34m)\u001b[0m \u001b[0;34m>\u001b[0m \u001b[0;36m0\u001b[0m\u001b[0;34m:\u001b[0m\u001b[0;34m\u001b[0m\u001b[0;34m\u001b[0m\u001b[0m\n\u001b[1;32m     72\u001b[0m                     \u001b[0margs\u001b[0m \u001b[0;34m=\u001b[0m \u001b[0mtuple\u001b[0m\u001b[0;34m(\u001b[0m\u001b[0mlst\u001b[0m\u001b[0;34m)\u001b[0m\u001b[0;34m\u001b[0m\u001b[0;34m\u001b[0m\u001b[0m\n\u001b[0;32m---> 73\u001b[0;31m                 \u001b[0;32mreturn\u001b[0m \u001b[0mfdict\u001b[0m\u001b[0;34m[\u001b[0m\u001b[0mfunc_name\u001b[0m\u001b[0;34m]\u001b[0m\u001b[0;34m(\u001b[0m\u001b[0mself\u001b[0m\u001b[0;34m,\u001b[0m \u001b[0;34m*\u001b[0m\u001b[0margs\u001b[0m\u001b[0;34m,\u001b[0m \u001b[0;34m**\u001b[0m\u001b[0mkwargs\u001b[0m\u001b[0;34m)\u001b[0m\u001b[0;34m\u001b[0m\u001b[0;34m\u001b[0m\u001b[0m\n\u001b[0m\u001b[1;32m     74\u001b[0m \u001b[0;34m\u001b[0m\u001b[0m\n\u001b[1;32m     75\u001b[0m             \u001b[0mreplacement_function\u001b[0m\u001b[0;34m.\u001b[0m\u001b[0m__doc__\u001b[0m \u001b[0;34m=\u001b[0m \u001b[0mfdict\u001b[0m\u001b[0;34m[\u001b[0m\u001b[0mfunc_name\u001b[0m\u001b[0;34m]\u001b[0m\u001b[0;34m.\u001b[0m\u001b[0m__doc__\u001b[0m\u001b[0;34m\u001b[0m\u001b[0;34m\u001b[0m\u001b[0m\n",
            "\u001b[0;32m/usr/local/lib/python3.10/dist-packages/art/estimators/classification/pytorch.py\u001b[0m in \u001b[0;36mpredict\u001b[0;34m(self, x, batch_size, training_mode, **kwargs)\u001b[0m\n\u001b[1;32m    332\u001b[0m                 \u001b[0mmodel_outputs\u001b[0m \u001b[0;34m=\u001b[0m \u001b[0mself\u001b[0m\u001b[0;34m.\u001b[0m\u001b[0m_model\u001b[0m\u001b[0;34m(\u001b[0m\u001b[0mx_batch\u001b[0m\u001b[0;34m)\u001b[0m\u001b[0;34m\u001b[0m\u001b[0;34m\u001b[0m\u001b[0m\n\u001b[1;32m    333\u001b[0m             \u001b[0moutput\u001b[0m \u001b[0;34m=\u001b[0m \u001b[0mmodel_outputs\u001b[0m\u001b[0;34m[\u001b[0m\u001b[0;34m-\u001b[0m\u001b[0;36m1\u001b[0m\u001b[0;34m]\u001b[0m\u001b[0;34m\u001b[0m\u001b[0;34m\u001b[0m\u001b[0m\n\u001b[0;32m--> 334\u001b[0;31m             \u001b[0moutput\u001b[0m \u001b[0;34m=\u001b[0m \u001b[0moutput\u001b[0m\u001b[0;34m.\u001b[0m\u001b[0mdetach\u001b[0m\u001b[0;34m(\u001b[0m\u001b[0;34m)\u001b[0m\u001b[0;34m.\u001b[0m\u001b[0mcpu\u001b[0m\u001b[0;34m(\u001b[0m\u001b[0;34m)\u001b[0m\u001b[0;34m.\u001b[0m\u001b[0mnumpy\u001b[0m\u001b[0;34m(\u001b[0m\u001b[0;34m)\u001b[0m\u001b[0;34m.\u001b[0m\u001b[0mastype\u001b[0m\u001b[0;34m(\u001b[0m\u001b[0mnp\u001b[0m\u001b[0;34m.\u001b[0m\u001b[0mfloat32\u001b[0m\u001b[0;34m)\u001b[0m\u001b[0;34m\u001b[0m\u001b[0;34m\u001b[0m\u001b[0m\n\u001b[0m\u001b[1;32m    335\u001b[0m             \u001b[0;32mif\u001b[0m \u001b[0mlen\u001b[0m\u001b[0;34m(\u001b[0m\u001b[0moutput\u001b[0m\u001b[0;34m.\u001b[0m\u001b[0mshape\u001b[0m\u001b[0;34m)\u001b[0m \u001b[0;34m==\u001b[0m \u001b[0;36m1\u001b[0m\u001b[0;34m:\u001b[0m\u001b[0;34m\u001b[0m\u001b[0;34m\u001b[0m\u001b[0m\n\u001b[1;32m    336\u001b[0m                 \u001b[0moutput\u001b[0m \u001b[0;34m=\u001b[0m \u001b[0mnp\u001b[0m\u001b[0;34m.\u001b[0m\u001b[0mexpand_dims\u001b[0m\u001b[0;34m(\u001b[0m\u001b[0moutput\u001b[0m\u001b[0;34m,\u001b[0m \u001b[0maxis\u001b[0m\u001b[0;34m=\u001b[0m\u001b[0;36m1\u001b[0m\u001b[0;34m)\u001b[0m\u001b[0;34m.\u001b[0m\u001b[0mastype\u001b[0m\u001b[0;34m(\u001b[0m\u001b[0mnp\u001b[0m\u001b[0;34m.\u001b[0m\u001b[0mfloat32\u001b[0m\u001b[0;34m)\u001b[0m\u001b[0;34m\u001b[0m\u001b[0;34m\u001b[0m\u001b[0m\n",
            "\u001b[0;31mAttributeError\u001b[0m: 'tuple' object has no attribute 'detach'"
          ]
        }
      ]
    },
    {
      "cell_type": "markdown",
      "metadata": {
        "id": "-czE13NfoGOr"
      },
      "source": [
        "## MNIST with DP"
      ]
    },
    {
      "cell_type": "code",
      "execution_count": null,
      "metadata": {
        "colab": {
          "base_uri": "https://localhost:8080/",
          "height": 495
        },
        "id": "XgkIDKcdVGDV",
        "outputId": "71764cf6-bb65-4738-dacd-cc1f2da6a77e"
      },
      "outputs": [
        {
          "output_type": "stream",
          "name": "stderr",
          "text": [
            "WARNING:opacus.data_loader:Ignoring drop_last as it is not compatible with DPDataLoader.\n"
          ]
        },
        {
          "output_type": "stream",
          "name": "stdout",
          "text": [
            "Are Model, Optimzer and Data_Loader compatible with opacus framework: True\n"
          ]
        },
        {
          "output_type": "error",
          "ename": "EinopsError",
          "evalue": " Error while processing rearrange-reduction pattern \"(t b) c w h -> b t c w h\".\n Input tensor shape: torch.Size([0, 10, 32, 22, 22]). Additional info: {'t': 1, 'b': 4}.\n Wrong shape: expected 4 dims. Received 5-dim tensor.",
          "traceback": [
            "\u001b[0;31m---------------------------------------------------------------------------\u001b[0m",
            "\u001b[0;31mEinopsError\u001b[0m                               Traceback (most recent call last)",
            "\u001b[0;32m/usr/local/lib/python3.10/dist-packages/einops/einops.py\u001b[0m in \u001b[0;36mreduce\u001b[0;34m(tensor, pattern, reduction, **axes_lengths)\u001b[0m\n\u001b[1;32m    521\u001b[0m         \u001b[0mshape\u001b[0m \u001b[0;34m=\u001b[0m \u001b[0mbackend\u001b[0m\u001b[0;34m.\u001b[0m\u001b[0mshape\u001b[0m\u001b[0;34m(\u001b[0m\u001b[0mtensor\u001b[0m\u001b[0;34m)\u001b[0m\u001b[0;34m\u001b[0m\u001b[0;34m\u001b[0m\u001b[0m\n\u001b[0;32m--> 522\u001b[0;31m         \u001b[0mrecipe\u001b[0m \u001b[0;34m=\u001b[0m \u001b[0m_prepare_transformation_recipe\u001b[0m\u001b[0;34m(\u001b[0m\u001b[0mpattern\u001b[0m\u001b[0;34m,\u001b[0m \u001b[0mreduction\u001b[0m\u001b[0;34m,\u001b[0m \u001b[0maxes_names\u001b[0m\u001b[0;34m=\u001b[0m\u001b[0mtuple\u001b[0m\u001b[0;34m(\u001b[0m\u001b[0maxes_lengths\u001b[0m\u001b[0;34m)\u001b[0m\u001b[0;34m,\u001b[0m \u001b[0mndim\u001b[0m\u001b[0;34m=\u001b[0m\u001b[0mlen\u001b[0m\u001b[0;34m(\u001b[0m\u001b[0mshape\u001b[0m\u001b[0;34m)\u001b[0m\u001b[0;34m)\u001b[0m\u001b[0;34m\u001b[0m\u001b[0;34m\u001b[0m\u001b[0m\n\u001b[0m\u001b[1;32m    523\u001b[0m         return _apply_recipe(\n",
            "\u001b[0;32m/usr/local/lib/python3.10/dist-packages/einops/einops.py\u001b[0m in \u001b[0;36m_prepare_transformation_recipe\u001b[0;34m(pattern, operation, axes_names, ndim)\u001b[0m\n\u001b[1;32m    364\u001b[0m         \u001b[0;32mif\u001b[0m \u001b[0mndim\u001b[0m \u001b[0;34m!=\u001b[0m \u001b[0mlen\u001b[0m\u001b[0;34m(\u001b[0m\u001b[0mleft\u001b[0m\u001b[0;34m.\u001b[0m\u001b[0mcomposition\u001b[0m\u001b[0;34m)\u001b[0m\u001b[0;34m:\u001b[0m\u001b[0;34m\u001b[0m\u001b[0;34m\u001b[0m\u001b[0m\n\u001b[0;32m--> 365\u001b[0;31m             \u001b[0;32mraise\u001b[0m \u001b[0mEinopsError\u001b[0m\u001b[0;34m(\u001b[0m\u001b[0;34mf\"Wrong shape: expected {len(left.composition)} dims. Received {ndim}-dim tensor.\"\u001b[0m\u001b[0;34m)\u001b[0m\u001b[0;34m\u001b[0m\u001b[0;34m\u001b[0m\u001b[0m\n\u001b[0m\u001b[1;32m    366\u001b[0m         \u001b[0mleft_composition\u001b[0m \u001b[0;34m=\u001b[0m \u001b[0mleft\u001b[0m\u001b[0;34m.\u001b[0m\u001b[0mcomposition\u001b[0m\u001b[0;34m\u001b[0m\u001b[0;34m\u001b[0m\u001b[0m\n",
            "\u001b[0;31mEinopsError\u001b[0m: Wrong shape: expected 4 dims. Received 5-dim tensor.",
            "\nDuring handling of the above exception, another exception occurred:\n",
            "\u001b[0;31mEinopsError\u001b[0m                               Traceback (most recent call last)",
            "\u001b[0;32m<ipython-input-49-7a5490a56381>\u001b[0m in \u001b[0;36m<cell line: 1>\u001b[0;34m()\u001b[0m\n\u001b[0;32m----> 1\u001b[0;31m \u001b[0mmnist_net_dp\u001b[0m\u001b[0;34m,\u001b[0m \u001b[0mmnist_net_dp_history\u001b[0m \u001b[0;34m=\u001b[0m \u001b[0mtrain_network\u001b[0m\u001b[0;34m(\u001b[0m\u001b[0mdataset_name\u001b[0m \u001b[0;34m=\u001b[0m \u001b[0;34m'mnist'\u001b[0m\u001b[0;34m,\u001b[0m \u001b[0mlr\u001b[0m \u001b[0;34m=\u001b[0m \u001b[0;36m0.025\u001b[0m\u001b[0;34m,\u001b[0m \u001b[0mepochs\u001b[0m \u001b[0;34m=\u001b[0m \u001b[0;36m40\u001b[0m\u001b[0;34m,\u001b[0m \u001b[0mbatch_size\u001b[0m \u001b[0;34m=\u001b[0m \u001b[0;36m1024\u001b[0m\u001b[0;34m,\u001b[0m \u001b[0mdp\u001b[0m \u001b[0;34m=\u001b[0m \u001b[0mdp\u001b[0m\u001b[0;34m)\u001b[0m\u001b[0;34m\u001b[0m\u001b[0;34m\u001b[0m\u001b[0m\n\u001b[0m\u001b[1;32m      2\u001b[0m \u001b[0;34m\u001b[0m\u001b[0m\n\u001b[1;32m      3\u001b[0m \u001b[0mplot_training_history\u001b[0m\u001b[0;34m(\u001b[0m\u001b[0mmnist_net_dp_history\u001b[0m\u001b[0;34m)\u001b[0m\u001b[0;34m\u001b[0m\u001b[0;34m\u001b[0m\u001b[0m\n",
            "\u001b[0;32m<ipython-input-9-1dbfc1ea2109>\u001b[0m in \u001b[0;36mtrain_network\u001b[0;34m(dataset_name, epochs, lr, betas, batch_size, shuffle, dp)\u001b[0m\n\u001b[1;32m     67\u001b[0m         \u001b[0mspk_rec\u001b[0m \u001b[0;34m=\u001b[0m \u001b[0mneuro_fwrd_pass\u001b[0m\u001b[0;34m(\u001b[0m\u001b[0mnet\u001b[0m\u001b[0;34m,\u001b[0m \u001b[0mX\u001b[0m\u001b[0;34m)\u001b[0m\u001b[0;34m\u001b[0m\u001b[0;34m\u001b[0m\u001b[0m\n\u001b[1;32m     68\u001b[0m       \u001b[0;32melse\u001b[0m\u001b[0;34m:\u001b[0m\u001b[0;34m\u001b[0m\u001b[0;34m\u001b[0m\u001b[0m\n\u001b[0;32m---> 69\u001b[0;31m         \u001b[0mspk_rec\u001b[0m\u001b[0;34m,\u001b[0m \u001b[0m_\u001b[0m \u001b[0;34m=\u001b[0m \u001b[0mfwrd_pass\u001b[0m\u001b[0;34m(\u001b[0m\u001b[0mnet\u001b[0m\u001b[0;34m,\u001b[0m \u001b[0;36m10\u001b[0m\u001b[0;34m,\u001b[0m \u001b[0mX\u001b[0m\u001b[0;34m)\u001b[0m\u001b[0;34m\u001b[0m\u001b[0;34m\u001b[0m\u001b[0m\n\u001b[0m\u001b[1;32m     70\u001b[0m \u001b[0;34m\u001b[0m\u001b[0m\n\u001b[1;32m     71\u001b[0m       \u001b[0mloss_val\u001b[0m \u001b[0;34m=\u001b[0m \u001b[0mloss\u001b[0m\u001b[0;34m(\u001b[0m\u001b[0mspk_rec\u001b[0m\u001b[0;34m,\u001b[0m \u001b[0my\u001b[0m\u001b[0;34m)\u001b[0m\u001b[0;34m\u001b[0m\u001b[0;34m\u001b[0m\u001b[0m\n",
            "\u001b[0;32m<ipython-input-8-5636ed79c673>\u001b[0m in \u001b[0;36mfwrd_pass\u001b[0;34m(net, num_steps, data)\u001b[0m\n\u001b[1;32m      5\u001b[0m   \u001b[0mutils\u001b[0m\u001b[0;34m.\u001b[0m\u001b[0mreset\u001b[0m\u001b[0;34m(\u001b[0m\u001b[0mnet\u001b[0m\u001b[0;34m)\u001b[0m  \u001b[0;31m# resets hidden states for all LIF neurons in net\u001b[0m\u001b[0;34m\u001b[0m\u001b[0;34m\u001b[0m\u001b[0m\n\u001b[1;32m      6\u001b[0m   \u001b[0;32mfor\u001b[0m \u001b[0mstep\u001b[0m \u001b[0;32min\u001b[0m \u001b[0mrange\u001b[0m\u001b[0;34m(\u001b[0m\u001b[0mnum_steps\u001b[0m\u001b[0;34m)\u001b[0m\u001b[0;34m:\u001b[0m\u001b[0;34m\u001b[0m\u001b[0;34m\u001b[0m\u001b[0m\n\u001b[0;32m----> 7\u001b[0;31m     \u001b[0mspk_out\u001b[0m\u001b[0;34m,\u001b[0m \u001b[0mmem_out\u001b[0m \u001b[0;34m=\u001b[0m \u001b[0mnet\u001b[0m\u001b[0;34m(\u001b[0m\u001b[0mdata\u001b[0m\u001b[0;34m)\u001b[0m\u001b[0;34m\u001b[0m\u001b[0;34m\u001b[0m\u001b[0m\n\u001b[0m\u001b[1;32m      8\u001b[0m     \u001b[0mspk_rec\u001b[0m\u001b[0;34m.\u001b[0m\u001b[0mappend\u001b[0m\u001b[0;34m(\u001b[0m\u001b[0mspk_out\u001b[0m\u001b[0;34m)\u001b[0m\u001b[0;34m\u001b[0m\u001b[0;34m\u001b[0m\u001b[0m\n\u001b[1;32m      9\u001b[0m     \u001b[0mmem_rec\u001b[0m\u001b[0;34m.\u001b[0m\u001b[0mappend\u001b[0m\u001b[0;34m(\u001b[0m\u001b[0mmem_out\u001b[0m\u001b[0;34m)\u001b[0m\u001b[0;34m\u001b[0m\u001b[0;34m\u001b[0m\u001b[0m\n",
            "\u001b[0;32m/usr/local/lib/python3.10/dist-packages/torch/nn/modules/module.py\u001b[0m in \u001b[0;36m_wrapped_call_impl\u001b[0;34m(self, *args, **kwargs)\u001b[0m\n\u001b[1;32m   1509\u001b[0m             \u001b[0;32mreturn\u001b[0m \u001b[0mself\u001b[0m\u001b[0;34m.\u001b[0m\u001b[0m_compiled_call_impl\u001b[0m\u001b[0;34m(\u001b[0m\u001b[0;34m*\u001b[0m\u001b[0margs\u001b[0m\u001b[0;34m,\u001b[0m \u001b[0;34m**\u001b[0m\u001b[0mkwargs\u001b[0m\u001b[0;34m)\u001b[0m  \u001b[0;31m# type: ignore[misc]\u001b[0m\u001b[0;34m\u001b[0m\u001b[0;34m\u001b[0m\u001b[0m\n\u001b[1;32m   1510\u001b[0m         \u001b[0;32melse\u001b[0m\u001b[0;34m:\u001b[0m\u001b[0;34m\u001b[0m\u001b[0;34m\u001b[0m\u001b[0m\n\u001b[0;32m-> 1511\u001b[0;31m             \u001b[0;32mreturn\u001b[0m \u001b[0mself\u001b[0m\u001b[0;34m.\u001b[0m\u001b[0m_call_impl\u001b[0m\u001b[0;34m(\u001b[0m\u001b[0;34m*\u001b[0m\u001b[0margs\u001b[0m\u001b[0;34m,\u001b[0m \u001b[0;34m**\u001b[0m\u001b[0mkwargs\u001b[0m\u001b[0;34m)\u001b[0m\u001b[0;34m\u001b[0m\u001b[0;34m\u001b[0m\u001b[0m\n\u001b[0m\u001b[1;32m   1512\u001b[0m \u001b[0;34m\u001b[0m\u001b[0m\n\u001b[1;32m   1513\u001b[0m     \u001b[0;32mdef\u001b[0m \u001b[0m_call_impl\u001b[0m\u001b[0;34m(\u001b[0m\u001b[0mself\u001b[0m\u001b[0;34m,\u001b[0m \u001b[0;34m*\u001b[0m\u001b[0margs\u001b[0m\u001b[0;34m,\u001b[0m \u001b[0;34m**\u001b[0m\u001b[0mkwargs\u001b[0m\u001b[0;34m)\u001b[0m\u001b[0;34m:\u001b[0m\u001b[0;34m\u001b[0m\u001b[0;34m\u001b[0m\u001b[0m\n",
            "\u001b[0;32m/usr/local/lib/python3.10/dist-packages/torch/nn/modules/module.py\u001b[0m in \u001b[0;36m_call_impl\u001b[0;34m(self, *args, **kwargs)\u001b[0m\n\u001b[1;32m   1518\u001b[0m                 \u001b[0;32mor\u001b[0m \u001b[0m_global_backward_pre_hooks\u001b[0m \u001b[0;32mor\u001b[0m \u001b[0m_global_backward_hooks\u001b[0m\u001b[0;34m\u001b[0m\u001b[0;34m\u001b[0m\u001b[0m\n\u001b[1;32m   1519\u001b[0m                 or _global_forward_hooks or _global_forward_pre_hooks):\n\u001b[0;32m-> 1520\u001b[0;31m             \u001b[0;32mreturn\u001b[0m \u001b[0mforward_call\u001b[0m\u001b[0;34m(\u001b[0m\u001b[0;34m*\u001b[0m\u001b[0margs\u001b[0m\u001b[0;34m,\u001b[0m \u001b[0;34m**\u001b[0m\u001b[0mkwargs\u001b[0m\u001b[0;34m)\u001b[0m\u001b[0;34m\u001b[0m\u001b[0;34m\u001b[0m\u001b[0m\n\u001b[0m\u001b[1;32m   1521\u001b[0m \u001b[0;34m\u001b[0m\u001b[0m\n\u001b[1;32m   1522\u001b[0m         \u001b[0;32mtry\u001b[0m\u001b[0;34m:\u001b[0m\u001b[0;34m\u001b[0m\u001b[0;34m\u001b[0m\u001b[0m\n",
            "\u001b[0;32m/usr/local/lib/python3.10/dist-packages/torch/nn/modules/container.py\u001b[0m in \u001b[0;36mforward\u001b[0;34m(self, input)\u001b[0m\n\u001b[1;32m    215\u001b[0m     \u001b[0;32mdef\u001b[0m \u001b[0mforward\u001b[0m\u001b[0;34m(\u001b[0m\u001b[0mself\u001b[0m\u001b[0;34m,\u001b[0m \u001b[0minput\u001b[0m\u001b[0;34m)\u001b[0m\u001b[0;34m:\u001b[0m\u001b[0;34m\u001b[0m\u001b[0;34m\u001b[0m\u001b[0m\n\u001b[1;32m    216\u001b[0m         \u001b[0;32mfor\u001b[0m \u001b[0mmodule\u001b[0m \u001b[0;32min\u001b[0m \u001b[0mself\u001b[0m\u001b[0;34m:\u001b[0m\u001b[0;34m\u001b[0m\u001b[0;34m\u001b[0m\u001b[0m\n\u001b[0;32m--> 217\u001b[0;31m             \u001b[0minput\u001b[0m \u001b[0;34m=\u001b[0m \u001b[0mmodule\u001b[0m\u001b[0;34m(\u001b[0m\u001b[0minput\u001b[0m\u001b[0;34m)\u001b[0m\u001b[0;34m\u001b[0m\u001b[0;34m\u001b[0m\u001b[0m\n\u001b[0m\u001b[1;32m    218\u001b[0m         \u001b[0;32mreturn\u001b[0m \u001b[0minput\u001b[0m\u001b[0;34m\u001b[0m\u001b[0;34m\u001b[0m\u001b[0m\n\u001b[1;32m    219\u001b[0m \u001b[0;34m\u001b[0m\u001b[0m\n",
            "\u001b[0;32m/usr/local/lib/python3.10/dist-packages/torch/nn/modules/module.py\u001b[0m in \u001b[0;36m_wrapped_call_impl\u001b[0;34m(self, *args, **kwargs)\u001b[0m\n\u001b[1;32m   1509\u001b[0m             \u001b[0;32mreturn\u001b[0m \u001b[0mself\u001b[0m\u001b[0;34m.\u001b[0m\u001b[0m_compiled_call_impl\u001b[0m\u001b[0;34m(\u001b[0m\u001b[0;34m*\u001b[0m\u001b[0margs\u001b[0m\u001b[0;34m,\u001b[0m \u001b[0;34m**\u001b[0m\u001b[0mkwargs\u001b[0m\u001b[0;34m)\u001b[0m  \u001b[0;31m# type: ignore[misc]\u001b[0m\u001b[0;34m\u001b[0m\u001b[0;34m\u001b[0m\u001b[0m\n\u001b[1;32m   1510\u001b[0m         \u001b[0;32melse\u001b[0m\u001b[0;34m:\u001b[0m\u001b[0;34m\u001b[0m\u001b[0;34m\u001b[0m\u001b[0m\n\u001b[0;32m-> 1511\u001b[0;31m             \u001b[0;32mreturn\u001b[0m \u001b[0mself\u001b[0m\u001b[0;34m.\u001b[0m\u001b[0m_call_impl\u001b[0m\u001b[0;34m(\u001b[0m\u001b[0;34m*\u001b[0m\u001b[0margs\u001b[0m\u001b[0;34m,\u001b[0m \u001b[0;34m**\u001b[0m\u001b[0mkwargs\u001b[0m\u001b[0;34m)\u001b[0m\u001b[0;34m\u001b[0m\u001b[0;34m\u001b[0m\u001b[0m\n\u001b[0m\u001b[1;32m   1512\u001b[0m \u001b[0;34m\u001b[0m\u001b[0m\n\u001b[1;32m   1513\u001b[0m     \u001b[0;32mdef\u001b[0m \u001b[0m_call_impl\u001b[0m\u001b[0;34m(\u001b[0m\u001b[0mself\u001b[0m\u001b[0;34m,\u001b[0m \u001b[0;34m*\u001b[0m\u001b[0margs\u001b[0m\u001b[0;34m,\u001b[0m \u001b[0;34m**\u001b[0m\u001b[0mkwargs\u001b[0m\u001b[0;34m)\u001b[0m\u001b[0;34m:\u001b[0m\u001b[0;34m\u001b[0m\u001b[0;34m\u001b[0m\u001b[0m\n",
            "\u001b[0;32m/usr/local/lib/python3.10/dist-packages/torch/nn/modules/module.py\u001b[0m in \u001b[0;36m_call_impl\u001b[0;34m(self, *args, **kwargs)\u001b[0m\n\u001b[1;32m   1518\u001b[0m                 \u001b[0;32mor\u001b[0m \u001b[0m_global_backward_pre_hooks\u001b[0m \u001b[0;32mor\u001b[0m \u001b[0m_global_backward_hooks\u001b[0m\u001b[0;34m\u001b[0m\u001b[0;34m\u001b[0m\u001b[0m\n\u001b[1;32m   1519\u001b[0m                 or _global_forward_hooks or _global_forward_pre_hooks):\n\u001b[0;32m-> 1520\u001b[0;31m             \u001b[0;32mreturn\u001b[0m \u001b[0mforward_call\u001b[0m\u001b[0;34m(\u001b[0m\u001b[0;34m*\u001b[0m\u001b[0margs\u001b[0m\u001b[0;34m,\u001b[0m \u001b[0;34m**\u001b[0m\u001b[0mkwargs\u001b[0m\u001b[0;34m)\u001b[0m\u001b[0;34m\u001b[0m\u001b[0;34m\u001b[0m\u001b[0m\n\u001b[0m\u001b[1;32m   1521\u001b[0m \u001b[0;34m\u001b[0m\u001b[0m\n\u001b[1;32m   1522\u001b[0m         \u001b[0;32mtry\u001b[0m\u001b[0;34m:\u001b[0m\u001b[0;34m\u001b[0m\u001b[0;34m\u001b[0m\u001b[0m\n",
            "\u001b[0;32m<ipython-input-48-b1b418993f23>\u001b[0m in \u001b[0;36mforward\u001b[0;34m(self, x)\u001b[0m\n\u001b[1;32m     20\u001b[0m             \u001b[0mx\u001b[0m \u001b[0;34m=\u001b[0m \u001b[0meinops\u001b[0m\u001b[0;34m.\u001b[0m\u001b[0mrearrange\u001b[0m\u001b[0;34m(\u001b[0m\u001b[0mx\u001b[0m\u001b[0;34m[\u001b[0m\u001b[0;34m:\u001b[0m\u001b[0mnum_batches\u001b[0m \u001b[0;34m*\u001b[0m \u001b[0mself\u001b[0m\u001b[0;34m.\u001b[0m\u001b[0msteps\u001b[0m\u001b[0;34m]\u001b[0m\u001b[0;34m,\u001b[0m \u001b[0;34m'(t b) c w h -> b t c w h'\u001b[0m\u001b[0;34m,\u001b[0m \u001b[0mt\u001b[0m\u001b[0;34m=\u001b[0m\u001b[0mself\u001b[0m\u001b[0;34m.\u001b[0m\u001b[0msteps\u001b[0m\u001b[0;34m,\u001b[0m \u001b[0mb\u001b[0m\u001b[0;34m=\u001b[0m\u001b[0mnum_batches\u001b[0m\u001b[0;34m)\u001b[0m\u001b[0;34m\u001b[0m\u001b[0;34m\u001b[0m\u001b[0m\n\u001b[1;32m     21\u001b[0m             \u001b[0mremainder_x\u001b[0m \u001b[0;34m=\u001b[0m \u001b[0mx\u001b[0m\u001b[0;34m[\u001b[0m\u001b[0mnum_batches\u001b[0m \u001b[0;34m*\u001b[0m \u001b[0mself\u001b[0m\u001b[0;34m.\u001b[0m\u001b[0msteps\u001b[0m\u001b[0;34m:\u001b[0m\u001b[0;34m]\u001b[0m\u001b[0;34m\u001b[0m\u001b[0;34m\u001b[0m\u001b[0m\n\u001b[0;32m---> 22\u001b[0;31m             \u001b[0mremainder_x\u001b[0m \u001b[0;34m=\u001b[0m \u001b[0meinops\u001b[0m\u001b[0;34m.\u001b[0m\u001b[0mrearrange\u001b[0m\u001b[0;34m(\u001b[0m\u001b[0mremainder_x\u001b[0m\u001b[0;34m,\u001b[0m \u001b[0;34m'(t b) c w h -> b t c w h'\u001b[0m\u001b[0;34m,\u001b[0m \u001b[0mt\u001b[0m\u001b[0;34m=\u001b[0m\u001b[0;36m1\u001b[0m\u001b[0;34m,\u001b[0m \u001b[0mb\u001b[0m\u001b[0;34m=\u001b[0m\u001b[0mremainder\u001b[0m\u001b[0;34m)\u001b[0m\u001b[0;34m\u001b[0m\u001b[0;34m\u001b[0m\u001b[0m\n\u001b[0m\u001b[1;32m     23\u001b[0m             \u001b[0mx\u001b[0m \u001b[0;34m=\u001b[0m \u001b[0mtorch\u001b[0m\u001b[0;34m.\u001b[0m\u001b[0mcat\u001b[0m\u001b[0;34m(\u001b[0m\u001b[0;34m[\u001b[0m\u001b[0mx\u001b[0m\u001b[0;34m,\u001b[0m \u001b[0mremainder_x\u001b[0m\u001b[0;34m]\u001b[0m\u001b[0;34m,\u001b[0m \u001b[0mdim\u001b[0m\u001b[0;34m=\u001b[0m\u001b[0;36m1\u001b[0m\u001b[0;34m)\u001b[0m\u001b[0;34m\u001b[0m\u001b[0;34m\u001b[0m\u001b[0m\n\u001b[1;32m     24\u001b[0m \u001b[0;34m\u001b[0m\u001b[0m\n",
            "\u001b[0;32m/usr/local/lib/python3.10/dist-packages/einops/einops.py\u001b[0m in \u001b[0;36mrearrange\u001b[0;34m(tensor, pattern, **axes_lengths)\u001b[0m\n\u001b[1;32m    589\u001b[0m \u001b[0;34m\u001b[0m\u001b[0m\n\u001b[1;32m    590\u001b[0m     \"\"\"\n\u001b[0;32m--> 591\u001b[0;31m     \u001b[0;32mreturn\u001b[0m \u001b[0mreduce\u001b[0m\u001b[0;34m(\u001b[0m\u001b[0mtensor\u001b[0m\u001b[0;34m,\u001b[0m \u001b[0mpattern\u001b[0m\u001b[0;34m,\u001b[0m \u001b[0mreduction\u001b[0m\u001b[0;34m=\u001b[0m\u001b[0;34m\"rearrange\"\u001b[0m\u001b[0;34m,\u001b[0m \u001b[0;34m**\u001b[0m\u001b[0maxes_lengths\u001b[0m\u001b[0;34m)\u001b[0m\u001b[0;34m\u001b[0m\u001b[0;34m\u001b[0m\u001b[0m\n\u001b[0m\u001b[1;32m    592\u001b[0m \u001b[0;34m\u001b[0m\u001b[0m\n\u001b[1;32m    593\u001b[0m \u001b[0;34m\u001b[0m\u001b[0m\n",
            "\u001b[0;32m/usr/local/lib/python3.10/dist-packages/einops/einops.py\u001b[0m in \u001b[0;36mreduce\u001b[0;34m(tensor, pattern, reduction, **axes_lengths)\u001b[0m\n\u001b[1;32m    531\u001b[0m             \u001b[0mmessage\u001b[0m \u001b[0;34m+=\u001b[0m \u001b[0;34m\"\\n Input is list. \"\u001b[0m\u001b[0;34m\u001b[0m\u001b[0;34m\u001b[0m\u001b[0m\n\u001b[1;32m    532\u001b[0m         \u001b[0mmessage\u001b[0m \u001b[0;34m+=\u001b[0m \u001b[0;34m\"Additional info: {}.\"\u001b[0m\u001b[0;34m.\u001b[0m\u001b[0mformat\u001b[0m\u001b[0;34m(\u001b[0m\u001b[0maxes_lengths\u001b[0m\u001b[0;34m)\u001b[0m\u001b[0;34m\u001b[0m\u001b[0;34m\u001b[0m\u001b[0m\n\u001b[0;32m--> 533\u001b[0;31m         \u001b[0;32mraise\u001b[0m \u001b[0mEinopsError\u001b[0m\u001b[0;34m(\u001b[0m\u001b[0mmessage\u001b[0m \u001b[0;34m+\u001b[0m \u001b[0;34m\"\\n {}\"\u001b[0m\u001b[0;34m.\u001b[0m\u001b[0mformat\u001b[0m\u001b[0;34m(\u001b[0m\u001b[0me\u001b[0m\u001b[0;34m)\u001b[0m\u001b[0;34m)\u001b[0m\u001b[0;34m\u001b[0m\u001b[0;34m\u001b[0m\u001b[0m\n\u001b[0m\u001b[1;32m    534\u001b[0m \u001b[0;34m\u001b[0m\u001b[0m\n\u001b[1;32m    535\u001b[0m \u001b[0;34m\u001b[0m\u001b[0m\n",
            "\u001b[0;31mEinopsError\u001b[0m:  Error while processing rearrange-reduction pattern \"(t b) c w h -> b t c w h\".\n Input tensor shape: torch.Size([0, 10, 32, 22, 22]). Additional info: {'t': 1, 'b': 4}.\n Wrong shape: expected 4 dims. Received 5-dim tensor."
          ]
        }
      ],
      "source": [
        "mnist_net_dp, mnist_net_dp_history = train_network(dataset_name = 'mnist', lr = 0.025, epochs = 40, batch_size = 1024, dp = dp)\n",
        "\n",
        "plot_training_history(mnist_net_dp_history)"
      ]
    },
    {
      "cell_type": "markdown",
      "metadata": {
        "id": "zbjZJJkPt2kX"
      },
      "source": [
        "## Fashion-MNIST"
      ]
    },
    {
      "cell_type": "code",
      "execution_count": null,
      "metadata": {
        "id": "h1NMJit7t8B5",
        "colab": {
          "base_uri": "https://localhost:8080/",
          "height": 1000
        },
        "outputId": "62770121-b79f-40a5-eb8a-2da1a10aab5e"
      },
      "outputs": [
        {
          "output_type": "stream",
          "name": "stdout",
          "text": [
            "Downloading http://fashion-mnist.s3-website.eu-central-1.amazonaws.com/train-images-idx3-ubyte.gz\n",
            "Downloading http://fashion-mnist.s3-website.eu-central-1.amazonaws.com/train-images-idx3-ubyte.gz to ./FashionMNIST/raw/train-images-idx3-ubyte.gz\n"
          ]
        },
        {
          "output_type": "stream",
          "name": "stderr",
          "text": [
            "100%|██████████| 26421880/26421880 [00:02<00:00, 9390038.75it/s] \n"
          ]
        },
        {
          "output_type": "stream",
          "name": "stdout",
          "text": [
            "Extracting ./FashionMNIST/raw/train-images-idx3-ubyte.gz to ./FashionMNIST/raw\n",
            "\n",
            "Downloading http://fashion-mnist.s3-website.eu-central-1.amazonaws.com/train-labels-idx1-ubyte.gz\n",
            "Downloading http://fashion-mnist.s3-website.eu-central-1.amazonaws.com/train-labels-idx1-ubyte.gz to ./FashionMNIST/raw/train-labels-idx1-ubyte.gz\n"
          ]
        },
        {
          "output_type": "stream",
          "name": "stderr",
          "text": [
            "100%|██████████| 29515/29515 [00:00<00:00, 158573.35it/s]\n"
          ]
        },
        {
          "output_type": "stream",
          "name": "stdout",
          "text": [
            "Extracting ./FashionMNIST/raw/train-labels-idx1-ubyte.gz to ./FashionMNIST/raw\n",
            "\n",
            "Downloading http://fashion-mnist.s3-website.eu-central-1.amazonaws.com/t10k-images-idx3-ubyte.gz\n",
            "Downloading http://fashion-mnist.s3-website.eu-central-1.amazonaws.com/t10k-images-idx3-ubyte.gz to ./FashionMNIST/raw/t10k-images-idx3-ubyte.gz\n"
          ]
        },
        {
          "output_type": "stream",
          "name": "stderr",
          "text": [
            "100%|██████████| 4422102/4422102 [00:01<00:00, 2953511.25it/s]\n"
          ]
        },
        {
          "output_type": "stream",
          "name": "stdout",
          "text": [
            "Extracting ./FashionMNIST/raw/t10k-images-idx3-ubyte.gz to ./FashionMNIST/raw\n",
            "\n",
            "Downloading http://fashion-mnist.s3-website.eu-central-1.amazonaws.com/t10k-labels-idx1-ubyte.gz\n",
            "Downloading http://fashion-mnist.s3-website.eu-central-1.amazonaws.com/t10k-labels-idx1-ubyte.gz to ./FashionMNIST/raw/t10k-labels-idx1-ubyte.gz\n"
          ]
        },
        {
          "output_type": "stream",
          "name": "stderr",
          "text": [
            "100%|██████████| 5148/5148 [00:00<00:00, 7270126.93it/s]\n"
          ]
        },
        {
          "output_type": "stream",
          "name": "stdout",
          "text": [
            "Extracting ./FashionMNIST/raw/t10k-labels-idx1-ubyte.gz to ./FashionMNIST/raw\n",
            "\n",
            "----------------------------------------------------------------\n",
            "        Layer (type)               Output Shape         Param #\n",
            "================================================================\n",
            "            Conv2d-1         [1024, 32, 22, 22]           1,600\n",
            "         GroupNorm-2         [1024, 32, 22, 22]              64\n",
            "         AvgPool2d-3         [1024, 32, 11, 11]               0\n",
            "             Leaky-4         [1024, 32, 11, 11]               0\n",
            "            Conv2d-5           [1024, 64, 8, 8]          32,832\n",
            "         GroupNorm-6           [1024, 64, 8, 8]             128\n",
            "         AvgPool2d-7           [1024, 64, 4, 4]               0\n",
            "             Leaky-8           [1024, 64, 4, 4]               0\n",
            "           Flatten-9               [1024, 1024]               0\n",
            "           Linear-10                 [1024, 10]          10,250\n",
            "            Leaky-11       [[-1, 10], [-1, 10]]               0\n",
            "================================================================\n",
            "Total params: 44,874\n",
            "Trainable params: 44,874\n",
            "Non-trainable params: 0\n",
            "----------------------------------------------------------------\n",
            "Input size (MB): 3.06\n",
            "Forward/backward pass size (MB): 390.58\n",
            "Params size (MB): 0.17\n",
            "Estimated Total Size (MB): 393.81\n",
            "----------------------------------------------------------------\n",
            "Epoch 0: Train Acc: 0.645, Test Acc: 0.720, Train Loss: 1.714, Test Loss: 1.634\n",
            "Epoch 1: Train Acc: 0.737, Test Acc: 0.744, Train Loss: 1.616, Test Loss: 1.615\n",
            "Epoch 2: Train Acc: 0.750, Test Acc: 0.746, Train Loss: 1.602, Test Loss: 1.608\n",
            "Epoch 3: Train Acc: 0.758, Test Acc: 0.755, Train Loss: 1.595, Test Loss: 1.598\n",
            "Epoch 4: Train Acc: 0.767, Test Acc: 0.759, Train Loss: 1.590, Test Loss: 1.601\n",
            "Epoch 5: Train Acc: 0.771, Test Acc: 0.768, Train Loss: 1.586, Test Loss: 1.595\n",
            "Epoch 6: Train Acc: 0.773, Test Acc: 0.771, Train Loss: 1.581, Test Loss: 1.585\n",
            "Epoch 7: Train Acc: 0.784, Test Acc: 0.779, Train Loss: 1.579, Test Loss: 1.582\n",
            "Epoch 8: Train Acc: 0.783, Test Acc: 0.766, Train Loss: 1.576, Test Loss: 1.585\n",
            "Epoch 9: Train Acc: 0.787, Test Acc: 0.790, Train Loss: 1.573, Test Loss: 1.591\n",
            "Epoch 10: Train Acc: 0.793, Test Acc: 0.781, Train Loss: 1.572, Test Loss: 1.577\n",
            "Epoch 11: Train Acc: 0.803, Test Acc: 0.812, Train Loss: 1.568, Test Loss: 1.576\n",
            "Epoch 12: Train Acc: 0.824, Test Acc: 0.799, Train Loss: 1.568, Test Loss: 1.578\n",
            "Epoch 13: Train Acc: 0.834, Test Acc: 0.840, Train Loss: 1.565, Test Loss: 1.570\n",
            "Epoch 14: Train Acc: 0.850, Test Acc: 0.839, Train Loss: 1.560, Test Loss: 1.570\n",
            "Epoch 15: Train Acc: 0.848, Test Acc: 0.847, Train Loss: 1.560, Test Loss: 1.566\n",
            "Epoch 16: Train Acc: 0.847, Test Acc: 0.853, Train Loss: 1.560, Test Loss: 1.566\n",
            "Epoch 17: Train Acc: 0.851, Test Acc: 0.828, Train Loss: 1.558, Test Loss: 1.571\n",
            "Epoch 18: Train Acc: 0.850, Test Acc: 0.854, Train Loss: 1.557, Test Loss: 1.562\n",
            "Epoch 19: Train Acc: 0.854, Test Acc: 0.833, Train Loss: 1.555, Test Loss: 1.568\n",
            "Epoch 20: Train Acc: 0.857, Test Acc: 0.849, Train Loss: 1.555, Test Loss: 1.565\n",
            "Epoch 21: Train Acc: 0.858, Test Acc: 0.855, Train Loss: 1.554, Test Loss: 1.564\n",
            "Epoch 22: Train Acc: 0.856, Test Acc: 0.850, Train Loss: 1.553, Test Loss: 1.564\n",
            "Epoch 23: Train Acc: 0.859, Test Acc: 0.850, Train Loss: 1.553, Test Loss: 1.563\n",
            "Epoch 24: Train Acc: 0.859, Test Acc: 0.848, Train Loss: 1.552, Test Loss: 1.561\n"
          ]
        },
        {
          "output_type": "display_data",
          "data": {
            "text/plain": [
              "<Figure size 1200x300 with 2 Axes>"
            ],
            "image/png": "[encoded data removed]"
          },
          "metadata": {}
        }
      ],
      "source": [
        "fmnist_net, fmnist_net_history = train_network(dataset_name = 'fashion-mnist', lr = 0.005, epochs = 25, batch_size = 1024)\n",
        "\n",
        "plot_training_history(fmnist_net_history)"
      ]
    },
    {
      "cell_type": "markdown",
      "metadata": {
        "id": "XBwJd461uPP7"
      },
      "source": [
        "## Fashion-MNIST with DP"
      ]
    },
    {
      "cell_type": "code",
      "execution_count": null,
      "metadata": {
        "id": "hviAL4rHuJaA"
      },
      "outputs": [],
      "source": [
        "fmnist_net_dp, fmnist_net_dp_history = train_network(dataset_name = 'fashion-mnist', lr = 0.025, epochs = 40, batch_size = 1024, dp = dp)\n",
        "\n",
        "plot_training_history(fmnist_net_dp_history)"
      ]
    },
    {
      "cell_type": "markdown",
      "metadata": {
        "id": "WlL7jRw1oLqf"
      },
      "source": [
        "## NMNIST"
      ]
    },
    {
      "cell_type": "code",
      "execution_count": null,
      "metadata": {
        "id": "eq3xWKL7M9mt",
        "colab": {
          "base_uri": "https://localhost:8080/",
          "height": 783
        },
        "outputId": "2840e26d-275b-4f60-8e0c-039e9f432b8d"
      },
      "outputs": [
        {
          "output_type": "stream",
          "name": "stdout",
          "text": [
            "----------------------------------------------------------------\n",
            "        Layer (type)               Output Shape         Param #\n",
            "================================================================\n",
            "            Conv2d-1          [128, 32, 28, 28]           3,168\n",
            "         GroupNorm-2          [128, 32, 28, 28]              64\n",
            "         AvgPool2d-3          [128, 32, 14, 14]               0\n",
            "             Leaky-4          [128, 32, 14, 14]               0\n",
            "            Conv2d-5          [128, 64, 11, 11]          32,832\n",
            "         GroupNorm-6          [128, 64, 11, 11]             128\n",
            "         AvgPool2d-7            [128, 64, 5, 5]               0\n",
            "             Leaky-8            [128, 64, 5, 5]               0\n",
            "           Flatten-9                [128, 1600]               0\n",
            "           Linear-10                  [128, 10]          16,010\n",
            "            Leaky-11       [[-1, 10], [-1, 10]]               0\n",
            "================================================================\n",
            "Total params: 52,202\n",
            "Trainable params: 52,202\n",
            "Non-trainable params: 0\n",
            "----------------------------------------------------------------\n",
            "Input size (MB): 1.13\n",
            "Forward/backward pass size (MB): 81.07\n",
            "Params size (MB): 0.20\n",
            "Estimated Total Size (MB): 82.40\n",
            "----------------------------------------------------------------\n"
          ]
        },
        {
          "output_type": "error",
          "ename": "OutOfMemoryError",
          "evalue": "CUDA out of memory. Tried to allocate 350.00 MiB. GPU 0 has a total capacity of 14.75 GiB of which 5.06 MiB is free. Process 2025 has 14.74 GiB memory in use. Of the allocated memory 14.05 GiB is allocated by PyTorch, and 573.20 MiB is reserved by PyTorch but unallocated. If reserved but unallocated memory is large try setting PYTORCH_CUDA_ALLOC_CONF=expandable_segments:True to avoid fragmentation.  See documentation for Memory Management  (https://pytorch.org/docs/stable/notes/cuda.html#environment-variables)",
          "traceback": [
            "\u001b[0;31m---------------------------------------------------------------------------\u001b[0m",
            "\u001b[0;31mOutOfMemoryError\u001b[0m                          Traceback (most recent call last)",
            "\u001b[0;32m<ipython-input-61-4916f2ab428c>\u001b[0m in \u001b[0;36m<cell line: 1>\u001b[0;34m()\u001b[0m\n\u001b[0;32m----> 1\u001b[0;31m \u001b[0mnmnist_net\u001b[0m\u001b[0;34m,\u001b[0m \u001b[0mnmnist_net_history\u001b[0m \u001b[0;34m=\u001b[0m \u001b[0mtrain_network\u001b[0m\u001b[0;34m(\u001b[0m\u001b[0mdataset_name\u001b[0m \u001b[0;34m=\u001b[0m \u001b[0;34m'nmnist'\u001b[0m\u001b[0;34m,\u001b[0m \u001b[0mlr\u001b[0m \u001b[0;34m=\u001b[0m \u001b[0;36m0.005\u001b[0m\u001b[0;34m,\u001b[0m \u001b[0mepochs\u001b[0m \u001b[0;34m=\u001b[0m \u001b[0;36m10\u001b[0m\u001b[0;34m,\u001b[0m \u001b[0mbatch_size\u001b[0m \u001b[0;34m=\u001b[0m \u001b[0;36m128\u001b[0m\u001b[0;34m)\u001b[0m\u001b[0;34m\u001b[0m\u001b[0;34m\u001b[0m\u001b[0m\n\u001b[0m\u001b[1;32m      2\u001b[0m \u001b[0;34m\u001b[0m\u001b[0m\n\u001b[1;32m      3\u001b[0m \u001b[0mplot_training_history\u001b[0m\u001b[0;34m(\u001b[0m\u001b[0mnmnist_net_history\u001b[0m\u001b[0;34m)\u001b[0m\u001b[0;34m\u001b[0m\u001b[0;34m\u001b[0m\u001b[0m\n",
            "\u001b[0;32m<ipython-input-57-1dbfc1ea2109>\u001b[0m in \u001b[0;36mtrain_network\u001b[0;34m(dataset_name, epochs, lr, betas, batch_size, shuffle, dp)\u001b[0m\n\u001b[1;32m     62\u001b[0m \u001b[0;34m\u001b[0m\u001b[0m\n\u001b[1;32m     63\u001b[0m     \u001b[0;32mfor\u001b[0m \u001b[0mX\u001b[0m\u001b[0;34m,\u001b[0m \u001b[0my\u001b[0m \u001b[0;32min\u001b[0m \u001b[0mtrain_loader\u001b[0m\u001b[0;34m:\u001b[0m\u001b[0;34m\u001b[0m\u001b[0;34m\u001b[0m\u001b[0m\n\u001b[0;32m---> 64\u001b[0;31m       \u001b[0mX\u001b[0m\u001b[0;34m,\u001b[0m \u001b[0my\u001b[0m \u001b[0;34m=\u001b[0m \u001b[0mX\u001b[0m\u001b[0;34m.\u001b[0m\u001b[0mto\u001b[0m\u001b[0;34m(\u001b[0m\u001b[0mdevice\u001b[0m\u001b[0;34m)\u001b[0m\u001b[0;34m,\u001b[0m \u001b[0my\u001b[0m\u001b[0;34m.\u001b[0m\u001b[0mto\u001b[0m\u001b[0;34m(\u001b[0m\u001b[0mdevice\u001b[0m\u001b[0;34m)\u001b[0m\u001b[0;34m\u001b[0m\u001b[0;34m\u001b[0m\u001b[0m\n\u001b[0m\u001b[1;32m     65\u001b[0m \u001b[0;34m\u001b[0m\u001b[0m\n\u001b[1;32m     66\u001b[0m       \u001b[0;32mif\u001b[0m \u001b[0mdataset_name\u001b[0m \u001b[0;32min\u001b[0m \u001b[0;34m[\u001b[0m\u001b[0;34m'nmnist'\u001b[0m\u001b[0;34m,\u001b[0m \u001b[0;34m'cifar-10-dvs'\u001b[0m\u001b[0;34m]\u001b[0m\u001b[0;34m:\u001b[0m\u001b[0;34m\u001b[0m\u001b[0;34m\u001b[0m\u001b[0m\n",
            "\u001b[0;31mOutOfMemoryError\u001b[0m: CUDA out of memory. Tried to allocate 350.00 MiB. GPU 0 has a total capacity of 14.75 GiB of which 5.06 MiB is free. Process 2025 has 14.74 GiB memory in use. Of the allocated memory 14.05 GiB is allocated by PyTorch, and 573.20 MiB is reserved by PyTorch but unallocated. If reserved but unallocated memory is large try setting PYTORCH_CUDA_ALLOC_CONF=expandable_segments:True to avoid fragmentation.  See documentation for Memory Management  (https://pytorch.org/docs/stable/notes/cuda.html#environment-variables)"
          ]
        }
      ],
      "source": [
        "nmnist_net, nmnist_net_history = train_network(dataset_name = 'nmnist', lr = 0.005, epochs = 10, batch_size = 128)\n",
        "\n",
        "plot_training_history(nmnist_net_history)"
      ]
    },
    {
      "cell_type": "markdown",
      "metadata": {
        "id": "g-_t9qIioTco"
      },
      "source": [
        "## NMNIST with DP"
      ]
    },
    {
      "cell_type": "code",
      "execution_count": null,
      "metadata": {
        "id": "ZQFUdJlvoXQe"
      },
      "outputs": [],
      "source": [
        "nmnist_net_dp, nmnist_net_dp_history = train_network(dataset_name = 'nmnist', lr = 0.025, epochs = 15, batch_size = 512, dp = dp)\n",
        "\n",
        "plot_training_history(nmnist_net_dp_history)"
      ]
    },
    {
      "cell_type": "markdown",
      "metadata": {
        "id": "5H36sKAusj6M"
      },
      "source": [
        "## CIFAR-10"
      ]
    },
    {
      "cell_type": "markdown",
      "source": [],
      "metadata": {
        "id": "_yrq6NT0l6Pq"
      }
    },
    {
      "cell_type": "code",
      "execution_count": null,
      "metadata": {
        "id": "wmh5WKLws0fW"
      },
      "outputs": [],
      "source": [
        "dp = {\n",
        "    'c': 6,\n",
        "    'delta': 1e-5,\n",
        "    'target_ep': 8,\n",
        "}"
      ]
    },
    {
      "cell_type": "code",
      "execution_count": null,
      "metadata": {
        "id": "1BuwVqnaso6g",
        "colab": {
          "base_uri": "https://localhost:8080/",
          "height": 1000
        },
        "outputId": "9ab3c6ba-4486-434b-f2e0-e527007ecc4e"
      },
      "outputs": [
        {
          "output_type": "stream",
          "name": "stdout",
          "text": [
            "Downloading https://www.cs.toronto.edu/~kriz/cifar-10-python.tar.gz to ./cifar-10-python.tar.gz\n"
          ]
        },
        {
          "output_type": "stream",
          "name": "stderr",
          "text": [
            "100%|██████████| 170498071/170498071 [00:03<00:00, 48848406.51it/s]\n"
          ]
        },
        {
          "output_type": "stream",
          "name": "stdout",
          "text": [
            "Extracting ./cifar-10-python.tar.gz to .\n",
            "Files already downloaded and verified\n",
            "----------------------------------------------------------------\n",
            "        Layer (type)               Output Shape         Param #\n",
            "================================================================\n",
            "            Conv2d-1          [256, 64, 30, 30]             640\n",
            "         GroupNorm-2          [256, 64, 30, 30]             128\n",
            "             Leaky-3          [256, 64, 30, 30]               0\n",
            "            Conv2d-4         [256, 128, 32, 32]          73,856\n",
            "         GroupNorm-5         [256, 128, 32, 32]             256\n",
            "             Leaky-6         [256, 128, 32, 32]               0\n",
            "            Conv2d-7         [256, 128, 34, 34]         147,584\n",
            "         GroupNorm-8         [256, 128, 34, 34]             256\n",
            "         AvgPool2d-9           [256, 128, 6, 6]               0\n",
            "            Leaky-10           [256, 128, 6, 6]               0\n",
            "           Conv2d-11           [256, 256, 8, 8]         295,168\n",
            "        GroupNorm-12           [256, 256, 8, 8]             512\n",
            "            Leaky-13           [256, 256, 8, 8]               0\n",
            "           Conv2d-14         [256, 256, 10, 10]         590,080\n",
            "        GroupNorm-15         [256, 256, 10, 10]             512\n",
            "        AvgPool2d-16           [256, 256, 2, 2]               0\n",
            "            Leaky-17           [256, 256, 2, 2]               0\n",
            "          Flatten-18                [256, 1024]               0\n",
            "           Linear-19                  [256, 10]          10,250\n",
            "            Leaky-20       [[-1, 10], [-1, 10]]               0\n",
            "================================================================\n",
            "Total params: 1,119,242\n",
            "Trainable params: 1,119,242\n",
            "Non-trainable params: 0\n",
            "----------------------------------------------------------------\n",
            "Input size (MB): 0.77\n",
            "Forward/backward pass size (MB): 1903.52\n",
            "Params size (MB): 4.27\n",
            "Estimated Total Size (MB): 1908.56\n",
            "----------------------------------------------------------------\n",
            "Epoch 0: Train Acc: 0.148, Test Acc: 0.145, Train Loss: 2.285, Test Loss: 2.285\n",
            "Epoch 1: Train Acc: 0.150, Test Acc: 0.175, Train Loss: 2.283, Test Loss: 2.275\n",
            "Epoch 2: Train Acc: 0.153, Test Acc: 0.143, Train Loss: 2.266, Test Loss: 2.267\n",
            "Epoch 3: Train Acc: 0.144, Test Acc: 0.139, Train Loss: 2.269, Test Loss: 2.265\n",
            "Epoch 4: Train Acc: 0.151, Test Acc: 0.145, Train Loss: 2.261, Test Loss: 2.265\n",
            "Epoch 5: Train Acc: 0.148, Test Acc: 0.135, Train Loss: 2.262, Test Loss: 2.277\n",
            "Epoch 6: Train Acc: 0.149, Test Acc: 0.146, Train Loss: 2.264, Test Loss: 2.264\n",
            "Epoch 7: Train Acc: 0.160, Test Acc: 0.168, Train Loss: 2.261, Test Loss: 2.262\n",
            "Epoch 8: Train Acc: 0.166, Test Acc: 0.175, Train Loss: 2.261, Test Loss: 2.267\n"
          ]
        },
        {
          "output_type": "error",
          "ename": "KeyboardInterrupt",
          "evalue": "",
          "traceback": [
            "\u001b[0;31m---------------------------------------------------------------------------\u001b[0m",
            "\u001b[0;31mKeyboardInterrupt\u001b[0m                         Traceback (most recent call last)",
            "\u001b[0;32m<ipython-input-9-9b9f299ee8b3>\u001b[0m in \u001b[0;36m<cell line: 1>\u001b[0;34m()\u001b[0m\n\u001b[0;32m----> 1\u001b[0;31m \u001b[0mcifar10_net\u001b[0m\u001b[0;34m,\u001b[0m \u001b[0mcifar10_net_history\u001b[0m \u001b[0;34m=\u001b[0m \u001b[0mtrain_network\u001b[0m\u001b[0;34m(\u001b[0m\u001b[0mdataset_name\u001b[0m \u001b[0;34m=\u001b[0m \u001b[0;34m'cifar-10'\u001b[0m\u001b[0;34m,\u001b[0m \u001b[0mlr\u001b[0m \u001b[0;34m=\u001b[0m \u001b[0;36m0.01\u001b[0m\u001b[0;34m,\u001b[0m \u001b[0mepochs\u001b[0m \u001b[0;34m=\u001b[0m \u001b[0;36m80\u001b[0m\u001b[0;34m,\u001b[0m \u001b[0mbatch_size\u001b[0m \u001b[0;34m=\u001b[0m \u001b[0;36m256\u001b[0m\u001b[0;34m,\u001b[0m \u001b[0mdp\u001b[0m \u001b[0;34m=\u001b[0m \u001b[0;32mNone\u001b[0m\u001b[0;34m)\u001b[0m\u001b[0;34m\u001b[0m\u001b[0;34m\u001b[0m\u001b[0m\n\u001b[0m\u001b[1;32m      2\u001b[0m \u001b[0;34m\u001b[0m\u001b[0m\n\u001b[1;32m      3\u001b[0m \u001b[0mplot_training_history\u001b[0m\u001b[0;34m(\u001b[0m\u001b[0mcifar10_net_history\u001b[0m\u001b[0;34m)\u001b[0m\u001b[0;34m\u001b[0m\u001b[0;34m\u001b[0m\u001b[0m\n",
            "\u001b[0;32m<ipython-input-8-1dbfc1ea2109>\u001b[0m in \u001b[0;36mtrain_network\u001b[0;34m(dataset_name, epochs, lr, betas, batch_size, shuffle, dp)\u001b[0m\n\u001b[1;32m     75\u001b[0m       \u001b[0moptimizer\u001b[0m\u001b[0;34m.\u001b[0m\u001b[0mstep\u001b[0m\u001b[0;34m(\u001b[0m\u001b[0;34m)\u001b[0m\u001b[0;34m\u001b[0m\u001b[0;34m\u001b[0m\u001b[0m\n\u001b[1;32m     76\u001b[0m \u001b[0;34m\u001b[0m\u001b[0m\n\u001b[0;32m---> 77\u001b[0;31m       \u001b[0mtrain_acc\u001b[0m \u001b[0;34m+=\u001b[0m \u001b[0mSF\u001b[0m\u001b[0;34m.\u001b[0m\u001b[0maccuracy_rate\u001b[0m\u001b[0;34m(\u001b[0m\u001b[0mspk_rec\u001b[0m\u001b[0;34m,\u001b[0m \u001b[0my\u001b[0m\u001b[0;34m)\u001b[0m \u001b[0;34m*\u001b[0m \u001b[0mspk_rec\u001b[0m\u001b[0;34m.\u001b[0m\u001b[0msize\u001b[0m\u001b[0;34m(\u001b[0m\u001b[0;36m1\u001b[0m\u001b[0;34m)\u001b[0m\u001b[0;34m\u001b[0m\u001b[0;34m\u001b[0m\u001b[0m\n\u001b[0m\u001b[1;32m     78\u001b[0m       \u001b[0mtrain_acc_total\u001b[0m \u001b[0;34m+=\u001b[0m \u001b[0mspk_rec\u001b[0m\u001b[0;34m.\u001b[0m\u001b[0msize\u001b[0m\u001b[0;34m(\u001b[0m\u001b[0;36m1\u001b[0m\u001b[0;34m)\u001b[0m\u001b[0;34m\u001b[0m\u001b[0;34m\u001b[0m\u001b[0m\n\u001b[1;32m     79\u001b[0m       \u001b[0mtrain_loss\u001b[0m \u001b[0;34m+=\u001b[0m \u001b[0mloss_val\u001b[0m\u001b[0;34m.\u001b[0m\u001b[0mitem\u001b[0m\u001b[0;34m(\u001b[0m\u001b[0;34m)\u001b[0m\u001b[0;34m\u001b[0m\u001b[0;34m\u001b[0m\u001b[0m\n",
            "\u001b[0;32m/usr/local/lib/python3.10/dist-packages/snntorch/functional/acc.py\u001b[0m in \u001b[0;36maccuracy_rate\u001b[0;34m(spk_out, targets, population_code, num_classes)\u001b[0m\n\u001b[1;32m     23\u001b[0m     \u001b[0;32melse\u001b[0m\u001b[0;34m:\u001b[0m\u001b[0;34m\u001b[0m\u001b[0;34m\u001b[0m\u001b[0m\n\u001b[1;32m     24\u001b[0m         \u001b[0m_\u001b[0m\u001b[0;34m,\u001b[0m \u001b[0midx\u001b[0m \u001b[0;34m=\u001b[0m \u001b[0mspk_out\u001b[0m\u001b[0;34m.\u001b[0m\u001b[0msum\u001b[0m\u001b[0;34m(\u001b[0m\u001b[0mdim\u001b[0m\u001b[0;34m=\u001b[0m\u001b[0;36m0\u001b[0m\u001b[0;34m)\u001b[0m\u001b[0;34m.\u001b[0m\u001b[0mmax\u001b[0m\u001b[0;34m(\u001b[0m\u001b[0;36m1\u001b[0m\u001b[0;34m)\u001b[0m\u001b[0;34m\u001b[0m\u001b[0;34m\u001b[0m\u001b[0m\n\u001b[0;32m---> 25\u001b[0;31m     \u001b[0maccuracy\u001b[0m \u001b[0;34m=\u001b[0m \u001b[0mnp\u001b[0m\u001b[0;34m.\u001b[0m\u001b[0mmean\u001b[0m\u001b[0;34m(\u001b[0m\u001b[0;34m(\u001b[0m\u001b[0mtargets\u001b[0m \u001b[0;34m==\u001b[0m \u001b[0midx\u001b[0m\u001b[0;34m)\u001b[0m\u001b[0;34m.\u001b[0m\u001b[0mdetach\u001b[0m\u001b[0;34m(\u001b[0m\u001b[0;34m)\u001b[0m\u001b[0;34m.\u001b[0m\u001b[0mcpu\u001b[0m\u001b[0;34m(\u001b[0m\u001b[0;34m)\u001b[0m\u001b[0;34m.\u001b[0m\u001b[0mnumpy\u001b[0m\u001b[0;34m(\u001b[0m\u001b[0;34m)\u001b[0m\u001b[0;34m)\u001b[0m\u001b[0;34m\u001b[0m\u001b[0;34m\u001b[0m\u001b[0m\n\u001b[0m\u001b[1;32m     26\u001b[0m \u001b[0;34m\u001b[0m\u001b[0m\n\u001b[1;32m     27\u001b[0m     \u001b[0;32mreturn\u001b[0m \u001b[0maccuracy\u001b[0m\u001b[0;34m\u001b[0m\u001b[0;34m\u001b[0m\u001b[0m\n",
            "\u001b[0;31mKeyboardInterrupt\u001b[0m: "
          ]
        }
      ],
      "source": [
        "cifar10_net, cifar10_net_history = train_network(dataset_name = 'cifar-10', lr = 0.01, epochs = 80, batch_size = 256, dp = None)\n",
        "\n",
        "plot_training_history(cifar10_net_history)"
      ]
    },
    {
      "cell_type": "markdown",
      "metadata": {
        "id": "EasYQfGttqII"
      },
      "source": [
        "## CIFAR-10 with DP"
      ]
    },
    {
      "cell_type": "code",
      "execution_count": null,
      "metadata": {
        "id": "uFFjtaDIthjs"
      },
      "outputs": [],
      "source": [
        "cifar10_net_dp, cifar10_net_dp_history = train_network(dataset_name = 'cifar-10', lr = 0.015, epochs = 120, batch_size = 1024, dp = dp)\n",
        "\n",
        "plot_training_history(cifar10_net_dp_history)"
      ]
    },
    {
      "cell_type": "markdown",
      "metadata": {
        "id": "NjDiqWLqu0i8"
      },
      "source": [
        "## CIFAR-10-DVS"
      ]
    },
    {
      "cell_type": "code",
      "execution_count": null,
      "metadata": {
        "id": "HmtCqn18u0jF"
      },
      "outputs": [],
      "source": [
        "dp = {\n",
        "    'c': 6,\n",
        "    'delta': 1e-5,\n",
        "    'target_ep': 8,\n",
        "}"
      ]
    },
    {
      "cell_type": "code",
      "execution_count": null,
      "metadata": {
        "id": "O6-P37shu0jG"
      },
      "outputs": [],
      "source": [
        "cifar10dvs_net, cifar10dsv_net_history = train_network(dataset_name = 'cifar-10-dvs', lr = 0.001, epochs = 80, batch_size = 1024)\n",
        "\n",
        "plot_training_history(cifar10dsv_net_history)"
      ]
    },
    {
      "cell_type": "markdown",
      "metadata": {
        "id": "2iIpI5Pcu0jG"
      },
      "source": [
        "## CIFAR-10-DVS with DP"
      ]
    },
    {
      "cell_type": "code",
      "execution_count": null,
      "metadata": {
        "id": "TajtoN_tu0jG"
      },
      "outputs": [],
      "source": [
        "cifar10dvs_net_dp, cifar10dvs_net_dp_history = train_network(dataset_name = 'cifar-10-dvs', lr = 0.015, epochs = 120, batch_size = 1024, dp = dp)\n",
        "\n",
        "plot_training_history(cifar10dvs_net_dp_history)"
      ]
    },
    {
      "cell_type": "markdown",
      "metadata": {
        "id": "HBiLQDM3vprD"
      },
      "source": [
        "---"
      ]
    },
    {
      "cell_type": "code",
      "execution_count": null,
      "metadata": {
        "id": "u9F-dJYwvpeF"
      },
      "outputs": [],
      "source": []
    },
    {
      "cell_type": "code",
      "execution_count": null,
      "metadata": {
        "id": "6OPhjFrivpTY"
      },
      "outputs": [],
      "source": []
    },
    {
      "cell_type": "code",
      "execution_count": null,
      "metadata": {
        "id": "ur0OuMxcvpJM"
      },
      "outputs": [],
      "source": []
    },
    {
      "cell_type": "code",
      "execution_count": null,
      "metadata": {
        "id": "ggbDPMiWvo64"
      },
      "outputs": [],
      "source": []
    },
    {
      "cell_type": "code",
      "execution_count": null,
      "metadata": {
        "id": "jSHsA288vouP"
      },
      "outputs": [],
      "source": []
    }
  ],
  "metadata": {
    "colab": {
      "provenance": [],
      "gpuType": "T4",
      "collapsed_sections": [
        "WOrUDdFrnzL_",
        "XBwJd461uPP7",
        "WlL7jRw1oLqf",
        "g-_t9qIioTco"
      ],
      "include_colab_link": true
    },
    "kernelspec": {
      "display_name": "Python 3",
      "name": "python3"
    },
    "language_info": {
      "name": "python"
    },
    "accelerator": "GPU"
  },
  "nbformat": 4,
  "nbformat_minor": 0
}