{
  "cells": [
    {
      "cell_type": "markdown",
      "metadata": {
        "id": "view-in-github",
        "colab_type": "text"
      },
      "source": [
        "<a href=\"https://colab.research.google.com/github/chardiwall/DPSNN/blob/main/DPSNN.ipynb\" target=\"_parent\"><img src=\"https://colab.research.google.com/assets/colab-badge.svg\" alt=\"Open In Colab\"/></a>"
      ]
    },
    {
      "cell_type": "markdown",
      "metadata": {
        "id": "9TwYDVep0-oO"
      },
      "source": [
        "# Project Discription\n",
        "**Title:** DPSNN (A Differentially Private Spiking Neural Network with Temporal Enhanced Polling).\n",
        "\n",
        "**Objectives:** Implementation of the [paper](https://arxiv.org/pdf/2205.12718.pdf).\n",
        "\n",
        "**Discription:** The project is set in the context of the growing field of social robotics, which involves the deployment of robots in human-centric environments. These environments can range from healthcare facilities and educational institutions to customer service and domestic settings. The unique aspect of this project lies in its focus on privacy-preserving mechanisms, an increasingly critical concern in today's data-driven world.\n",
        "\n",
        "\n",
        "[GitHub Link](https://github.com/chardiwall/DPSNN)\n",
        "\n",
        "---\n",
        "## Frameworks\n",
        "SNN framwork: [SNNTorch](https://snntorch.readthedocs.io/en/latest/)\n",
        "\n",
        "DP framwork: [Opacus](https://github.com/pytorch/opacus)\n",
        "\n",
        "---\n",
        "## Datasets\n",
        "\n",
        "| Static      | Neuromorphic |\n",
        "--------------|----------------\n",
        "| [CIFAR10](https://www.cs.toronto.edu/~kriz/cifar.html)      |[N-MNIST](https://www.garrickorchard.com/datasets/n-mnist#h.p_ID_38) |\n",
        "| [MNIST](https://yann.lecun.com/exdb/mnist/)      | [CIFAR10-DVS](https://figshare.com/articles/dataset/CIFAR10-DVS_New/4724671/2) |\n",
        "| [Fashion-MNIST](https://github.com/zalandoresearch/fashion-mnist)      |   |\n",
        "\n",
        "---\n"
      ]
    },
    {
      "cell_type": "markdown",
      "metadata": {
        "id": "WFHM-9gk2Bug"
      },
      "source": [
        "# Loading Essential Libraries"
      ]
    },
    {
      "cell_type": "code",
      "execution_count": 2,
      "metadata": {
        "colab": {
          "base_uri": "https://localhost:8080/"
        },
        "id": "HEGy77YL3Aug",
        "outputId": "9645cd8a-3c69-4ec5-edc6-111c1d70980c"
      },
      "outputs": [
        {
          "output_type": "stream",
          "name": "stdout",
          "text": [
            "\u001b[2K     \u001b[90m━━━━━━━━━━━━━━━━━━━━━━━━━━━━━━━━━━━━━━━━\u001b[0m \u001b[32m109.0/109.0 kB\u001b[0m \u001b[31m2.2 MB/s\u001b[0m eta \u001b[36m0:00:00\u001b[0m\n",
            "\u001b[2K     \u001b[90m━━━━━━━━━━━━━━━━━━━━━━━━━━━━━━━━━━━━━━━━\u001b[0m \u001b[32m76.2/76.2 kB\u001b[0m \u001b[31m6.6 MB/s\u001b[0m eta \u001b[36m0:00:00\u001b[0m\n",
            "\u001b[?25h"
          ]
        }
      ],
      "source": [
        "# !pip install -q opacus\n",
        "!pip install -q snntorch"
      ]
    },
    {
      "cell_type": "code",
      "execution_count": null,
      "metadata": {
        "id": "VGWhf2je6V0i"
      },
      "outputs": [],
      "source": [
        "# Mounting Google Drive as drive\n",
        "from google.colab import drive\n",
        "drive.mount('drive')"
      ]
    },
    {
      "cell_type": "code",
      "execution_count": 3,
      "metadata": {
        "id": "V3pG9qP43SUH"
      },
      "outputs": [],
      "source": [
        "import os\n",
        "import sys\n",
        "import itertools\n",
        "from copy import copy\n",
        "from glob import glob\n",
        "from tqdm import tqdm\n",
        "from zipfile import ZipFile\n",
        "from IPython.display import clear_output\n",
        "\n",
        "import numpy as np\n",
        "import matplotlib.pyplot as plt\n",
        "\n",
        "import seaborn as sns\n",
        "\n",
        "\n",
        "import torch\n",
        "from torch import nn\n",
        "from torch.utils.data import Dataset, DataLoader\n",
        "\n",
        "from torchsummary import summary\n",
        "from torchvision import datasets, transforms\n",
        "\n",
        "\n",
        "import snntorch as snn\n",
        "from snntorch import functional as SF\n",
        "from snntorch import spikeplot as splt\n",
        "from snntorch import utils, surrogate"
      ]
    },
    {
      "cell_type": "markdown",
      "metadata": {
        "id": "I20KiteW3n1F"
      },
      "source": [
        "# Unzipping and Loading Data"
      ]
    },
    {
      "cell_type": "markdown",
      "metadata": {
        "id": "xV4NAFuU3sAr"
      },
      "source": [
        "## Neuromorphic Data"
      ]
    },
    {
      "cell_type": "code",
      "execution_count": null,
      "metadata": {
        "id": "3qBkFa3i3y3d"
      },
      "outputs": [],
      "source": [
        "# N-MNIST\n",
        "\n",
        "# unzipping the data\n",
        "base_dir_path = '/content/drive/MyDrive/Colab Notebooks/DPSNN/N-MNIST/'\n",
        "train_zip_name = 'Copy of Train'\n",
        "test_zip_name = 'Copy of Test'\n",
        "\n",
        "for zip_file in [train_zip_name, test_zip_name]:\n",
        "  zip_path = os.path.join(base_dir_path, zip_file+'.zip')\n",
        "\n",
        "  with ZipFile(zip_path, 'r') as zip_ref:\n",
        "    # extraction_path = os.path.join(base_dir_path, zip_file)\n",
        "    # if not (os.path.exists(extraction_path)):\n",
        "    #   os.mkdir(extraction_path)\n",
        "    zip_ref.extractall(base_dir_path)\n"
      ]
    },
    {
      "cell_type": "code",
      "execution_count": null,
      "metadata": {
        "id": "WEntHGB87KkU"
      },
      "outputs": [],
      "source": [
        "# CIFAR10-DVS\n",
        "base_dir_path = '/content/drive/MyDrive/Colab Notebooks/DPSNN/CIFAR10-DVS'\n",
        "file_name = 'CIFAR10-DVS.zip'\n",
        "\n",
        "with ZipFile(os.path.join(base_dir_path, file_name), 'r') as zip_ref:\n",
        "  zip_ref.extractall(base_dir_path)"
      ]
    },
    {
      "cell_type": "markdown",
      "metadata": {
        "id": "eRVHqqevWViG"
      },
      "source": [
        "## Static Data"
      ]
    },
    {
      "cell_type": "code",
      "execution_count": 4,
      "metadata": {
        "id": "BoQr-tHJtQt0"
      },
      "outputs": [],
      "source": [
        "def fetch_static_data(name = 'mnist', transform = None, batch_size = 64, shuffle = True):\n",
        "  \"\"\"\n",
        "    Fetches static datasets such as MNIST, Fashion MNIST, and CIFAR10.\n",
        "\n",
        "    Args:\n",
        "    - name (str): Name of the dataset ('mnist', 'fashion-mnist', 'cifar10').\n",
        "    - transform (callable, optional): A function/transform to apply to the data.\n",
        "    - batch_size (int, optional): Number of samples in each batch.\n",
        "    - shuffle (bool, optional): Set to True to shuffle the data.\n",
        "\n",
        "    Returns:\n",
        "    - train_loader (DataLoader): DataLoader for the training set.\n",
        "    - test_loader (DataLoader): DataLoader for the test set.\n",
        "    \"\"\"\n",
        "\n",
        "\n",
        "  # MNIST\n",
        "  if name.lower() == 'mnist':\n",
        "    train = datasets.MNIST(root = '.', train=True, transform=transform, download=True)\n",
        "    test = datasets.MNIST(root = '.', train=False, transform=transform, download=True)\n",
        "\n",
        "  # Fashion MNIST\n",
        "  elif name.lower() == 'fashion-mnist':\n",
        "    train = datasets.FashionMNIST(root = '.', train=True, transform=transform, download=True)\n",
        "    test = datasets.FashionMNIST(root = '.', train=False, transform=transform, download=True)\n",
        "\n",
        "  # CIFAR10\n",
        "  elif name.lower() == 'cifar-10':\n",
        "    train = datasets.CIFAR10('.', train = True, transform = transform, download = True)\n",
        "    test = datasets.CIFAR10('.', train = False, transform = transform, download = True)\n",
        "\n",
        "  else:\n",
        "    raise Exception('Error! '+ name +' dataset not found...')\n",
        "\n",
        "  train_loader = DataLoader(train, batch_size= batch_size, shuffle=shuffle, drop_last = True)\n",
        "  test_loader = DataLoader(test, batch_size= batch_size, shuffle=shuffle, drop_last = True)\n",
        "\n",
        "  return train_loader, test_loader"
      ]
    },
    {
      "cell_type": "markdown",
      "metadata": {
        "id": "ThWOqbh5ZfDN"
      },
      "source": [
        "# Building SNN"
      ]
    },
    {
      "cell_type": "markdown",
      "metadata": {
        "id": "AGBuN5hW39kS"
      },
      "source": [
        "## Initializing The Network"
      ]
    },
    {
      "cell_type": "markdown",
      "metadata": {
        "id": "TcX4NvIsxArl"
      },
      "source": [
        "\n",
        "<details>\n",
        "<summary> Show Code Block </summary>\n",
        "```\n",
        "class SNN(nn.Module):\n",
        "  def __init__(self):\n",
        "    super().__init__()\n",
        "\n",
        "    # First convolutional block\n",
        "    self.cb_01 = nn.Sequential(\n",
        "        nn.Conv2d(in_channels = 1, out_channels = 12, kernel_size = 5),\n",
        "        nn.GroupNorm(num_groups = 6, num_channels= 12),\n",
        "        snn.Leaky(beta = 0.5, spike_grad = surrogate.fast_sigmoid(slope = 25), init_hidden = True),\n",
        "    )\n",
        "\n",
        "    # Second convolutional block\n",
        "    self.cb_02 = nn.Sequential(\n",
        "        nn.Conv2d(in_channels = 12, out_channels = 64, kernel_size = 5),\n",
        "        nn.GroupNorm(num_groups = 8, num_channels = 64),\n",
        "        snn.Leaky(beta = 0.5, spike_grad = surrogate.fast_sigmoid(slope = 25), init_hidden = True),\n",
        "    )\n",
        "\n",
        "    # Average pooling layer\n",
        "    self.pooling = nn.AvgPool2d(3)\n",
        "\n",
        "    # Third convolutional block\n",
        "    self.cb_03 = nn.Sequential(\n",
        "        nn.Conv2d(in_channels = 64, out_channels = 128, kernel_size = 5),\n",
        "        nn.GroupNorm(num_groups = 8, num_channels = 128),\n",
        "        snn.Leaky(beta = 0.5, spike_grad = surrogate.fast_sigmoid(slope = 25), init_hidden = True),\n",
        "    )\n",
        "\n",
        "    # Fully Connected Layer\n",
        "    self.FC = nn.Sequential(\n",
        "        nn.Flatten(),\n",
        "        nn.Linear(in_features = 128 * 2 * 2, out_features= 10),\n",
        "        snn.Leaky(beta = 0.5, spike_grad = surrogate.fast_sigmoid(slope = 25), init_hidden = True, output=True)\n",
        "    )\n",
        "    \n",
        "  def forward(self, x):\n",
        "    # Forward pass through the network\n",
        "    x = self.cb_01(x)\n",
        "    x = self.cb_02(x)\n",
        "    x = self.pooling(x)\n",
        "    x = self.cb_03(x)\n",
        "    x = self.FC(x)\n",
        "\n",
        "    return x\n",
        "```\n",
        "</details>"
      ]
    },
    {
      "cell_type": "code",
      "execution_count": 5,
      "metadata": {
        "id": "Y6PiDfncsNWa"
      },
      "outputs": [],
      "source": [
        "# using gpu if available\n",
        "device = torch.device('cuda') if torch.cuda.is_available() else 'cpu'"
      ]
    },
    {
      "cell_type": "markdown",
      "metadata": {
        "id": "P0NEiP-heStc"
      },
      "source": [
        "### Mnist Architecture"
      ]
    },
    {
      "cell_type": "code",
      "execution_count": 6,
      "metadata": {
        "id": "M0bnQscP90CW"
      },
      "outputs": [],
      "source": [
        "mnist_net = nn.Sequential(\n",
        "  # First convolution block\n",
        "  nn.Conv2d(in_channels = 1, out_channels = 32, kernel_size = 7),\n",
        "  nn.GroupNorm(num_groups = 8, num_channels= 32),\n",
        "  snn.Leaky(beta = 0.5, spike_grad = surrogate.fast_sigmoid(slope = 25), init_hidden = True),\n",
        "\n",
        "  # Pooling\n",
        "  nn.AvgPool2d(2),\n",
        "\n",
        "  #Second convolution block\n",
        "  nn.Conv2d(in_channels = 32, out_channels = 64, kernel_size = 4),\n",
        "  nn.GroupNorm(num_groups = 8, num_channels = 64),\n",
        "  snn.Leaky(beta = 0.5, spike_grad = surrogate.fast_sigmoid(slope = 25), init_hidden = True),\n",
        "\n",
        "  # Pooling\n",
        "  nn.AvgPool2d(2),\n",
        "\n",
        "  # Fully connected or output block\n",
        "  nn.Flatten(),\n",
        "  nn.Linear(in_features = 64 * 4 * 4, out_features= 10),\n",
        "  snn.Leaky(beta = 0.5, spike_grad = surrogate.fast_sigmoid(slope = 25), init_hidden = True, output=True)\n",
        ").to(device)"
      ]
    },
    {
      "cell_type": "markdown",
      "metadata": {
        "id": "p5-8I_deitiB"
      },
      "source": [
        "### CIFAR-10"
      ]
    },
    {
      "cell_type": "code",
      "execution_count": 8,
      "metadata": {
        "id": "PNAIigCzeeFb"
      },
      "outputs": [],
      "source": [
        "cifar_10 = nn.Sequential(\n",
        "  # First convolution block\n",
        "  nn.Conv2d(in_channels = 1, out_channels = 64, kernel_size = 3, stride = 1),\n",
        "  nn.GroupNorm(num_groups = 8, num_channels= 64),\n",
        "  snn.Leaky(beta = 0.5, spike_grad = surrogate.fast_sigmoid(slope = 25), init_hidden = True),\n",
        "\n",
        "  # Second convolution block\n",
        "  nn.Conv2d(in_channels = 64, out_channels = 64, kernel_size = 3, stride = 1),\n",
        "  nn.GroupNorm(num_groups = 8, num_channels= 64),\n",
        "  snn.Leaky(beta = 0.5, spike_grad = surrogate.fast_sigmoid(slope = 25), init_hidden = True),\n",
        "\n",
        "  # Pooling\n",
        "  nn.AvgPool2d(5),\n",
        "\n",
        "  # Third convolution block\n",
        "  nn.Conv2d(in_channels = 64, out_channels = 128, kernel_size = 3, stride = 1),\n",
        "  nn.GroupNorm(num_groups = 8, num_channels= 128),\n",
        "  snn.Leaky(beta = 0.5, spike_grad = surrogate.fast_sigmoid(slope = 25), init_hidden = True),\n",
        "\n",
        "  # Forth convolution block\n",
        "  nn.Conv2d(in_channels = 128, out_channels = 128, kernel_size = 3, stride = 1),\n",
        "  nn.GroupNorm(num_groups = 8, num_channels= 128),\n",
        "  snn.Leaky(beta = 0.5, spike_grad = surrogate.fast_sigmoid(slope = 25), init_hidden = True),\n",
        "\n",
        "  # Pooling\n",
        "  nn.AvgPool2d(5),\n",
        "\n",
        "  # Fifth convolution block\n",
        "  nn.Conv2d(in_channels = 128, out_channels = 128, kernel_size = 3, stride = 1),\n",
        "  nn.GroupNorm(num_groups = 8, num_channels= 128),\n",
        "  snn.Leaky(beta = 0.5, spike_grad = surrogate.fast_sigmoid(slope = 25), init_hidden = True),\n",
        "\n",
        "  # Sixth convolution block\n",
        "  nn.Conv2d(in_channels = 128, out_channels = 128, kernel_size = 3, stride = 1),\n",
        "  nn.GroupNorm(num_groups = 8, num_channels= 128),\n",
        "  snn.Leaky(beta = 0.5, spike_grad = surrogate.fast_sigmoid(slope = 25), init_hidden = True),\n",
        "\n",
        "  # Pooling\n",
        "  nn.AvgPool2d(5),\n",
        "\n",
        "  # Seventh convolution block\n",
        "  nn.Conv2d(in_channels = 128, out_channels = 256, kernel_size = 3, stride = 1),\n",
        "  nn.GroupNorm(num_groups = 8, num_channels= 256),\n",
        "  snn.Leaky(beta = 0.5, spike_grad = surrogate.fast_sigmoid(slope = 25), init_hidden = True),\n",
        "\n",
        "  # eighth convolution block\n",
        "  nn.Conv2d(in_channels = 256, out_channels = 256, kernel_size = 3, stride = 1),\n",
        "  nn.GroupNorm(num_groups = 8, num_channels= 256),\n",
        "  snn.Leaky(beta = 0.5, spike_grad = surrogate.fast_sigmoid(slope = 25), init_hidden = True),\n",
        "\n",
        "  # Pooling\n",
        "  nn.AvgPool2d(4),\n",
        "\n",
        "  # Fully connected or output block\n",
        "  nn.Flatten(),\n",
        "  nn.Linear(in_features = 256 * 4 * 4, out_features= 10),\n",
        "  snn.Leaky(beta = 0.5, spike_grad = surrogate.fast_sigmoid(slope = 25), init_hidden = True, output=True)\n",
        ").to(device)"
      ]
    },
    {
      "cell_type": "markdown",
      "metadata": {
        "id": "UEQWs0_1lNWX"
      },
      "source": [
        "### CIFAR-10-DVS"
      ]
    },
    {
      "cell_type": "code",
      "execution_count": 9,
      "metadata": {
        "id": "eZec_T5jkLNo"
      },
      "outputs": [],
      "source": [
        "cifar_10_dvs = nn.Sequential(\n",
        "  # First convolution block\n",
        "  nn.Conv2d(in_channels = 1, out_channels = 64, kernel_size = 3, stride = 1),\n",
        "  nn.GroupNorm(num_groups = 8, num_channels= 64),\n",
        "  snn.Leaky(beta = 0.5, spike_grad = surrogate.fast_sigmoid(slope = 25), init_hidden = True),\n",
        "\n",
        "  # Second convolution block\n",
        "  nn.Conv2d(in_channels = 64, out_channels = 64, kernel_size = 3, stride = 1),\n",
        "  nn.GroupNorm(num_groups = 8, num_channels= 64),\n",
        "  snn.Leaky(beta = 0.5, spike_grad = surrogate.fast_sigmoid(slope = 25), init_hidden = True),\n",
        "\n",
        "  # Pooling\n",
        "  nn.AvgPool2d(4),\n",
        "\n",
        "  # Third convolution block\n",
        "  nn.Conv2d(in_channels = 64, out_channels = 128, kernel_size = 3, stride = 1),\n",
        "  nn.GroupNorm(num_groups = 8, num_channels= 128),\n",
        "  snn.Leaky(beta = 0.5, spike_grad = surrogate.fast_sigmoid(slope = 25), init_hidden = True),\n",
        "\n",
        "  # Pooling\n",
        "  nn.AvgPool2d(4),\n",
        "\n",
        "  # Forth convolution block\n",
        "  nn.Conv2d(in_channels = 128, out_channels = 256, kernel_size = 3, stride = 1),\n",
        "  nn.GroupNorm(num_groups = 8, num_channels= 256),\n",
        "  snn.Leaky(beta = 0.5, spike_grad = surrogate.fast_sigmoid(slope = 25), init_hidden = True),\n",
        "\n",
        "  # Fifth convolution block\n",
        "  nn.Conv2d(in_channels = 256, out_channels = 256, kernel_size = 3, stride = 1),\n",
        "  nn.GroupNorm(num_groups = 8, num_channels= 256),\n",
        "  snn.Leaky(beta = 0.5, spike_grad = surrogate.fast_sigmoid(slope = 25), init_hidden = True),\n",
        "\n",
        "  # Pooling\n",
        "  nn.AvgPool2d(4),\n",
        "\n",
        "  # Sixth convolution block\n",
        "  nn.Conv2d(in_channels = 256, out_channels = 512, kernel_size = 3, stride = 1),\n",
        "  nn.GroupNorm(num_groups = 8, num_channels= 512),\n",
        "  snn.Leaky(beta = 0.5, spike_grad = surrogate.fast_sigmoid(slope = 25), init_hidden = True),\n",
        "\n",
        "  # Pooling\n",
        "  nn.AvgPool2d(4),\n",
        "\n",
        "   # Seventh convolution block\n",
        "  nn.Conv2d(in_channels = 512, out_channels = 1024, kernel_size = 3, stride = 1),\n",
        "  nn.GroupNorm(num_groups = 8, num_channels= 1024),\n",
        "  snn.Leaky(beta = 0.5, spike_grad = surrogate.fast_sigmoid(slope = 25), init_hidden = True),\n",
        "\n",
        "  # Fifth convolution block\n",
        "  nn.Conv2d(in_channels = 1024, out_channels = 1024, kernel_size = 3, stride = 1),\n",
        "  nn.GroupNorm(num_groups = 8, num_channels= 1024),\n",
        "  snn.Leaky(beta = 0.5, spike_grad = surrogate.fast_sigmoid(slope = 25), init_hidden = True),\n",
        "\n",
        "  # Pooling\n",
        "  nn.AvgPool2d(4),\n",
        "\n",
        "  # Fully connected or output block\n",
        "  nn.Flatten(),\n",
        "  nn.Linear(in_features = 1024 * 4 * 4, out_features= 10),\n",
        "  snn.Leaky(beta = 0.5, spike_grad = surrogate.fast_sigmoid(slope = 25), init_hidden = True, output=True)\n",
        ").to(device)"
      ]
    },
    {
      "cell_type": "markdown",
      "metadata": {
        "id": "JHVA8FTp37lq"
      },
      "source": [
        "## Training the Network"
      ]
    },
    {
      "cell_type": "code",
      "execution_count": 7,
      "metadata": {
        "id": "aQRtO_0V4H3Z"
      },
      "outputs": [],
      "source": [
        "# tranformer\n",
        "transform = transforms.Compose([\n",
        "  transforms.Resize(size = (28, 28)),\n",
        "  transforms.Grayscale(),\n",
        "  transforms.ToTensor(),\n",
        "  transforms.Normalize((0,), (1,))\n",
        "])"
      ]
    },
    {
      "cell_type": "code",
      "execution_count": 8,
      "metadata": {
        "id": "uZDKlnKfgpOY"
      },
      "outputs": [],
      "source": [
        "def plot_training_history(history):\n",
        "    # Set the style of seaborn for more beautiful plots\n",
        "    sns.set(style=\"whitegrid\")\n",
        "\n",
        "    # Set up the matplotlib figure with a certain size\n",
        "    fig, axes = plt.subplots(1, 2, figsize=(6, 3))\n",
        "\n",
        "    # Plot Training and Testing Accuracy\n",
        "    axes[0].plot(history['Training Accuracy'], label='Training Accuracy')\n",
        "    axes[0].plot(history['Testing Accuracy'], label='Testing Accuracy')\n",
        "    axes[0].set_title('Training and Testing Accuracy')\n",
        "    axes[0].set_xlabel('Epochs')\n",
        "    axes[0].set_ylabel('Accuracy')\n",
        "    axes[0].legend()\n",
        "\n",
        "    # Plot Training and Testing Loss\n",
        "    axes[1].plot(history['Training Loss'], label='Training Loss')\n",
        "    axes[1].plot(history['Testing Loss'], label='Testing Loss')\n",
        "    axes[1].set_title('Training and Testing Loss')\n",
        "    axes[1].set_xlabel('Epochs')\n",
        "    axes[1].set_ylabel('Loss')\n",
        "    axes[1].legend()\n",
        "\n",
        "    # Display the plots\n",
        "    plt.tight_layout()\n",
        "    plt.show()"
      ]
    },
    {
      "cell_type": "code",
      "execution_count": 9,
      "metadata": {
        "id": "_UNW4dmUDroq"
      },
      "outputs": [],
      "source": [
        "def fwrd_pass(net, num_steps, data):\n",
        "  mem_rec = []\n",
        "  spk_rec = []\n",
        "  utils.reset(net)  # resets hidden states for all LIF neurons in net\n",
        "\n",
        "  for step in range(num_steps):\n",
        "      spk_out, mem_out = net(data)\n",
        "      spk_rec.append(spk_out)\n",
        "      mem_rec.append(mem_out)\n",
        "\n",
        "  return torch.stack(spk_rec), torch.stack(mem_rec)"
      ]
    },
    {
      "cell_type": "code",
      "execution_count": 10,
      "metadata": {
        "id": "0h2H5X5M_nOA"
      },
      "outputs": [],
      "source": [
        "def train_network(net = mnist_net, dataset_name = 'mnist', epoches = 1, lr = 1e-5, betas=(0.9, 0.999), transform = transform, batch_size = 128, shuffle = True):\n",
        "  # storing training and testin history\n",
        "  history = dict()\n",
        "  history['Training Accuracy'] = list()\n",
        "  history['Testing Accuracy'] = list()\n",
        "\n",
        "  history['Training Loss'] = list()\n",
        "  history['Testing Loss'] = list()\n",
        "\n",
        "  # Define loss function and optimizer\n",
        "  loss = SF.ce_rate_loss()\n",
        "  optimizer = torch.optim.AdamW(net.parameters(), lr = lr, betas = betas)\n",
        "\n",
        "  # Fetching dataset\n",
        "  train_loader, test_loader = fetch_static_data( name = dataset_name, transform = transform, batch_size = batch_size, shuffle = shuffle)\n",
        "\n",
        "  # Creating Training and evaluation loop\n",
        "  for epoch in range(epoches):\n",
        "    # Training model\n",
        "    net.train()\n",
        "\n",
        "    # Tracking accuracy and loss of training.\n",
        "    train_acc, train_loss, train_acc_total = 0, 0, 0\n",
        "\n",
        "    for X, y in train_loader:\n",
        "      # sending the data to same device\n",
        "      X, y = X.to(device), y.to(device)\n",
        "\n",
        "      # forward pass\n",
        "      spk_rec, _ = fwrd_pass(net, 10, X)\n",
        "\n",
        "      # initialize the loss & sum over time\n",
        "      loss_val = loss(spk_rec, y)\n",
        "\n",
        "      # Gradient calculation + weight update\n",
        "      optimizer.zero_grad()\n",
        "      loss_val.backward()\n",
        "      optimizer.step()\n",
        "\n",
        "      # calculating accuracy and loss\n",
        "      train_acc += SF.accuracy_rate(spk_rec, y) * spk_rec.size(1)\n",
        "      train_acc_total += spk_rec.size(1)\n",
        "\n",
        "      train_loss += loss_val.item()\n",
        "\n",
        "\n",
        "    # Evaluating model\n",
        "    net.eval\n",
        "\n",
        "    # Tracking accuracy and loss of training.\n",
        "    test_acc, test_loss, test_acc_total = 0, 0, 0\n",
        "\n",
        "    with torch.inference_mode():\n",
        "      for X, y in test_loader:\n",
        "        # sending the data to same device\n",
        "        X, y = X.to(device), y.to(device)\n",
        "\n",
        "        # forward pass\n",
        "        spk_rec, _ = fwrd_pass(net, 10, X)\n",
        "\n",
        "        # initialize the loss & sum over time\n",
        "        loss_val = loss(spk_rec, y)\n",
        "\n",
        "\n",
        "        # calculating accuracy and loss\n",
        "        test_acc += SF.accuracy_rate(spk_rec, y) * spk_rec.size(1)\n",
        "        test_acc_total += spk_rec.size(1)\n",
        "\n",
        "        test_loss += loss_val.item()\n",
        "\n",
        "\n",
        "    history['Training Accuracy'].append(train_acc/train_acc_total)\n",
        "    history['Testing Accuracy'].append(test_acc/test_acc_total)\n",
        "\n",
        "    history['Training Loss'].append(train_loss/batch_size)\n",
        "    history['Testing Loss'].append(test_loss/batch_size)\n",
        "\n",
        "    print(f'Epoch: {epoch}: Train Accuracy -> {(train_acc/train_acc_total) * 100:.2f}, Test Accuracy -> {(test_acc/test_acc_total) * 100:.2f}, Train Loss -> {(train_loss/batch_size):.2f}, Test Loss -> {(test_loss/batch_size):.2f}')\n",
        "\n",
        "\n",
        "  return [net, history]"
      ]
    },
    {
      "cell_type": "code",
      "execution_count": 11,
      "metadata": {
        "colab": {
          "base_uri": "https://localhost:8080/"
        },
        "id": "v1hT0XaynYWI",
        "outputId": "475625f0-4f36-4b49-ca38-6e2e9ff6769a"
      },
      "outputs": [
        {
          "output_type": "stream",
          "name": "stdout",
          "text": [
            "----------------------------------------------------------------\n",
            "        Layer (type)               Output Shape         Param #\n",
            "================================================================\n",
            "            Conv2d-1           [-1, 32, 22, 22]           1,600\n",
            "         GroupNorm-2           [-1, 32, 22, 22]              64\n",
            "             Leaky-3           [-1, 32, 22, 22]               0\n",
            "         AvgPool2d-4           [-1, 32, 11, 11]               0\n",
            "            Conv2d-5             [-1, 64, 8, 8]          32,832\n",
            "         GroupNorm-6             [-1, 64, 8, 8]             128\n",
            "             Leaky-7             [-1, 64, 8, 8]               0\n",
            "         AvgPool2d-8             [-1, 64, 4, 4]               0\n",
            "           Flatten-9                 [-1, 1024]               0\n",
            "           Linear-10                   [-1, 10]          10,250\n",
            "            Leaky-11       [[-1, 10], [-1, 10]]               0\n",
            "================================================================\n",
            "Total params: 44,874\n",
            "Trainable params: 44,874\n",
            "Non-trainable params: 0\n",
            "----------------------------------------------------------------\n",
            "Input size (MB): 0.00\n",
            "Forward/backward pass size (MB): 0.49\n",
            "Params size (MB): 0.17\n",
            "Estimated Total Size (MB): 0.67\n",
            "----------------------------------------------------------------\n"
          ]
        }
      ],
      "source": [
        "summary(mnist_net, (1, 28, 28))"
      ]
    },
    {
      "cell_type": "code",
      "execution_count": 12,
      "metadata": {
        "colab": {
          "base_uri": "https://localhost:8080/",
          "height": 1000
        },
        "id": "ylhH1DYgj-YI",
        "outputId": "3ea4f272-3ab8-405a-aae1-ede7bd666531"
      },
      "outputs": [
        {
          "output_type": "stream",
          "name": "stdout",
          "text": [
            "Downloading http://yann.lecun.com/exdb/mnist/train-images-idx3-ubyte.gz\n",
            "Downloading http://yann.lecun.com/exdb/mnist/train-images-idx3-ubyte.gz to ./MNIST/raw/train-images-idx3-ubyte.gz\n"
          ]
        },
        {
          "output_type": "stream",
          "name": "stderr",
          "text": [
            "100%|██████████| 9912422/9912422 [00:00<00:00, 159549436.43it/s]\n"
          ]
        },
        {
          "output_type": "stream",
          "name": "stdout",
          "text": [
            "Extracting ./MNIST/raw/train-images-idx3-ubyte.gz to ./MNIST/raw\n",
            "\n",
            "Downloading http://yann.lecun.com/exdb/mnist/train-labels-idx1-ubyte.gz\n",
            "Downloading http://yann.lecun.com/exdb/mnist/train-labels-idx1-ubyte.gz to ./MNIST/raw/train-labels-idx1-ubyte.gz\n"
          ]
        },
        {
          "output_type": "stream",
          "name": "stderr",
          "text": [
            "100%|██████████| 28881/28881 [00:00<00:00, 132099993.26it/s]"
          ]
        },
        {
          "output_type": "stream",
          "name": "stdout",
          "text": [
            "Extracting ./MNIST/raw/train-labels-idx1-ubyte.gz to ./MNIST/raw\n",
            "\n",
            "Downloading http://yann.lecun.com/exdb/mnist/t10k-images-idx3-ubyte.gz\n"
          ]
        },
        {
          "output_type": "stream",
          "name": "stderr",
          "text": [
            "\n"
          ]
        },
        {
          "output_type": "stream",
          "name": "stdout",
          "text": [
            "Downloading http://yann.lecun.com/exdb/mnist/t10k-images-idx3-ubyte.gz to ./MNIST/raw/t10k-images-idx3-ubyte.gz\n"
          ]
        },
        {
          "output_type": "stream",
          "name": "stderr",
          "text": [
            "100%|██████████| 1648877/1648877 [00:00<00:00, 105045664.24it/s]"
          ]
        },
        {
          "output_type": "stream",
          "name": "stdout",
          "text": [
            "Extracting ./MNIST/raw/t10k-images-idx3-ubyte.gz to ./MNIST/raw\n",
            "\n",
            "Downloading http://yann.lecun.com/exdb/mnist/t10k-labels-idx1-ubyte.gz\n",
            "Downloading http://yann.lecun.com/exdb/mnist/t10k-labels-idx1-ubyte.gz to ./MNIST/raw/t10k-labels-idx1-ubyte.gz\n"
          ]
        },
        {
          "output_type": "stream",
          "name": "stderr",
          "text": [
            "\n",
            "100%|██████████| 4542/4542 [00:00<00:00, 9631207.67it/s]\n"
          ]
        },
        {
          "output_type": "stream",
          "name": "stdout",
          "text": [
            "Extracting ./MNIST/raw/t10k-labels-idx1-ubyte.gz to ./MNIST/raw\n",
            "\n",
            "Epoch: 0: Train Accuracy -> 16.27, Test Accuracy -> 30.45, Train Loss -> 0.52, Test Loss -> 0.08\n",
            "Epoch: 1: Train Accuracy -> 44.00, Test Accuracy -> 55.98, Train Loss -> 0.50, Test Loss -> 0.08\n",
            "Epoch: 2: Train Accuracy -> 65.71, Test Accuracy -> 78.48, Train Loss -> 0.48, Test Loss -> 0.08\n",
            "Epoch: 3: Train Accuracy -> 79.10, Test Accuracy -> 78.50, Train Loss -> 0.46, Test Loss -> 0.07\n",
            "Epoch: 4: Train Accuracy -> 75.75, Test Accuracy -> 74.84, Train Loss -> 0.44, Test Loss -> 0.07\n",
            "Epoch: 5: Train Accuracy -> 75.65, Test Accuracy -> 78.24, Train Loss -> 0.42, Test Loss -> 0.07\n",
            "Epoch: 6: Train Accuracy -> 81.95, Test Accuracy -> 86.45, Train Loss -> 0.41, Test Loss -> 0.07\n",
            "Epoch: 7: Train Accuracy -> 87.15, Test Accuracy -> 89.22, Train Loss -> 0.40, Test Loss -> 0.06\n",
            "Epoch: 8: Train Accuracy -> 89.10, Test Accuracy -> 90.71, Train Loss -> 0.39, Test Loss -> 0.06\n",
            "Epoch: 9: Train Accuracy -> 90.19, Test Accuracy -> 91.37, Train Loss -> 0.38, Test Loss -> 0.06\n",
            "Epoch: 10: Train Accuracy -> 90.97, Test Accuracy -> 92.06, Train Loss -> 0.38, Test Loss -> 0.06\n",
            "Epoch: 11: Train Accuracy -> 91.63, Test Accuracy -> 92.54, Train Loss -> 0.38, Test Loss -> 0.06\n",
            "Epoch: 12: Train Accuracy -> 92.15, Test Accuracy -> 92.99, Train Loss -> 0.37, Test Loss -> 0.06\n",
            "Epoch: 13: Train Accuracy -> 92.62, Test Accuracy -> 93.40, Train Loss -> 0.37, Test Loss -> 0.06\n",
            "Epoch: 14: Train Accuracy -> 93.02, Test Accuracy -> 93.80, Train Loss -> 0.37, Test Loss -> 0.06\n",
            "Epoch: 15: Train Accuracy -> 93.37, Test Accuracy -> 93.97, Train Loss -> 0.37, Test Loss -> 0.06\n",
            "Epoch: 16: Train Accuracy -> 93.68, Test Accuracy -> 94.26, Train Loss -> 0.37, Test Loss -> 0.06\n",
            "Epoch: 17: Train Accuracy -> 93.96, Test Accuracy -> 94.50, Train Loss -> 0.36, Test Loss -> 0.06\n",
            "Epoch: 18: Train Accuracy -> 94.16, Test Accuracy -> 94.79, Train Loss -> 0.36, Test Loss -> 0.06\n",
            "Epoch: 19: Train Accuracy -> 94.42, Test Accuracy -> 95.07, Train Loss -> 0.36, Test Loss -> 0.06\n"
          ]
        },
        {
          "output_type": "display_data",
          "data": {
            "text/plain": [
              "<Figure size 1200x1000 with 2 Axes>"
            ],
            "image/png": "[encoded data removed]"
          },
          "metadata": {}
        }
      ],
      "source": [
        "mnist_history = train_network(net = copy(mnist_net), batch_size = 512, epoches=20)\n",
        "\n",
        "plot_training_history(mnist_history[1])"
      ]
    },
    {
      "cell_type": "code",
      "source": [
        "class AttackModel(nn.Module):\n",
        "    def __init__(self):\n",
        "        super(AttackModel, self).__init__()\n",
        "        self.fc1 = nn.Linear(10, 64)\n",
        "        self.fc2 = nn.Linear(64, 1)\n",
        "        self.sigmoid = nn.Sigmoid()\n",
        "\n",
        "    def forward(self, x):\n",
        "        x = torch.relu(self.fc1(x))\n",
        "        x = self.sigmoid(self.fc2(x))\n",
        "        return x\n",
        "\n",
        "attack_model = AttackModel().to(device)\n",
        "criterion_attack = nn.BCELoss()\n",
        "optimizer_attack = torch.optim.Adam(attack_model.parameters(), lr=0.001)\n",
        "\n",
        "# Fetching dataset\n",
        "train_loader, test_loader = fetch_static_data( name = 'mnist', transform = transform, batch_size = 512, shuffle = True)\n",
        "\n",
        "for epoch in range(5):  # Train for 5 epochs\n",
        "    attack_model.train()\n",
        "    for images, labels in train_loader:\n",
        "        with torch.no_grad():\n",
        "            model_output, _ = mnist_history[0](images.to(device))\n",
        "\n",
        "        optimizer_attack.zero_grad()\n",
        "        attack_input = model_output.detach().to(device)  # Use model predictions as input to attack model\n",
        "        attack_output = attack_model(attack_input)\n",
        "        target = torch.ones_like(attack_output)  # Label all training examples as \"in\" the training set\n",
        "        loss_attack = criterion_attack(attack_output, target.to(device))\n",
        "        loss_attack.backward()\n",
        "        optimizer_attack.step()\n",
        "\n",
        "# Evaluate the attack model\n",
        "attack_model.eval()\n",
        "correct = 0\n",
        "total = 0\n",
        "for images, labels in test_loader:\n",
        "    with torch.no_grad():\n",
        "        model_output, _ = mnist_history[0](images.to(device))\n",
        "    attack_input = model_output.detach().to(device)\n",
        "    attack_output = attack_model(attack_input)\n",
        "    predicted = torch.round(attack_output)\n",
        "    total += labels.size(0)\n",
        "    correct += (predicted == 1).sum().item()\n",
        "\n",
        "print('Accuracy of the attack model on the test dataset: {:.2f}%'.format(100 * correct / total))"
      ],
      "metadata": {
        "colab": {
          "base_uri": "https://localhost:8080/"
        },
        "id": "bUSb9xC2WRrb",
        "outputId": "7ac0aad3-87dc-4fef-e7f4-c80e2aae354a"
      },
      "execution_count": 21,
      "outputs": [
        {
          "output_type": "stream",
          "name": "stdout",
          "text": [
            "Accuracy of the attack model on the test dataset: 100.00%\n"
          ]
        }
      ]
    },
    {
      "cell_type": "code",
      "source": [
        "attack_model.eval()\n",
        "correct = 0\n",
        "total = 0\n",
        "predictions = []\n",
        "\n",
        "for images, labels in test_loader:\n",
        "    with torch.no_grad():\n",
        "        model_output, _ = mnist_history[0](images.to(device))\n",
        "    attack_input = model_output.detach().to(device)\n",
        "    attack_output = attack_model(attack_input)\n",
        "    predicted = torch.round(attack_output)\n",
        "    predictions.append(predicted.cpu().detach().numpy())\n",
        "    total += labels.size(0)\n",
        "    correct += (predicted == 1).sum().item()\n",
        "\n",
        "accuracy = correct / total\n",
        "print('Accuracy of the attack model on the test dataset: {:.2f}%'.format(100 * accuracy))"
      ],
      "metadata": {
        "colab": {
          "base_uri": "https://localhost:8080/"
        },
        "id": "CfR7smAAWb1T",
        "outputId": "50fdf733-27c5-4014-d938-24883fb9268d"
      },
      "execution_count": 37,
      "outputs": [
        {
          "output_type": "stream",
          "name": "stdout",
          "text": [
            "Accuracy of the attack model on the test dataset: 100.00%\n"
          ]
        }
      ]
    },
    {
      "cell_type": "code",
      "source": [
        " print(test_loader.dataset.__doc__)"
      ],
      "metadata": {
        "colab": {
          "base_uri": "https://localhost:8080/"
        },
        "id": "B9T1RI7WWTY4",
        "outputId": "0e6d7d76-af8f-4c91-c47c-9879074b24b6"
      },
      "execution_count": 34,
      "outputs": [
        {
          "output_type": "stream",
          "name": "stdout",
          "text": [
            "`MNIST <http://yann.lecun.com/exdb/mnist/>`_ Dataset.\n",
            "\n",
            "    Args:\n",
            "        root (string): Root directory of dataset where ``MNIST/raw/train-images-idx3-ubyte``\n",
            "            and  ``MNIST/raw/t10k-images-idx3-ubyte`` exist.\n",
            "        train (bool, optional): If True, creates dataset from ``train-images-idx3-ubyte``,\n",
            "            otherwise from ``t10k-images-idx3-ubyte``.\n",
            "        download (bool, optional): If True, downloads the dataset from the internet and\n",
            "            puts it in root directory. If dataset is already downloaded, it is not\n",
            "            downloaded again.\n",
            "        transform (callable, optional): A function/transform that  takes in an PIL image\n",
            "            and returns a transformed version. E.g, ``transforms.RandomCrop``\n",
            "        target_transform (callable, optional): A function/transform that takes in the\n",
            "            target and transforms it.\n",
            "    \n"
          ]
        }
      ]
    },
    {
      "cell_type": "code",
      "execution_count": null,
      "metadata": {
        "id": "sL_RSqCjniy0"
      },
      "outputs": [],
      "source": [
        "summary(mnist_net, (1, 28, 28))"
      ]
    },
    {
      "cell_type": "code",
      "execution_count": null,
      "metadata": {
        "id": "pB1ExdtRfem1"
      },
      "outputs": [],
      "source": [
        "fashion_mnist_history = train_network(net = copy(mnist_net),  dataset_name = 'fashion-mnist', batch_size = 512, , epoches=20)\n",
        "\n",
        "plot_metrics(fashion_mnist_history['train accuracy'], fashion_mnist_history['train loss'], fashion_mnist_history['test accuracy'], fashion_mnist_history['test loss'])"
      ]
    },
    {
      "cell_type": "code",
      "execution_count": null,
      "metadata": {
        "id": "eBR2fIBmnjYC"
      },
      "outputs": [],
      "source": [
        "summary(mnist_net, (1, 28, 28))"
      ]
    },
    {
      "cell_type": "code",
      "execution_count": null,
      "metadata": {
        "id": "ZrNVSJpaFE2b"
      },
      "outputs": [],
      "source": [
        "cifar_10 = train_network(net = copy(mnist_net),  dataset_name = 'cifar-10', batch_size = 512, epoches=20)\n",
        "\n",
        "plot_metrics(cifar_10['train accuracy'], cifar_10['train loss'], cifar_10['test accuracy'], cifar_10['test loss'])"
      ]
    },
    {
      "cell_type": "code",
      "execution_count": null,
      "metadata": {
        "id": "EHDaNjfyn1Uw"
      },
      "outputs": [],
      "source": [
        "l."
      ]
    }
  ],
  "metadata": {
    "accelerator": "GPU",
    "colab": {
      "collapsed_sections": [
        "xV4NAFuU3sAr"
      ],
      "gpuType": "T4",
      "provenance": [],
      "include_colab_link": true
    },
    "kernelspec": {
      "display_name": "Python 3",
      "name": "python3"
    },
    "language_info": {
      "name": "python"
    }
  },
  "nbformat": 4,
  "nbformat_minor": 0
}